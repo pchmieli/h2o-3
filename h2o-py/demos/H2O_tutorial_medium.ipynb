{
 "metadata": {
  "kernelspec": {
   "display_name": "Python 2",
   "language": "python",
   "name": "python2"
  },
  "language_info": {
   "codemirror_mode": {
    "name": "ipython",
    "version": 2
   },
   "file_extension": ".py",
   "mimetype": "text/x-python",
   "name": "python",
   "nbconvert_exporter": "python",
   "pygments_lexer": "ipython2",
   "version": "2.7.9"
  },
  "name": "",
  "signature": "sha256:2a0c0c80d3966da78969c74e4e319971cc806696634ca5031c02d6517d716d48"
 },
 "nbformat": 3,
 "nbformat_minor": 0,
 "worksheets": [
  {
   "cells": [
    {
     "cell_type": "markdown",
     "metadata": {},
     "source": [
      "# H2O Tutorial\n",
      "\n",
      "Author: Spencer Aiello\n",
      "\n",
      "Contact: spencer@h2oai.com\n",
      "\n",
      "This tutorial steps through a quick introduction to H2O's Python API. The goal of this tutorial is to introduce through a complete example H2O's capabilities from Python. Also, to help those that are accustomed to Scikit Learn and Pandas, the demo will be specific call outs for differences between H2O and those packages; this is intended to help anyone that needs to do machine learning on really Big Data make the transition. It is not meant to be a tutorial on machine learning or algorithms.\n",
      "\n",
      "Detailed documentation about H2O's and the Python API is available at http://docs.h2o.ai."
     ]
    },
    {
     "cell_type": "heading",
     "level": 2,
     "metadata": {},
     "source": [
      "Setting up your system for this demo"
     ]
    },
    {
     "cell_type": "markdown",
     "metadata": {},
     "source": [
      "The following code creates two csv files using data from the [Boston Housing dataset](https://archive.ics.uci.edu/ml/datasets/Housing) which is built into scikit-learn and adds them to the local directory"
     ]
    },
    {
     "cell_type": "code",
     "collapsed": false,
     "input": [
      "import pandas as pd\n",
      "import numpy\n",
      "from numpy.random import choice\n",
      "from sklearn.datasets import load_boston\n",
      "\n",
      "import h2o\n",
      "h2o.init()"
     ],
     "language": "python",
     "metadata": {},
     "outputs": [
      {
       "html": [
        "<div style=\"overflow:auto\"><table style=\"width:50%\"><tr><td>H2O cluster uptime: </td>\n",
        "<td>4 seconds 805 milliseconds </td></tr>\n",
        "<tr><td>H2O cluster version: </td>\n",
        "<td>3.3.0.99999</td></tr>\n",
        "<tr><td>H2O cluster name: </td>\n",
        "<td>ece</td></tr>\n",
        "<tr><td>H2O cluster total nodes: </td>\n",
        "<td>1</td></tr>\n",
        "<tr><td>H2O cluster total memory: </td>\n",
        "<td>8.89 GB</td></tr>\n",
        "<tr><td>H2O cluster total cores: </td>\n",
        "<td>8</td></tr>\n",
        "<tr><td>H2O cluster allowed cores: </td>\n",
        "<td>8</td></tr>\n",
        "<tr><td>H2O cluster healthy: </td>\n",
        "<td>True</td></tr>\n",
        "<tr><td>H2O Connection ip: </td>\n",
        "<td>127.0.0.1</td></tr>\n",
        "<tr><td>H2O Connection port: </td>\n",
        "<td>54321</td></tr></table></div>"
       ],
       "metadata": {},
       "output_type": "display_data",
       "text": [
        "--------------------------  --------------------------\n",
        "H2O cluster uptime:         4 seconds 805 milliseconds\n",
        "H2O cluster version:        3.3.0.99999\n",
        "H2O cluster name:           ece\n",
        "H2O cluster total nodes:    1\n",
        "H2O cluster total memory:   8.89 GB\n",
        "H2O cluster total cores:    8\n",
        "H2O cluster allowed cores:  8\n",
        "H2O cluster healthy:        True\n",
        "H2O Connection ip:          127.0.0.1\n",
        "H2O Connection port:        54321\n",
        "--------------------------  --------------------------"
       ]
      }
     ],
     "prompt_number": 49
    },
    {
     "cell_type": "code",
     "collapsed": false,
     "input": [
      "# transfer the boston data from pandas to H2O\n",
      "boston_data = load_boston()\n",
      "X = pd.DataFrame(data=boston_data.data, columns=boston_data.feature_names)\n",
      "X[\"Median_value\"] = boston_data.target\n",
      "X = h2o.H2OFrame(python_obj=X.to_dict(\"list\"))"
     ],
     "language": "python",
     "metadata": {},
     "outputs": [
      {
       "output_type": "stream",
       "stream": "stdout",
       "text": [
        "Uploaded py1b3c880b-d4e9-4b9b-b6a8-e5094ee3961b into cluster with 506 rows and 14 cols\n"
       ]
      }
     ],
     "prompt_number": 50
    },
    {
     "cell_type": "code",
     "collapsed": false,
     "input": [
      "# select 10% for valdation\n",
      "r = X.runif(seed=123456789)\n",
      "train = X[r < 0.9,:]\n",
      "valid = X[r >= 0.9,:]\n",
      "\n",
      "h2o.export_file(train, \"Boston_housing_train.csv\", force=True)\n",
      "h2o.export_file(valid, \"Boston_housing_test.csv\", force=True)"
     ],
     "language": "python",
     "metadata": {},
     "outputs": [],
     "prompt_number": 51
    },
    {
     "cell_type": "markdown",
     "metadata": {},
     "source": [
      "Enable inline plotting in the Jupyter Notebook"
     ]
    },
    {
     "cell_type": "code",
     "collapsed": true,
     "input": [
      "%matplotlib inline\n",
      "import matplotlib.pyplot as plt"
     ],
     "language": "python",
     "metadata": {},
     "outputs": [],
     "prompt_number": 52
    },
    {
     "cell_type": "heading",
     "level": 2,
     "metadata": {},
     "source": [
      "Intro to H2O Data Munging"
     ]
    },
    {
     "cell_type": "markdown",
     "metadata": {},
     "source": [
      "Read csv data into H2O. This loads the data into the H2O column compressed, in-memory, key-value store."
     ]
    },
    {
     "cell_type": "code",
     "collapsed": false,
     "input": [
      "fr = h2o.import_file(\"Boston_housing_train.csv\")"
     ],
     "language": "python",
     "metadata": {},
     "outputs": [
      {
       "output_type": "stream",
       "stream": "stdout",
       "text": [
        "Imported Boston_housing_train.csv. Parsed 462 rows and 14 cols\n"
       ]
      }
     ],
     "prompt_number": 53
    },
    {
     "cell_type": "markdown",
     "metadata": {},
     "source": [
      "View the top of the H2O frame."
     ]
    },
    {
     "cell_type": "code",
     "collapsed": false,
     "input": [
      "fr.head()"
     ],
     "language": "python",
     "metadata": {},
     "outputs": [
      {
       "output_type": "stream",
       "stream": "stdout",
       "text": [
        "H2OFrame with 10 rows and 14 columns: \n",
        "      CRIM    ZN       B  LSTAT  Median_value    AGE  TAX  RAD  CHAS    NOX  \\\n",
        "0  0.00632  18.0  396.90   4.98          24.0   65.2  296    1     0  0.538   \n",
        "1  0.02729   0.0  392.83   4.03          34.7   61.1  242    2     0  0.469   \n",
        "2  0.03237   0.0  394.63   2.94          33.4   45.8  222    3     0  0.458   \n",
        "3  0.06905   0.0  396.90   5.33          36.2   54.2  222    3     0  0.458   \n",
        "4  0.02985   0.0  394.12   5.21          28.7   58.7  222    3     0  0.458   \n",
        "5  0.08829  12.5  395.60  12.43          22.9   66.6  311    5     0  0.524   \n",
        "6  0.14455  12.5  396.90  19.15          27.1   96.1  311    5     0  0.524   \n",
        "7  0.21124  12.5  386.63  29.93          16.5  100.0  311    5     0  0.524   \n",
        "8  0.17004  12.5  386.71  17.10          18.9   85.9  311    5     0  0.524   \n",
        "9  0.22489  12.5  392.52  20.45          15.0   94.3  311    5     0  0.524   \n",
        "\n",
        "      RM  INDUS  PTRATIO     DIS  \n",
        "0  6.575   2.31     15.3  4.0900  \n",
        "1  7.185   7.07     17.8  4.9671  \n",
        "2  6.998   2.18     18.7  6.0622  \n",
        "3  7.147   2.18     18.7  6.0622  \n",
        "4  6.430   2.18     18.7  6.0622  \n",
        "5  6.012   7.87     15.2  5.5605  \n",
        "6  6.172   7.87     15.2  5.9505  \n",
        "7  5.631   7.87     15.2  6.0821  \n",
        "8  6.004   7.87     15.2  6.5921  \n",
        "9  6.377   7.87     15.2  6.3467  \n"
       ]
      },
      {
       "metadata": {},
       "output_type": "pyout",
       "prompt_number": 54,
       "text": []
      }
     ],
     "prompt_number": 54
    },
    {
     "cell_type": "markdown",
     "metadata": {},
     "source": [
      "View the bottom of the H2O Frame"
     ]
    },
    {
     "cell_type": "code",
     "collapsed": false,
     "input": [
      "fr.tail()"
     ],
     "language": "python",
     "metadata": {},
     "outputs": [
      {
       "output_type": "stream",
       "stream": "stdout",
       "text": [
        "H2OFrame with 10 rows and 14 columns: \n",
        "      CRIM  ZN       B  LSTAT  Median_value   AGE  TAX  RAD  CHAS    NOX  \\\n",
        "0  0.28960   0  396.90  21.14          19.7  72.9  391    6     0  0.585   \n",
        "1  0.26838   0  396.90  14.10          18.3  70.6  391    6     0  0.585   \n",
        "2  0.23912   0  396.90  12.92          21.2  65.3  391    6     0  0.585   \n",
        "3  0.17783   0  395.77  15.10          17.5  73.5  391    6     0  0.585   \n",
        "4  0.22438   0  396.90  14.33          16.8  79.7  391    6     0  0.585   \n",
        "5  0.06263   0  391.99   9.67          22.4  69.1  273    1     0  0.573   \n",
        "6  0.04527   0  396.90   9.08          20.6  76.7  273    1     0  0.573   \n",
        "7  0.06076   0  396.90   5.64          23.9  91.0  273    1     0  0.573   \n",
        "8  0.10959   0  393.45   6.48          22.0  89.3  273    1     0  0.573   \n",
        "9  0.04741   0  396.90   7.88          11.9  80.8  273    1     0  0.573   \n",
        "\n",
        "      RM  INDUS  PTRATIO     DIS  \n",
        "0  5.390   9.69     19.2  2.7986  \n",
        "1  5.794   9.69     19.2  2.8927  \n",
        "2  6.019   9.69     19.2  2.4091  \n",
        "3  5.569   9.69     19.2  2.3999  \n",
        "4  6.027   9.69     19.2  2.4982  \n",
        "5  6.593  11.93     21.0  2.4786  \n",
        "6  6.120  11.93     21.0  2.2875  \n",
        "7  6.976  11.93     21.0  2.1675  \n",
        "8  6.794  11.93     21.0  2.3889  \n",
        "9  6.030  11.93     21.0  2.5050  \n"
       ]
      },
      {
       "metadata": {},
       "output_type": "pyout",
       "prompt_number": 55,
       "text": []
      }
     ],
     "prompt_number": 55
    },
    {
     "cell_type": "markdown",
     "metadata": {},
     "source": [
      "Select a column\n",
      "\n",
      "fr[\"VAR_NAME\"]"
     ]
    },
    {
     "cell_type": "code",
     "collapsed": false,
     "input": [
      "fr[\"CRIM\"].head() # Tab completes"
     ],
     "language": "python",
     "metadata": {
      "scrolled": true
     },
     "outputs": [
      {
       "output_type": "stream",
       "stream": "stdout",
       "text": [
        "H2OFrame with 10 rows and 1 columns: \n",
        "      CRIM\n",
        "0  0.00632\n",
        "1  0.02729\n",
        "2  0.03237\n",
        "3  0.06905\n",
        "4  0.02985\n",
        "5  0.08829\n",
        "6  0.14455\n",
        "7  0.21124\n",
        "8  0.17004\n",
        "9  0.22489\n"
       ]
      },
      {
       "metadata": {},
       "output_type": "pyout",
       "prompt_number": 56,
       "text": []
      }
     ],
     "prompt_number": 56
    },
    {
     "cell_type": "markdown",
     "metadata": {},
     "source": [
      "Select a few columns"
     ]
    },
    {
     "cell_type": "code",
     "collapsed": false,
     "input": [
      "columns = [\"CRIM\", \"RM\", \"RAD\"]\n",
      "fr[columns].head()"
     ],
     "language": "python",
     "metadata": {},
     "outputs": [
      {
       "output_type": "stream",
       "stream": "stdout",
       "text": [
        "H2OFrame with 10 rows and 3 columns: \n",
        "      CRIM     RM  RAD\n",
        "0  0.00632  6.575    1\n",
        "1  0.02729  7.185    2\n",
        "2  0.03237  6.998    3\n",
        "3  0.06905  7.147    3\n",
        "4  0.02985  6.430    3\n",
        "5  0.08829  6.012    5\n",
        "6  0.14455  6.172    5\n",
        "7  0.21124  5.631    5\n",
        "8  0.17004  6.004    5\n",
        "9  0.22489  6.377    5\n"
       ]
      },
      {
       "metadata": {},
       "output_type": "pyout",
       "prompt_number": 57,
       "text": []
      }
     ],
     "prompt_number": 57
    },
    {
     "cell_type": "markdown",
     "metadata": {},
     "source": [
      "Select a subset of rows\n",
      "\n",
      "Unlike in Pandas, columns may be identified by index or column name. **Therefore, when subsetting by rows, you must also pass the column selection.**"
     ]
    },
    {
     "cell_type": "code",
     "collapsed": false,
     "input": [
      "fr[2:7,:]  # explicitly select all columns with :"
     ],
     "language": "python",
     "metadata": {},
     "outputs": [
      {
       "output_type": "stream",
       "stream": "stdout",
       "text": [
        "H2OFrame with 5 rows and 14 columns: \n",
        "      CRIM    ZN       B  LSTAT  Median_value   AGE  TAX  RAD  CHAS    NOX  \\\n",
        "0  0.03237   0.0  394.63   2.94          33.4  45.8  222    3     0  0.458   \n",
        "1  0.06905   0.0  396.90   5.33          36.2  54.2  222    3     0  0.458   \n",
        "2  0.02985   0.0  394.12   5.21          28.7  58.7  222    3     0  0.458   \n",
        "3  0.08829  12.5  395.60  12.43          22.9  66.6  311    5     0  0.524   \n",
        "4  0.14455  12.5  396.90  19.15          27.1  96.1  311    5     0  0.524   \n",
        "\n",
        "      RM  INDUS  PTRATIO     DIS  \n",
        "0  6.998   2.18     18.7  6.0622  \n",
        "1  7.147   2.18     18.7  6.0622  \n",
        "2  6.430   2.18     18.7  6.0622  \n",
        "3  6.012   7.87     15.2  5.5605  \n",
        "4  6.172   7.87     15.2  5.9505  \n"
       ]
      },
      {
       "metadata": {},
       "output_type": "pyout",
       "prompt_number": 58,
       "text": []
      }
     ],
     "prompt_number": 58
    },
    {
     "cell_type": "markdown",
     "metadata": {},
     "source": [
      "Key attributes:\n",
      "      * columns, names, col_names\n",
      "      * len, shape, dim, nrow, ncol\n",
      "      * types\n",
      "      \n",
      "Note: \n",
      "\n",
      "Since the data is _not_ in local python memory\n",
      "there is no \"values\" attribute. If you want to \n",
      "pull all of the data into the local python memory\n",
      "then do so explicitly with h2o.export_file and\n",
      "reading the data into python memory from disk."
     ]
    },
    {
     "cell_type": "code",
     "collapsed": false,
     "input": [
      "# The columns attribute is exactly like Pandas\n",
      "print \"Columns:\", fr.columns, \"\\n\"\n",
      "print \"Columns:\", fr.names, \"\\n\"\n",
      "print \"Columns:\", fr.col_names, \"\\n\"\n",
      "\n",
      "# There are a number of attributes to get at the shape\n",
      "print \"length:\", str( len(fr) ), \"\\n\"\n",
      "print \"shape:\", fr.shape, \"\\n\"\n",
      "print \"dim:\", fr.dim, \"\\n\"\n",
      "print \"nrow:\", fr.nrow, \"\\n\"\n",
      "print \"ncol:\", fr.ncol, \"\\n\"\n",
      "\n",
      "# Use the \"types\" attribute to list the column types\n",
      "print \"types:\", fr.types, \"\\n\""
     ],
     "language": "python",
     "metadata": {},
     "outputs": [
      {
       "output_type": "stream",
       "stream": "stdout",
       "text": [
        "Columns: [u'CRIM', u'ZN', u'B', u'LSTAT', u'Median_value', u'AGE', u'TAX', u'RAD', u'CHAS', u'NOX', u'RM', u'INDUS', u'PTRATIO', u'DIS'] \n",
        "\n",
        "Columns: [u'CRIM', u'ZN', u'B', u'LSTAT', u'Median_value', u'AGE', u'TAX', u'RAD', u'CHAS', u'NOX', u'RM', u'INDUS', u'PTRATIO', u'DIS'] \n",
        "\n",
        "Columns: [u'CRIM', u'ZN', u'B', u'LSTAT', u'Median_value', u'AGE', u'TAX', u'RAD', u'CHAS', u'NOX', u'RM', u'INDUS', u'PTRATIO', u'DIS'] \n",
        "\n",
        "length: 462 \n",
        "\n",
        "shape: (462, 14) \n",
        "\n",
        "dim: [462, 14] \n",
        "\n",
        "nrow: 462 \n",
        "\n",
        "ncol: 14 \n",
        "\n",
        "types: {u'CRIM': u'Numeric', u'ZN': u'Numeric', u'B': u'Numeric', u'LSTAT': u'Numeric', u'Median_value': u'Numeric', u'AGE': u'Numeric', u'TAX': u'Numeric', u'RAD': u'Numeric', u'CHAS': u'Numeric', u'NOX': u'Numeric', u'RM': u'Numeric', u'INDUS': u'Numeric', u'PTRATIO': u'Numeric', u'DIS': u'Numeric'} \n",
        "\n"
       ]
      }
     ],
     "prompt_number": 59
    },
    {
     "cell_type": "markdown",
     "metadata": {},
     "source": [
      "Select rows based on value"
     ]
    },
    {
     "cell_type": "code",
     "collapsed": false,
     "input": [
      "fr.shape"
     ],
     "language": "python",
     "metadata": {},
     "outputs": [
      {
       "metadata": {},
       "output_type": "pyout",
       "prompt_number": 60,
       "text": [
        "(462, 14)"
       ]
      }
     ],
     "prompt_number": 60
    },
    {
     "cell_type": "markdown",
     "metadata": {},
     "source": [
      "Boolean masks can be used to subselect rows based on a criteria."
     ]
    },
    {
     "cell_type": "code",
     "collapsed": false,
     "input": [
      "mask = fr[\"CRIM\"]>1\n",
      "fr[mask,:].shape"
     ],
     "language": "python",
     "metadata": {},
     "outputs": [
      {
       "metadata": {},
       "output_type": "pyout",
       "prompt_number": 61,
       "text": [
        "(155, 14)"
       ]
      }
     ],
     "prompt_number": 61
    },
    {
     "cell_type": "markdown",
     "metadata": {},
     "source": [
      "Get summary statistics of the data and additional data distribution information."
     ]
    },
    {
     "cell_type": "code",
     "collapsed": false,
     "input": [
      "fr.describe()"
     ],
     "language": "python",
     "metadata": {},
     "outputs": [
      {
       "output_type": "stream",
       "stream": "stdout",
       "text": [
        "Rows: 462 Cols: 14\n",
        "  chunk_type                 chunk_name  count  count_percentage        size  \\\n",
        "0        CBS                       Bits      1          7.142858      128  B   \n",
        "1        C1N  1-Byte Integers (w/o NAs)      1          7.142858      530  B   \n",
        "2         C2            2-Byte Integers      1          7.142858      992  B   \n",
        "3        C2S           2-Byte Fractions      1          7.142858     1008  B   \n",
        "4        CUD               Unique Reals      4         28.571430      7.2 KB   \n",
        "5        C8D               64-bit Reals      6         42.857143     22.1 KB   \n",
        "\n",
        "   size_percentage  \n",
        "0         0.392710  \n",
        "1         1.626066  \n",
        "2         3.043505  \n",
        "3         3.092594  \n",
        "4        22.556300  \n",
        "5        69.288826  \n",
        "                            size  number_of_rows  number_of_chunks_per_column  \\\n",
        "0  172.16.2.59:54321     31.8 KB             462                            1   \n",
        "1               mean     31.8 KB             462                            1   \n",
        "2                min     31.8 KB             462                            1   \n",
        "3                max     31.8 KB             462                            1   \n",
        "4             stddev        0  B               0                            0   \n",
        "5              total     31.8 KB             462                            1   \n",
        "\n",
        "   number_of_chunks  \n",
        "0                14  \n",
        "1                14  \n",
        "2                14  \n",
        "3                14  \n",
        "4                 0  \n",
        "5                14  \n",
        "\n"
       ]
      },
      {
       "output_type": "stream",
       "stream": "stdout",
       "text": [
        "Column-by-Column Summary:\n",
        "\n"
       ]
      },
      {
       "html": [
        "<div style=\"overflow:auto\"><table style=\"width:50%\"><tr><td></td>\n",
        "<td>CRIM</td>\n",
        "<td>ZN</td>\n",
        "<td>B</td>\n",
        "<td>LSTAT</td>\n",
        "<td>Median_value</td>\n",
        "<td>AGE</td>\n",
        "<td>TAX</td>\n",
        "<td>RAD</td>\n",
        "<td>CHAS</td>\n",
        "<td>NOX</td>\n",
        "<td>RM</td>\n",
        "<td>INDUS</td>\n",
        "<td>PTRATIO</td>\n",
        "<td>DIS</td></tr>\n",
        "<tr><td>type</td>\n",
        "<td>real</td>\n",
        "<td>real</td>\n",
        "<td>real</td>\n",
        "<td>real</td>\n",
        "<td>real</td>\n",
        "<td>real</td>\n",
        "<td>int</td>\n",
        "<td>int</td>\n",
        "<td>int</td>\n",
        "<td>real</td>\n",
        "<td>real</td>\n",
        "<td>real</td>\n",
        "<td>real</td>\n",
        "<td>real</td></tr>\n",
        "<tr><td>mins</td>\n",
        "<td>0.00632</td>\n",
        "<td>0.0</td>\n",
        "<td>0.32</td>\n",
        "<td>1.73</td>\n",
        "<td>5.0</td>\n",
        "<td>6.0</td>\n",
        "<td>187.0</td>\n",
        "<td>1.0</td>\n",
        "<td>0.0</td>\n",
        "<td>0.385</td>\n",
        "<td>3.561</td>\n",
        "<td>0.46</td>\n",
        "<td>12.6</td>\n",
        "<td>1.1296</td></tr>\n",
        "<tr><td>maxs</td>\n",
        "<td>88.9762</td>\n",
        "<td>100.0</td>\n",
        "<td>396.9</td>\n",
        "<td>37.97</td>\n",
        "<td>50.0</td>\n",
        "<td>100.0</td>\n",
        "<td>711.0</td>\n",
        "<td>24.0</td>\n",
        "<td>1.0</td>\n",
        "<td>0.871</td>\n",
        "<td>8.78</td>\n",
        "<td>27.74</td>\n",
        "<td>22.0</td>\n",
        "<td>12.1265</td></tr>\n",
        "<tr><td>sigma</td>\n",
        "<td>8.68268014543</td>\n",
        "<td>23.2086423052</td>\n",
        "<td>90.7500779002</td>\n",
        "<td>7.1419482934</td>\n",
        "<td>9.21258527358</td>\n",
        "<td>27.9631409743</td>\n",
        "<td>167.460295078</td>\n",
        "<td>8.64357146773</td>\n",
        "<td>0.242812755044</td>\n",
        "<td>0.115349440715</td>\n",
        "<td>0.707139172922</td>\n",
        "<td>6.85982058776</td>\n",
        "<td>2.16522966932</td>\n",
        "<td>2.11032018051</td></tr>\n",
        "<tr><td>zero_count</td>\n",
        "<td>0</td>\n",
        "<td>343</td>\n",
        "<td>0</td>\n",
        "<td>0</td>\n",
        "<td>0</td>\n",
        "<td>0</td>\n",
        "<td>0</td>\n",
        "<td>0</td>\n",
        "<td>433</td>\n",
        "<td>0</td>\n",
        "<td>0</td>\n",
        "<td>0</td>\n",
        "<td>0</td>\n",
        "<td>0</td></tr>\n",
        "<tr><td>missing_count</td>\n",
        "<td>0</td>\n",
        "<td>0</td>\n",
        "<td>0</td>\n",
        "<td>0</td>\n",
        "<td>0</td>\n",
        "<td>0</td>\n",
        "<td>0</td>\n",
        "<td>0</td>\n",
        "<td>0</td>\n",
        "<td>0</td>\n",
        "<td>0</td>\n",
        "<td>0</td>\n",
        "<td>0</td>\n",
        "<td>0</td></tr></table></div>"
       ],
       "metadata": {},
       "output_type": "display_data",
       "text": [
        "               CRIM           ZN             B              LSTAT         Median_value    AGE            TAX            RAD            CHAS            NOX             RM              INDUS          PTRATIO        DIS\n",
        "-------------  -------------  -------------  -------------  ------------  --------------  -------------  -------------  -------------  --------------  --------------  --------------  -------------  -------------  -------------\n",
        "type           real           real           real           real          real            real           int            int            int             real            real            real           real           real\n",
        "mins           0.00632        0.0            0.32           1.73          5.0             6.0            187.0          1.0            0.0             0.385           3.561           0.46           12.6           1.1296\n",
        "maxs           88.9762        100.0          396.9          37.97         50.0            100.0          711.0          24.0           1.0             0.871           8.78            27.74          22.0           12.1265\n",
        "sigma          8.68268014543  23.2086423052  90.7500779002  7.1419482934  9.21258527358   27.9631409743  167.460295078  8.64357146773  0.242812755044  0.115349440715  0.707139172922  6.85982058776  2.16522966932  2.11032018051\n",
        "zero_count     0              343            0              0             0               0              0              0              433             0               0               0              0              0\n",
        "missing_count  0              0              0              0             0               0              0              0              0               0               0               0              0              0"
       ]
      }
     ],
     "prompt_number": 62
    },
    {
     "cell_type": "markdown",
     "metadata": {},
     "source": [
      "Set up the predictor and response column names\n",
      "\n",
      "Using H2O algorithms, it's easier to reference predictor and response columns\n",
      "by name in a single frame (i.e., don't split up X and y)"
     ]
    },
    {
     "cell_type": "code",
     "collapsed": false,
     "input": [
      "x = fr.names\n",
      "y=\"Median_value\"\n",
      "x.remove(y)"
     ],
     "language": "python",
     "metadata": {},
     "outputs": [],
     "prompt_number": 63
    },
    {
     "cell_type": "heading",
     "level": 2,
     "metadata": {},
     "source": [
      "Machine Learning With H2O"
     ]
    },
    {
     "cell_type": "markdown",
     "metadata": {},
     "source": [
      "H2O is a machine learning library built in Java with interfaces in Python, R, Scala, and Javascript. It is [open source](http://github.com/h2oai) and [well-documented](http://docs.h2o.ai).\n",
      "\n",
      "Unlike Scikit-learn, H2O allows for categorical and missing data.\n",
      "\n",
      "The basic work flow is as follows:\n",
      "* Fit the training data with a machine learning algorithm\n",
      "* Predict on the testing data"
     ]
    },
    {
     "cell_type": "heading",
     "level": 3,
     "metadata": {},
     "source": [
      "Simple model"
     ]
    },
    {
     "cell_type": "code",
     "collapsed": false,
     "input": [
      "model = h2o.random_forest(x=fr[:400,x],y=fr[:400,y],seed=42) # Define and fit first 400 points"
     ],
     "language": "python",
     "metadata": {},
     "outputs": [],
     "prompt_number": 64
    },
    {
     "cell_type": "code",
     "collapsed": false,
     "input": [
      "model.predict(fr[400:fr.nrow,:])        # Predict the rest"
     ],
     "language": "python",
     "metadata": {},
     "outputs": [
      {
       "output_type": "stream",
       "stream": "stdout",
       "text": [
        "H2OFrame with 62 rows and 1 columns: \n",
        "   predict\n",
        "0   12.712\n",
        "1   10.266\n",
        "2   10.480\n",
        "3   12.416\n",
        "4   10.462\n",
        "5   14.062\n",
        "6   16.392\n",
        "7   14.582\n",
        "8   14.836\n",
        "9   15.867\n"
       ]
      },
      {
       "metadata": {},
       "output_type": "pyout",
       "prompt_number": 65,
       "text": []
      }
     ],
     "prompt_number": 65
    },
    {
     "cell_type": "markdown",
     "metadata": {},
     "source": [
      "The performance of the model can be checked using the holdout dataset"
     ]
    },
    {
     "cell_type": "code",
     "collapsed": false,
     "input": [
      "perf = model.model_performance(fr[400:fr.nrow,:])\n",
      "perf.r2()      # get the r2 on the holdout data\n",
      "perf.mse()     # get the mse on the holdout data\n",
      "perf           # display the performance object"
     ],
     "language": "python",
     "metadata": {},
     "outputs": [
      {
       "output_type": "stream",
       "stream": "stdout",
       "text": [
        "\n",
        "ModelMetricsRegression: drf\n",
        "** Reported on test data. **\n",
        "\n",
        "MSE: 14.1917271618\n",
        "R^2: 0.374431026605\n",
        "Mean Residual Deviance: 14.1917271618\n"
       ]
      },
      {
       "metadata": {},
       "output_type": "pyout",
       "prompt_number": 66,
       "text": []
      }
     ],
     "prompt_number": 66
    },
    {
     "cell_type": "heading",
     "level": 3,
     "metadata": {},
     "source": [
      "Train-Test Split"
     ]
    },
    {
     "cell_type": "markdown",
     "metadata": {},
     "source": [
      "Instead of taking the first 400 observations for training, we can use H2O to create a random test train split of the data."
     ]
    },
    {
     "cell_type": "code",
     "collapsed": false,
     "input": [
      "r = fr.runif(seed=12345)   # build random uniform column over [0,1]\n",
      "train= fr[r<0.75,:]     # perform a 75-25 split\n",
      "test = fr[r>=0.75,:]\n",
      "\n",
      "model = h2o.random_forest(x=train[x],y=train[y],seed=42)\n",
      "\n",
      "perf = model.model_performance(test)\n",
      "perf.r2()"
     ],
     "language": "python",
     "metadata": {},
     "outputs": [
      {
       "metadata": {},
       "output_type": "pyout",
       "prompt_number": 67,
       "text": [
        "0.8542968512013444"
       ]
      }
     ],
     "prompt_number": 67
    },
    {
     "cell_type": "markdown",
     "metadata": {},
     "source": [
      "There was a massive jump in the R^2 value. This is because the original data is not shuffled."
     ]
    },
    {
     "cell_type": "heading",
     "level": 3,
     "metadata": {},
     "source": [
      "Cross validation"
     ]
    },
    {
     "cell_type": "markdown",
     "metadata": {},
     "source": [
      "H2O's machine learning algorithms take an optional parameter **nfolds** to specify the number of cross-validation folds to build. H2O's cross-validation uses an internal weight vector to build the folds in an efficient manner (instead of physically building the splits)."
     ]
    },
    {
     "cell_type": "markdown",
     "metadata": {},
     "source": [
      "In conjunction with the **nfolds** parameter, a user may specify the way in which observations are assigned to each fold with the **fold_assignment** parameter, which can be set to either:\n",
      "        * AUTO:  Perform random assignment\n",
      "        * Random: Each row has a equal (1/nfolds) chance of being in any fold.\n",
      "        * Modulo: Observations are in/out of the fold based by modding on nfolds"
     ]
    },
    {
     "cell_type": "code",
     "collapsed": false,
     "input": [
      "model = h2o.random_forest(x=fr[x],y=fr[y], nfolds=10) # build a 10-fold cross-validated model"
     ],
     "language": "python",
     "metadata": {},
     "outputs": [],
     "prompt_number": 68
    },
    {
     "cell_type": "code",
     "collapsed": false,
     "input": [
      "scores = numpy.array([m.r2() for m in model.xvals]) # iterate over the xval models using the xvals attribute\n",
      "print \"Expected R^2: %.2f +/- %.2f \\n\" % (scores.mean(), scores.std()*1.96)\n",
      "print \"Scores:\", scores.round(2)"
     ],
     "language": "python",
     "metadata": {},
     "outputs": [
      {
       "output_type": "stream",
       "stream": "stdout",
       "text": [
        "Expected R^2: 0.86 +/- 0.02 \n",
        "\n",
        "Scores: [ 0.87  0.87  0.86  0.88  0.87  0.85  0.87  0.86  0.84  0.87]\n"
       ]
      }
     ],
     "prompt_number": 69
    },
    {
     "cell_type": "markdown",
     "metadata": {},
     "source": [
      "However, you can still make use of the cross_val_score from Scikit-Learn"
     ]
    },
    {
     "cell_type": "heading",
     "level": 3,
     "metadata": {},
     "source": [
      "Cross validation: H2O and Scikit-Learn"
     ]
    },
    {
     "cell_type": "code",
     "collapsed": false,
     "input": [
      "from sklearn.cross_validation import cross_val_score\n",
      "from h2o.cross_validation import H2OKFold\n",
      "from h2o.estimators.random_forest import H2ORandomForestEstimator\n",
      "from h2o.model.regression import h2o_r2_score\n",
      "from sklearn.metrics.scorer import make_scorer"
     ],
     "language": "python",
     "metadata": {},
     "outputs": [],
     "prompt_number": 70
    },
    {
     "cell_type": "markdown",
     "metadata": {},
     "source": [
      "You still must use H2O to make the folds. Currently, there is no H2OStratifiedKFold. Additionally, the H2ORandomForestEstimator is analgous to the scikit-learn RandomForestRegressor object with its own ``fit`` method"
     ]
    },
    {
     "cell_type": "code",
     "collapsed": true,
     "input": [
      "model = H2ORandomForestEstimator(seed=42)"
     ],
     "language": "python",
     "metadata": {},
     "outputs": [],
     "prompt_number": 71
    },
    {
     "cell_type": "code",
     "collapsed": false,
     "input": [
      "scorer = make_scorer(h2o_r2_score)   # make h2o_r2_score into a scikit_learn scorer\n",
      "custom_cv = H2OKFold(fr, n_folds=10, seed=42) # make a cv \n",
      "scores = cross_val_score(model, fr[x], fr[y], scoring=scorer, cv=custom_cv)\n",
      "\n",
      "print \"Expected R^2: %.2f +/- %.2f \\n\" % (scores.mean(), scores.std()*1.96)\n",
      "print \"Scores:\", scores.round(2)"
     ],
     "language": "python",
     "metadata": {},
     "outputs": [
      {
       "output_type": "stream",
       "stream": "stdout",
       "text": [
        "Expected R^2: 0.87 +/- 0.11 \n",
        "\n",
        "Scores: [ 0.81  0.85  0.88  0.95  0.75  0.83  0.88  0.92  0.89  0.91]\n"
       ]
      }
     ],
     "prompt_number": 72
    },
    {
     "cell_type": "markdown",
     "metadata": {},
     "source": [
      "There isn't much difference in the R^2 value since the fold strategy is exactly the same. However, there was a major difference in terms of computation time and memory usage."
     ]
    },
    {
     "cell_type": "markdown",
     "metadata": {},
     "source": [
      "Since the progress bar print out gets annoying let's disable that"
     ]
    },
    {
     "cell_type": "code",
     "collapsed": false,
     "input": [
      "h2o.__PROGRESS_BAR__=False\n",
      "h2o.no_progress()"
     ],
     "language": "python",
     "metadata": {},
     "outputs": [],
     "prompt_number": 73
    },
    {
     "cell_type": "heading",
     "level": 3,
     "metadata": {},
     "source": [
      "Grid Search"
     ]
    },
    {
     "cell_type": "markdown",
     "metadata": {},
     "source": [
      "Grid search in H2O is still under active development and it will be available very soon. However, it is possible to make use of Scikit's grid search infrastructure (with some performance penalties)"
     ]
    },
    {
     "cell_type": "heading",
     "level": 3,
     "metadata": {},
     "source": [
      "Randomized grid search: H2O and Scikit-Learn"
     ]
    },
    {
     "cell_type": "code",
     "collapsed": false,
     "input": [
      "from sklearn import __version__\n",
      "sklearn_version = __version__\n",
      "print sklearn_version"
     ],
     "language": "python",
     "metadata": {},
     "outputs": [
      {
       "output_type": "stream",
       "stream": "stdout",
       "text": [
        "0.16.1\n"
       ]
      }
     ],
     "prompt_number": 74
    },
    {
     "cell_type": "markdown",
     "metadata": {},
     "source": [
      "If you have 0.16.1, then your system can't handle complex randomized grid searches (it works in every other version of sklearn, including the soon to be released 0.16.2 and the older versions).\n",
      "\n",
      "The steps to perform a randomized grid search:\n",
      "1. Import model and RandomizedSearchCV\n",
      "2. Define model\n",
      "3. Specify parameters to test\n",
      "4. Define grid search object\n",
      "5. Fit data to grid search object\n",
      "6. Collect scores\n",
      "\n",
      "All the steps will be repeated from above.\n",
      "\n",
      "Because 0.16.1 is installed, we use scipy to define specific distributions"
     ]
    },
    {
     "cell_type": "markdown",
     "metadata": {},
     "source": [
      "ADVANCED TIP:\n",
      "\n",
      "Turn off reference counting for spawning jobs in parallel (n_jobs=-1, or n_jobs > 1).\n",
      "We'll turn it back on again in the aftermath of a Parallel job.\n",
      "\n",
      "If you don't want to run jobs in parallel, don't turn off the reference counting.\n",
      "\n",
      "Pattern is:\n",
      "         >>> h2o.turn_off_ref_cnts()\n",
      "         >>> .... parallel job ....\n",
      "         >>> h2o.turn_on_ref_cnts()"
     ]
    },
    {
     "cell_type": "code",
     "collapsed": false,
     "input": [
      "%%time\n",
      "from h2o.estimators.random_forest import H2ORandomForestEstimator  # Import model\n",
      "from sklearn.grid_search import RandomizedSearchCV  # Import grid search\n",
      "from scipy.stats import randint, uniform\n",
      "\n",
      "model = H2ORandomForestEstimator(seed=42)        # Define model\n",
      "\n",
      "params = {\"ntrees\": randint(20,50),\n",
      "          \"max_depth\": randint(1,10),\n",
      "          \"min_rows\": randint(1,10),    # scikit's  min_samples_leaf\n",
      "          \"mtries\": randint(2,fr[x].shape[1]),} # Specify parameters to test\n",
      "\n",
      "scorer = make_scorer(h2o_r2_score)   # make h2o_r2_score into a scikit_learn scorer\n",
      "custom_cv = H2OKFold(fr, n_folds=10, seed=42) # make a cv \n",
      "random_search = RandomizedSearchCV(model, params, \n",
      "                                   n_iter=30, \n",
      "                                   scoring=scorer, \n",
      "                                   cv=custom_cv, \n",
      "                                   random_state=42,\n",
      "                                   n_jobs=1)       # Define grid search object\n",
      "\n",
      "random_search.fit(fr[x], fr[y])\n",
      "\n",
      "print \"Best R^2:\", random_search.best_score_, \"\\n\"\n",
      "print \"Best params:\", random_search.best_params_"
     ],
     "language": "python",
     "metadata": {},
     "outputs": [
      {
       "output_type": "stream",
       "stream": "stdout",
       "text": [
        "Best R^2: 0.853718179113 \n",
        "\n",
        "Best params: {'mtries': 8, 'ntrees': 25, 'min_rows': 1, 'max_depth': 9}\n",
        "CPU times: user 31.9 s, sys: 3.37 s, total: 35.3 s\n",
        "Wall time: 1min 28s\n"
       ]
      }
     ],
     "prompt_number": 75
    },
    {
     "cell_type": "markdown",
     "metadata": {},
     "source": [
      "We might be tempted to think that we just had a large improvement; however we must be cautious. The function below creates a more detailed report."
     ]
    },
    {
     "cell_type": "code",
     "collapsed": true,
     "input": [
      "def report_grid_score_detail(random_search, charts=True):\n",
      "    \"\"\"Input fit grid search estimator. Returns df of scores with details\"\"\"\n",
      "    df_list = []\n",
      "\n",
      "    for line in random_search.grid_scores_:\n",
      "        results_dict = dict(line.parameters)\n",
      "        results_dict[\"score\"] = line.mean_validation_score\n",
      "        results_dict[\"std\"] = line.cv_validation_scores.std()*1.96\n",
      "        df_list.append(results_dict)\n",
      "\n",
      "    result_df = pd.DataFrame(df_list)\n",
      "    result_df = result_df.sort(\"score\", ascending=False)\n",
      "    \n",
      "    if charts:\n",
      "        for col in get_numeric(result_df):\n",
      "            if col not in [\"score\", \"std\"]:\n",
      "                plt.scatter(result_df[col], result_df.score)\n",
      "                plt.title(col)\n",
      "                plt.show()\n",
      "\n",
      "        for col in list(result_df.columns[result_df.dtypes == \"object\"]):\n",
      "            cat_plot = result_df.score.groupby(result_df[col]).mean()\n",
      "            cat_plot.sort()\n",
      "            cat_plot.plot(kind=\"barh\", xlim=(.5, None), figsize=(7, cat_plot.shape[0]/2))\n",
      "            plt.show()\n",
      "    return result_df\n",
      "\n",
      "def get_numeric(X):\n",
      "    \"\"\"Return list of numeric dtypes variables\"\"\"\n",
      "    return X.dtypes[X.dtypes.apply(lambda x: str(x).startswith((\"float\", \"int\", \"bool\")))].index.tolist()"
     ],
     "language": "python",
     "metadata": {},
     "outputs": [],
     "prompt_number": 76
    },
    {
     "cell_type": "code",
     "collapsed": false,
     "input": [
      "report_grid_score_detail(random_search).head()"
     ],
     "language": "python",
     "metadata": {
      "scrolled": true
     },
     "outputs": [
      {
       "metadata": {},
       "output_type": "display_data",
       "png": "[encoded data removed]",
       "text": [
        "<matplotlib.figure.Figure at 0x106c03490>"
       ]
      },
      {
       "metadata": {},
       "output_type": "display_data",
       "png": "[encoded data removed]",
       "text": [
        "<matplotlib.figure.Figure at 0x106a2cc50>"
       ]
      },
      {
       "metadata": {},
       "output_type": "display_data",
       "png": "[encoded data removed]",
       "text": [
        "<matplotlib.figure.Figure at 0x10680d610>"
       ]
      },
      {
       "metadata": {},
       "output_type": "display_data",
       "png": "[encoded data removed]",
       "text": [
        "<matplotlib.figure.Figure at 0x106c0be10>"
       ]
      },
      {
       "html": [
        "<div style=\"max-width:1500px;overflow:auto;\">\n",
        "<table border=\"1\" class=\"dataframe\">\n",
        "  <thead>\n",
        "    <tr style=\"text-align: right;\">\n",
        "      <th></th>\n",
        "      <th>max_depth</th>\n",
        "      <th>min_rows</th>\n",
        "      <th>mtries</th>\n",
        "      <th>ntrees</th>\n",
        "      <th>score</th>\n",
        "      <th>std</th>\n",
        "    </tr>\n",
        "  </thead>\n",
        "  <tbody>\n",
        "    <tr>\n",
        "      <th>3</th>\n",
        "      <td>9</td>\n",
        "      <td>1</td>\n",
        "      <td>8</td>\n",
        "      <td>25</td>\n",
        "      <td>0.853718</td>\n",
        "      <td>0.121141</td>\n",
        "    </tr>\n",
        "    <tr>\n",
        "      <th>17</th>\n",
        "      <td>6</td>\n",
        "      <td>3</td>\n",
        "      <td>4</td>\n",
        "      <td>38</td>\n",
        "      <td>0.837344</td>\n",
        "      <td>0.132959</td>\n",
        "    </tr>\n",
        "    <tr>\n",
        "      <th>14</th>\n",
        "      <td>9</td>\n",
        "      <td>1</td>\n",
        "      <td>2</td>\n",
        "      <td>32</td>\n",
        "      <td>0.827494</td>\n",
        "      <td>0.155412</td>\n",
        "    </tr>\n",
        "    <tr>\n",
        "      <th>1</th>\n",
        "      <td>9</td>\n",
        "      <td>5</td>\n",
        "      <td>6</td>\n",
        "      <td>22</td>\n",
        "      <td>0.827051</td>\n",
        "      <td>0.150251</td>\n",
        "    </tr>\n",
        "    <tr>\n",
        "      <th>5</th>\n",
        "      <td>9</td>\n",
        "      <td>6</td>\n",
        "      <td>6</td>\n",
        "      <td>29</td>\n",
        "      <td>0.820891</td>\n",
        "      <td>0.148135</td>\n",
        "    </tr>\n",
        "  </tbody>\n",
        "</table>\n",
        "</div>"
       ],
       "metadata": {},
       "output_type": "pyout",
       "prompt_number": 77,
       "text": [
        "    max_depth  min_rows  mtries  ntrees     score       std\n",
        "3           9         1       8      25  0.853718  0.121141\n",
        "17          6         3       4      38  0.837344  0.132959\n",
        "14          9         1       2      32  0.827494  0.155412\n",
        "1           9         5       6      22  0.827051  0.150251\n",
        "5           9         6       6      29  0.820891  0.148135"
       ]
      }
     ],
     "prompt_number": 77
    },
    {
     "cell_type": "markdown",
     "metadata": {},
     "source": [
      "Based on the grid search report, we can narrow the parameters to search and rerun the analysis. The parameters below were chosen after a few runs:"
     ]
    },
    {
     "cell_type": "code",
     "collapsed": false,
     "input": [
      "%%time\n",
      "\n",
      "params = {\"ntrees\": randint(30,40),\n",
      "          \"max_depth\": randint(4,10),\n",
      "          \"mtries\": randint(4,10),}\n",
      "\n",
      "custom_cv = H2OKFold(fr, n_folds=5, seed=42)           # In small datasets, the fold size can have a big\n",
      "                                                       # impact on the std of the resulting scores. More\n",
      "random_search = RandomizedSearchCV(model, params,      # folds --> Less examples per fold --> higher \n",
      "                                   n_iter=10,          # variation per sample\n",
      "                                   scoring=scorer, \n",
      "                                   cv=custom_cv, \n",
      "                                   random_state=43, \n",
      "                                   n_jobs=1)       \n",
      "\n",
      "random_search.fit(fr[x], fr[y])\n",
      "\n",
      "print \"Best R^2:\", random_search.best_score_, \"\\n\"\n",
      "print \"Best params:\", random_search.best_params_\n",
      "\n",
      "report_grid_score_detail(random_search)"
     ],
     "language": "python",
     "metadata": {
      "scrolled": true
     },
     "outputs": [
      {
       "output_type": "stream",
       "stream": "stdout",
       "text": [
        "Best R^2: 0.860880234682 \n",
        "\n",
        "Best params: {'mtries': 8, 'ntrees': 30, 'max_depth': 8}\n"
       ]
      },
      {
       "metadata": {},
       "output_type": "display_data",
       "png": "[encoded data removed]",
       "text": [
        "<matplotlib.figure.Figure at 0x106cc6ed0>"
       ]
      },
      {
       "metadata": {},
       "output_type": "display_data",
       "png": "[encoded data removed]",
       "text": [
        "<matplotlib.figure.Figure at 0x106bc6e10>"
       ]
      },
      {
       "metadata": {},
       "output_type": "display_data",
       "png": "[encoded data removed]",
       "text": [
        "<matplotlib.figure.Figure at 0x1069826d0>"
       ]
      },
      {
       "output_type": "stream",
       "stream": "stdout",
       "text": [
        "CPU times: user 5.78 s, sys: 564 ms, total: 6.34 s\n",
        "Wall time: 15 s\n"
       ]
      }
     ],
     "prompt_number": 78
    },
    {
     "cell_type": "heading",
     "level": 3,
     "metadata": {},
     "source": [
      "Transformations"
     ]
    },
    {
     "cell_type": "markdown",
     "metadata": {},
     "source": [
      "Rule of machine learning: Don't use your testing data to inform your training data. Unfortunately, this happens all the time when preparing a dataset for the final model. But on smaller datasets, you must be especially careful."
     ]
    },
    {
     "cell_type": "markdown",
     "metadata": {},
     "source": [
      "At the moment, there are no classes for managing data transformations. On the one hand, this requires the user to tote around some extra state, but on the other, it allows the user to be more explicit about transforming H2OFrames.\n",
      "\n",
      "Basic steps:\n",
      "\n",
      "0. Remove the response variable from transformations.\n",
      "1. Import transformer\n",
      "2. Define transformer\n",
      "3. Fit train data to transformer\n",
      "4. Transform test and train data\n",
      "5. Re-attach the response variable."
     ]
    },
    {
     "cell_type": "markdown",
     "metadata": {},
     "source": [
      "First let's normalize the data using the means and standard deviations of the training data.\n",
      "Then let's perform a principal component analysis on the training data and select the top 5 components.\n",
      "Using these components, let's use them to reduce the train and test design matrices."
     ]
    },
    {
     "cell_type": "code",
     "collapsed": false,
     "input": [
      "from h2o.transforms.preprocessing import H2OScaler\n",
      "from h2o.transforms.decomposition import H2OPCA"
     ],
     "language": "python",
     "metadata": {},
     "outputs": [],
     "prompt_number": 79
    },
    {
     "cell_type": "heading",
     "level": 4,
     "metadata": {},
     "source": [
      "Normalize Data: Use the means and standard deviations from the training data."
     ]
    },
    {
     "cell_type": "code",
     "collapsed": true,
     "input": [
      "y_train = train.pop(\"Median_value\")\n",
      "y_test  = test.pop(\"Median_value\")"
     ],
     "language": "python",
     "metadata": {},
     "outputs": [],
     "prompt_number": 80
    },
    {
     "cell_type": "code",
     "collapsed": true,
     "input": [
      "norm = H2OScaler()\n",
      "norm.fit(train)\n",
      "X_train_norm = norm.transform(train)\n",
      "X_test_norm  = norm.transform(test)"
     ],
     "language": "python",
     "metadata": {},
     "outputs": [],
     "prompt_number": 81
    },
    {
     "cell_type": "code",
     "collapsed": false,
     "input": [
      "print X_test_norm.shape\n",
      "X_test_norm"
     ],
     "language": "python",
     "metadata": {},
     "outputs": [
      {
       "output_type": "stream",
       "stream": "stdout",
       "text": [
        "(122, 13)\n",
        "H2OFrame with 122 rows and 13 columns: \n",
        "        CRIM          ZN            B       LSTAT          AGE           TAX  \\\n",
        "0 -24.736214 -246.063411  3478.064487  -52.441200  -413.735371 -30080.217069   \n",
        "1 -23.659575   36.576994  2566.038932  126.336348   883.754751 -15288.430659   \n",
        "2 -24.369586   36.576994  3478.064487    5.261797   399.320666 -15288.430659   \n",
        "3 -24.548962   36.576994  2909.713605   22.994204  -844.343447 -15288.430659   \n",
        "4 -20.490610 -246.063411  3478.064487  -31.147777  -198.431334 -15953.230048   \n",
        "5 -15.926989 -246.063411  3478.064487   44.869018   648.620078 -15953.230048   \n",
        "6 -19.578204 -246.063411  3249.836086   27.281958   716.610827 -15953.230048   \n",
        "7 -19.406096 -246.063411  2682.373253    1.846128   725.109671 -15953.230048   \n",
        "8 -13.047041 -246.063411 -9717.444492   56.642174   795.933367 -15953.230048   \n",
        "9 -23.933599 -246.063411  3169.911743  -17.557776 -1093.642859 -20606.825773   \n",
        "\n",
        "         RAD     CHAS       NOX        RM      INDUS   PTRATIO       DIS  \n",
        "0 -51.962844 -0.01489 -0.011189  0.630504 -63.773819  0.684709  4.823702  \n",
        "1 -34.909401 -0.01489 -0.003593 -0.476113 -23.687122 -7.112459  4.865433  \n",
        "2 -34.909401 -0.01489 -0.003593 -0.200189 -23.687122 -7.112459  5.168671  \n",
        "3 -34.909401 -0.01489 -0.003593 -0.287784 -23.687122 -7.112459  3.541759  \n",
        "4 -43.436123 -0.01489 -0.001981 -0.243987 -21.784942  5.808563  1.982793  \n",
        "5 -43.436123 -0.01489 -0.001981 -0.103105 -21.784942  5.808563  0.450669  \n",
        "6 -43.436123 -0.01489 -0.001981 -0.262235 -21.784942  5.808563  1.337103  \n",
        "7 -43.436123 -0.01489 -0.001981  0.154571 -21.784942  5.808563  1.452652  \n",
        "8 -43.436123 -0.01489 -0.001981 -0.136683 -21.784942  5.808563 -0.004606  \n",
        "9 -34.909401 -0.01489 -0.006470 -0.231577 -37.143289  1.798590  0.178888  \n"
       ]
      },
      {
       "metadata": {},
       "output_type": "pyout",
       "prompt_number": 82,
       "text": []
      }
     ],
     "prompt_number": 82
    },
    {
     "cell_type": "markdown",
     "metadata": {},
     "source": [
      "Then, we can apply PCA and keep the top 5 components."
     ]
    },
    {
     "cell_type": "code",
     "collapsed": true,
     "input": [
      "pca = H2OPCA(n_components=5)\n",
      "pca.fit(X_train_norm)\n",
      "X_train_norm_pca = pca.transform(X_train_norm)\n",
      "X_test_norm_pca  = pca.transform(X_test_norm)"
     ],
     "language": "python",
     "metadata": {},
     "outputs": [],
     "prompt_number": 83
    },
    {
     "cell_type": "code",
     "collapsed": true,
     "input": [
      "# prop of variance explained by top 5 components?"
     ],
     "language": "python",
     "metadata": {},
     "outputs": [],
     "prompt_number": 84
    },
    {
     "cell_type": "code",
     "collapsed": false,
     "input": [
      "print X_test_norm_pca.shape\n",
      "X_test_norm_pca[:5]"
     ],
     "language": "python",
     "metadata": {},
     "outputs": [
      {
       "output_type": "stream",
       "stream": "stdout",
       "text": [
        "(122, 5)\n",
        "H2OFrame with 122 rows and 5 columns: \n",
        "            PC1           PC2          PC3         PC4        PC5\n",
        "0 -30275.268227   -625.603879   190.440193  369.210711  12.389230\n",
        "1 -15481.014400    465.946145  1014.829847 -446.059456  38.351308\n",
        "2 -15611.350493   1372.839872   586.131836 -231.060297  -0.387572\n",
        "3 -15551.885105    817.877766  -530.932422  323.576391  21.281381\n",
        "4 -16276.796219   1286.235678   185.614799  287.705163  -4.813496\n",
        "5 -16264.821892   1280.602054   945.464828  -89.920838  17.023511\n",
        "6 -16233.006802   1054.058236  1003.812227 -119.775113   5.928040\n",
        "7 -16156.125715    491.806467  1005.791501 -122.633986  -4.737604\n",
        "8 -14477.165840 -11793.980470   962.696650 -136.697963  -1.805725\n",
        "9 -20857.888688    356.531393  -552.379748  682.064306  21.077590\n"
       ]
      },
      {
       "metadata": {},
       "output_type": "pyout",
       "prompt_number": 85,
       "text": []
      }
     ],
     "prompt_number": 85
    },
    {
     "cell_type": "code",
     "collapsed": false,
     "input": [
      "model = H2ORandomForestEstimator(seed=42)\n",
      "model.fit(X_train_norm_pca,y_train)\n",
      "y_hat  = model.predict(X_test_norm_pca)"
     ],
     "language": "python",
     "metadata": {},
     "outputs": [],
     "prompt_number": 86
    },
    {
     "cell_type": "code",
     "collapsed": false,
     "input": [
      "h2o_r2_score(y_test,y_hat)"
     ],
     "language": "python",
     "metadata": {},
     "outputs": [
      {
       "metadata": {},
       "output_type": "pyout",
       "prompt_number": 87,
       "text": [
        "0.5344823402879314"
       ]
      }
     ],
     "prompt_number": 87
    },
    {
     "cell_type": "markdown",
     "metadata": {},
     "source": [
      "Although this is MUCH simpler than keeping track of all of these transformations manually, it gets to be somewhat of a burden when you want to chain together multiple transformers."
     ]
    },
    {
     "cell_type": "heading",
     "level": 3,
     "metadata": {},
     "source": [
      "Pipelines"
     ]
    },
    {
     "cell_type": "markdown",
     "metadata": {},
     "source": [
      "\"Tranformers unite!\"\n",
      "\n",
      "If your raw data is a mess and you have to perform several transformations before using it, use a pipeline to keep things simple.\n",
      "\n",
      "Steps:\n",
      "\n",
      "1. Import Pipeline, transformers, and model\n",
      "2. Define pipeline. The first and only argument is a *list* of *tuples* where the first element of each tuple is a name you give the step and the second element is a defined transformer. The last step is optionally an estimator class (like a RandomForest).\n",
      "3. Fit the training data to pipeline\n",
      "4. Either transform or predict the testing data"
     ]
    },
    {
     "cell_type": "code",
     "collapsed": true,
     "input": [
      "from h2o.transforms.preprocessing import H2OScaler\n",
      "from h2o.transforms.decomposition import H2OPCA\n",
      "from h2o.estimators.random_forest import H2ORandomForestEstimator"
     ],
     "language": "python",
     "metadata": {},
     "outputs": [],
     "prompt_number": 88
    },
    {
     "cell_type": "code",
     "collapsed": false,
     "input": [
      "from sklearn.pipeline import Pipeline                # Import Pipeline <other imports not shown>\n",
      "model = H2ORandomForestEstimator(seed=42)\n",
      "pipe = Pipeline([(\"standardize\", H2OScaler()),       # Define pipeline as a series of steps\n",
      "                 (\"pca\", H2OPCA(n_components=5)),\n",
      "                 (\"rf\", model)])                     # Notice the last step is an estimator\n",
      "\n",
      "pipe.fit(train, y_train)                             # Fit training data\n",
      "y_hat = pipe.predict(test)                           # Predict testing data (due to last step being an estimator)\n",
      "h2o_r2_score(y_test, y_hat)                          # Notice the final score is identical to before"
     ],
     "language": "python",
     "metadata": {},
     "outputs": [
      {
       "metadata": {},
       "output_type": "pyout",
       "prompt_number": 89,
       "text": [
        "0.533575578318213"
       ]
      }
     ],
     "prompt_number": 89
    },
    {
     "cell_type": "markdown",
     "metadata": {
      "collapsed": true
     },
     "source": [
      "This is so much easier!!!"
     ]
    },
    {
     "cell_type": "markdown",
     "metadata": {},
     "source": [
      "But, wait a second, we did worse after applying these transformations! We might wonder how different hyperparameters for the transformations impact the final score."
     ]
    },
    {
     "cell_type": "markdown",
     "metadata": {},
     "source": [
      "### Combining randomized grid search and pipelines\n",
      "\"Yo dawg, I heard you like models, so I put models in your models to model models.\"\n",
      "\n",
      "Steps:\n",
      "\n",
      "1. Import Pipeline, grid search, transformers, and estimators <Not shown below>\n",
      "2. Define pipeline\n",
      "3. Define parameters to test in the form: \"(Step name)__(argument name)\" A double underscore separates the two words.\n",
      "4. Define grid search\n",
      "5. Fit to grid search"
     ]
    },
    {
     "cell_type": "code",
     "collapsed": false,
     "input": [
      "pipe = Pipeline([(\"standardize\", H2OScaler()),\n",
      "                 (\"pca\", H2OPCA()),\n",
      "                 (\"rf\", H2ORandomForestEstimator(seed=42))])\n",
      "\n",
      "params = {\"standardize__center\":    [True, False],           # Parameters to test\n",
      "          \"standardize__scale\":     [True, False],\n",
      "          \"pca__n_components\":      randint(2, 6),\n",
      "          \"rf__ntrees\":             randint(50,80),\n",
      "          \"rf__max_depth\":          randint(4,10),\n",
      "          \"rf__min_rows\":           randint(5,10), }\n",
      "#           \"rf__mtries\":             randint(1,4),}           # gridding over mtries is \n",
      "                                                               # problematic with pca grid over \n",
      "                                                               # n_components above \n",
      "\n",
      "from sklearn.grid_search import RandomizedSearchCV\n",
      "from h2o.cross_validation import H2OKFold\n",
      "from h2o.model.regression import h2o_r2_score\n",
      "from sklearn.metrics.scorer import make_scorer\n",
      "\n",
      "custom_cv = H2OKFold(fr, n_folds=5, seed=42)\n",
      "random_search = RandomizedSearchCV(pipe, params,\n",
      "                                   n_iter=30,\n",
      "                                   scoring=make_scorer(h2o_r2_score),\n",
      "                                   cv=custom_cv,\n",
      "                                   random_state=42,\n",
      "                                   n_jobs=1)\n",
      "\n",
      "\n",
      "random_search.fit(fr[x],fr[y])\n",
      "results = report_grid_score_detail(random_search)\n",
      "results.head()"
     ],
     "language": "python",
     "metadata": {
      "scrolled": true
     },
     "outputs": [
      {
       "metadata": {},
       "output_type": "display_data",
       "png": "[encoded data removed]",
       "text": [
        "<matplotlib.figure.Figure at 0x106b65b10>"
       ]
      },
      {
       "metadata": {},
       "output_type": "display_data",
       "png": "[encoded data removed]",
       "text": [
        "<matplotlib.figure.Figure at 0x10699d7d0>"
       ]
      },
      {
       "metadata": {},
       "output_type": "display_data",
       "png": "[encoded data removed]",
       "text": [
        "<matplotlib.figure.Figure at 0x106d66dd0>"
       ]
      },
      {
       "metadata": {},
       "output_type": "display_data",
       "png": "[encoded data removed]",
       "text": [
        "<matplotlib.figure.Figure at 0x106cab690>"
       ]
      },
      {
       "metadata": {},
       "output_type": "display_data",
       "png": "[encoded data removed]",
       "text": [
        "<matplotlib.figure.Figure at 0x1069826d0>"
       ]
      },
      {
       "metadata": {},
       "output_type": "display_data",
       "png": "[encoded data removed]",
       "text": [
        "<matplotlib.figure.Figure at 0x106cd47d0>"
       ]
      },
      {
       "html": [
        "<div style=\"max-width:1500px;overflow:auto;\">\n",
        "<table border=\"1\" class=\"dataframe\">\n",
        "  <thead>\n",
        "    <tr style=\"text-align: right;\">\n",
        "      <th></th>\n",
        "      <th>pca__n_components</th>\n",
        "      <th>rf__max_depth</th>\n",
        "      <th>rf__min_rows</th>\n",
        "      <th>rf__ntrees</th>\n",
        "      <th>score</th>\n",
        "      <th>standardize__center</th>\n",
        "      <th>standardize__scale</th>\n",
        "      <th>std</th>\n",
        "    </tr>\n",
        "  </thead>\n",
        "  <tbody>\n",
        "    <tr>\n",
        "      <th>18</th>\n",
        "      <td>5</td>\n",
        "      <td>7</td>\n",
        "      <td>5</td>\n",
        "      <td>69</td>\n",
        "      <td>0.369010</td>\n",
        "      <td>False</td>\n",
        "      <td>True</td>\n",
        "      <td>0.084034</td>\n",
        "    </tr>\n",
        "    <tr>\n",
        "      <th>11</th>\n",
        "      <td>5</td>\n",
        "      <td>6</td>\n",
        "      <td>5</td>\n",
        "      <td>67</td>\n",
        "      <td>0.368902</td>\n",
        "      <td>False</td>\n",
        "      <td>False</td>\n",
        "      <td>0.091818</td>\n",
        "    </tr>\n",
        "    <tr>\n",
        "      <th>8</th>\n",
        "      <td>5</td>\n",
        "      <td>8</td>\n",
        "      <td>7</td>\n",
        "      <td>69</td>\n",
        "      <td>0.364806</td>\n",
        "      <td>False</td>\n",
        "      <td>False</td>\n",
        "      <td>0.099530</td>\n",
        "    </tr>\n",
        "    <tr>\n",
        "      <th>6</th>\n",
        "      <td>5</td>\n",
        "      <td>8</td>\n",
        "      <td>6</td>\n",
        "      <td>74</td>\n",
        "      <td>0.355026</td>\n",
        "      <td>True</td>\n",
        "      <td>True</td>\n",
        "      <td>0.102501</td>\n",
        "    </tr>\n",
        "    <tr>\n",
        "      <th>7</th>\n",
        "      <td>3</td>\n",
        "      <td>8</td>\n",
        "      <td>6</td>\n",
        "      <td>79</td>\n",
        "      <td>0.351689</td>\n",
        "      <td>False</td>\n",
        "      <td>True</td>\n",
        "      <td>0.096872</td>\n",
        "    </tr>\n",
        "  </tbody>\n",
        "</table>\n",
        "</div>"
       ],
       "metadata": {},
       "output_type": "pyout",
       "prompt_number": 90,
       "text": [
        "    pca__n_components  rf__max_depth  rf__min_rows  rf__ntrees     score  \\\n",
        "18                  5              7             5          69  0.369010   \n",
        "11                  5              6             5          67  0.368902   \n",
        "8                   5              8             7          69  0.364806   \n",
        "6                   5              8             6          74  0.355026   \n",
        "7                   3              8             6          79  0.351689   \n",
        "\n",
        "   standardize__center standardize__scale       std  \n",
        "18               False               True  0.084034  \n",
        "11               False              False  0.091818  \n",
        "8                False              False  0.099530  \n",
        "6                 True               True  0.102501  \n",
        "7                False               True  0.096872  "
       ]
      }
     ],
     "prompt_number": 90
    },
    {
     "cell_type": "markdown",
     "metadata": {},
     "source": [
      "Currently Under Development (drop-in scikit-learn pieces):\n",
      "    * Richer set of transforms (only PCA and Scale are implemented)\n",
      "    * Richer set of estimators (only RandomForest is available)\n",
      "    * Full H2O Grid Search"
     ]
    },
    {
     "cell_type": "heading",
     "level": 3,
     "metadata": {},
     "source": [
      "Other Tips: Model Save/Load"
     ]
    },
    {
     "cell_type": "markdown",
     "metadata": {},
     "source": [
      "It is useful to save constructed models to disk and reload them between H2O sessions. Here's how:"
     ]
    },
    {
     "cell_type": "code",
     "collapsed": false,
     "input": [
      "best_estimator = random_search.best_estimator_                        # fetch the pipeline from the grid search\n",
      "h2o_model      = h2o.get_model(best_estimator._final_estimator._id)    # fetch the model from the pipeline"
     ],
     "language": "python",
     "metadata": {},
     "outputs": [],
     "prompt_number": 91
    },
    {
     "cell_type": "code",
     "collapsed": false,
     "input": [
      "save_path = h2o.save_model(h2o_model, path=\".\", force=True)\n",
      "print save_path"
     ],
     "language": "python",
     "metadata": {},
     "outputs": [
      {
       "output_type": "stream",
       "stream": "stdout",
       "text": [
        "/Users/ece/0xdata/h2o-dev/DRF_model_python_1442338733924_1342\n"
       ]
      }
     ],
     "prompt_number": 92
    },
    {
     "cell_type": "code",
     "collapsed": false,
     "input": [
      "# assumes new session\n",
      "my_model = h2o.load_model(path=save_path)"
     ],
     "language": "python",
     "metadata": {},
     "outputs": [],
     "prompt_number": 93
    },
    {
     "cell_type": "code",
     "collapsed": false,
     "input": [
      "my_model.predict(fr)"
     ],
     "language": "python",
     "metadata": {
      "scrolled": false
     },
     "outputs": [
      {
       "output_type": "stream",
       "stream": "stdout",
       "text": [
        "H2OFrame with 462 rows and 1 columns: \n",
        "     predict\n",
        "0  27.582987\n",
        "1  27.582987\n",
        "2  27.582987\n",
        "3  27.582987\n",
        "4  27.582987\n",
        "5  27.582987\n",
        "6  27.582987\n",
        "7  27.582987\n",
        "8  27.582987\n",
        "9  27.582987\n"
       ]
      },
      {
       "metadata": {},
       "output_type": "pyout",
       "prompt_number": 94,
       "text": []
      }
     ],
     "prompt_number": 94
    }
   ],
   "metadata": {}
  }
 ]
}
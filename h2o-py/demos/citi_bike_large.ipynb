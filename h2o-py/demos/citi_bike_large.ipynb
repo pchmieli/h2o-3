{
 "metadata": {
  "kernelspec": {
   "display_name": "Python 2",
   "language": "python",
   "name": "python2"
  },
  "language_info": {
   "codemirror_mode": {
    "name": "ipython",
    "version": 2
   },
   "file_extension": ".py",
   "mimetype": "text/x-python",
   "name": "python",
   "nbconvert_exporter": "python",
   "pygments_lexer": "ipython2",
   "version": "2.7.9"
  },
  "name": "",
  "signature": "sha256:accb9a31b5133635c2f180847e5b644d203711e5c4391c0a0812634ced83d8ac"
 },
 "nbformat": 3,
 "nbformat_minor": 0,
 "worksheets": [
  {
   "cells": [
    {
     "cell_type": "code",
     "collapsed": false,
     "input": [
      "import h2o\n",
      "import time"
     ],
     "language": "python",
     "metadata": {},
     "outputs": [],
     "prompt_number": 1
    },
    {
     "cell_type": "code",
     "collapsed": false,
     "input": [
      "# Explore a typical Data Science workflow with H2O and Python\n",
      "#\n",
      "# Goal: assist the manager of CitiBike of NYC to load-balance the bicycles\n",
      "# across the CitiBike network of stations, by predicting the number of bike\n",
      "# trips taken from the station every day.  Use 10 million rows of historical\n",
      "# data, and eventually add weather data.\n",
      "\n",
      "\n",
      "# Connect to a cluster\n",
      "h2o.init()"
     ],
     "language": "python",
     "metadata": {},
     "outputs": [
      {
       "html": [
        "<div style=\"overflow:auto\"><table style=\"width:50%\"><tr><td>H2O cluster uptime: </td>\n",
        "<td>4 seconds 579 milliseconds </td></tr>\n",
        "<tr><td>H2O cluster version: </td>\n",
        "<td>3.3.0.99999</td></tr>\n",
        "<tr><td>H2O cluster name: </td>\n",
        "<td>ece</td></tr>\n",
        "<tr><td>H2O cluster total nodes: </td>\n",
        "<td>1</td></tr>\n",
        "<tr><td>H2O cluster total memory: </td>\n",
        "<td>8.89 GB</td></tr>\n",
        "<tr><td>H2O cluster total cores: </td>\n",
        "<td>8</td></tr>\n",
        "<tr><td>H2O cluster allowed cores: </td>\n",
        "<td>8</td></tr>\n",
        "<tr><td>H2O cluster healthy: </td>\n",
        "<td>True</td></tr>\n",
        "<tr><td>H2O Connection ip: </td>\n",
        "<td>127.0.0.1</td></tr>\n",
        "<tr><td>H2O Connection port: </td>\n",
        "<td>54321</td></tr></table></div>"
       ],
       "metadata": {},
       "output_type": "display_data",
       "text": [
        "--------------------------  --------------------------\n",
        "H2O cluster uptime:         4 seconds 579 milliseconds\n",
        "H2O cluster version:        3.3.0.99999\n",
        "H2O cluster name:           ece\n",
        "H2O cluster total nodes:    1\n",
        "H2O cluster total memory:   8.89 GB\n",
        "H2O cluster total cores:    8\n",
        "H2O cluster allowed cores:  8\n",
        "H2O cluster healthy:        True\n",
        "H2O Connection ip:          127.0.0.1\n",
        "H2O Connection port:        54321\n",
        "--------------------------  --------------------------"
       ]
      }
     ],
     "prompt_number": 2
    },
    {
     "cell_type": "code",
     "collapsed": true,
     "input": [
      "# Set this to True if you want to fetch the data directly from S3.\n",
      "# This is useful if your cluster is running in EC2.\n",
      "data_source_is_s3 = False\n",
      "\n",
      "def mylocate(s):\n",
      "    if data_source_is_s3:\n",
      "        return \"s3n://h2o-public-test-data/\" + s\n",
      "    else:\n",
      "        return h2o.locate(s)"
     ],
     "language": "python",
     "metadata": {},
     "outputs": [],
     "prompt_number": 3
    },
    {
     "cell_type": "code",
     "collapsed": false,
     "input": [
      "# Pick either the big or the small demo.\n",
      "# Big data is 10M rows\n",
      "small_test = [mylocate(\"bigdata/laptop/citibike-nyc/2013-10.csv\")]\n",
      "big_test =   [mylocate(\"bigdata/laptop/citibike-nyc/2013-07.csv\"),\n",
      "              mylocate(\"bigdata/laptop/citibike-nyc/2013-08.csv\"),\n",
      "              mylocate(\"bigdata/laptop/citibike-nyc/2013-09.csv\"),\n",
      "              mylocate(\"bigdata/laptop/citibike-nyc/2013-10.csv\"),\n",
      "              mylocate(\"bigdata/laptop/citibike-nyc/2013-11.csv\"),\n",
      "              mylocate(\"bigdata/laptop/citibike-nyc/2013-12.csv\"),\n",
      "              mylocate(\"bigdata/laptop/citibike-nyc/2014-01.csv\"),\n",
      "              mylocate(\"bigdata/laptop/citibike-nyc/2014-02.csv\"),\n",
      "              mylocate(\"bigdata/laptop/citibike-nyc/2014-03.csv\"),\n",
      "              mylocate(\"bigdata/laptop/citibike-nyc/2014-04.csv\"),\n",
      "              mylocate(\"bigdata/laptop/citibike-nyc/2014-05.csv\"),\n",
      "              mylocate(\"bigdata/laptop/citibike-nyc/2014-06.csv\"),\n",
      "              mylocate(\"bigdata/laptop/citibike-nyc/2014-07.csv\"),\n",
      "              mylocate(\"bigdata/laptop/citibike-nyc/2014-08.csv\")]\n",
      "\n",
      "# ----------\n",
      "\n",
      "# 1- Load data - 1 row per bicycle trip.  Has columns showing the start and end\n",
      "# station, trip duration and trip start time and day.  The larger dataset\n",
      "# totals about 10 million rows\n",
      "print \"Import and Parse bike data\"\n",
      "data = h2o.import_file(path=big_test)"
     ],
     "language": "python",
     "metadata": {},
     "outputs": [
      {
       "output_type": "stream",
       "stream": "stdout",
       "text": [
        "Import and Parse bike data\n",
        "\n"
       ]
      },
      {
       "output_type": "stream",
       "stream": "stdout",
       "text": [
        "\r",
        "Parse Progress: [                                                  ] 00%"
       ]
      },
      {
       "output_type": "stream",
       "stream": "stdout",
       "text": [
        "\r",
        "Parse Progress: [                                                  ] 00%"
       ]
      },
      {
       "output_type": "stream",
       "stream": "stdout",
       "text": [
        "\r",
        "Parse Progress: [                                                  ] 00%"
       ]
      },
      {
       "output_type": "stream",
       "stream": "stdout",
       "text": [
        "\r",
        "Parse Progress: [                                                  ] 01%"
       ]
      },
      {
       "output_type": "stream",
       "stream": "stdout",
       "text": [
        "\r",
        "Parse Progress: [#                                                 ] 02%"
       ]
      },
      {
       "output_type": "stream",
       "stream": "stdout",
       "text": [
        "\r",
        "Parse Progress: [###                                               ] 06%"
       ]
      },
      {
       "output_type": "stream",
       "stream": "stdout",
       "text": [
        "\r",
        "Parse Progress: [#######                                           ] 15%"
       ]
      },
      {
       "output_type": "stream",
       "stream": "stdout",
       "text": [
        "\r",
        "Parse Progress: [###########                                       ] 23%"
       ]
      },
      {
       "output_type": "stream",
       "stream": "stdout",
       "text": [
        "\r",
        "Parse Progress: [###############                                   ] 30%"
       ]
      },
      {
       "output_type": "stream",
       "stream": "stdout",
       "text": [
        "\r",
        "Parse Progress: [####################                              ] 41%"
       ]
      },
      {
       "output_type": "stream",
       "stream": "stdout",
       "text": [
        "\r",
        "Parse Progress: [###########################                       ] 54%"
       ]
      },
      {
       "output_type": "stream",
       "stream": "stdout",
       "text": [
        "\r",
        "Parse Progress: [################################                  ] 64%"
       ]
      },
      {
       "output_type": "stream",
       "stream": "stdout",
       "text": [
        "\r",
        "Parse Progress: [#######################################           ] 79%"
       ]
      },
      {
       "output_type": "stream",
       "stream": "stdout",
       "text": [
        "\r",
        "Parse Progress: [##############################################    ] 93%"
       ]
      },
      {
       "output_type": "stream",
       "stream": "stdout",
       "text": [
        "\r",
        "Parse Progress: [##################################################] 100%"
       ]
      },
      {
       "output_type": "stream",
       "stream": "stdout",
       "text": [
        "\n",
        "\n",
        "Parsed 10,407,546 rows and 15 cols:\n",
        "\n"
       ]
      },
      {
       "html": [
        "<div style=\"overflow:auto\"><table style=\"width:50%\"><tr><td>File1</td>\n",
        "<td>/Users/ece/0xdata/h2o-dev/bigdata/laptop/citibike-nyc/2013-07.csv</td></tr>\n",
        "<tr><td>File2</td>\n",
        "<td>/Users/ece/0xdata/h2o-dev/bigdata/laptop/citibike-nyc/2013-08.csv</td></tr>\n",
        "<tr><td>File3</td>\n",
        "<td>/Users/ece/0xdata/h2o-dev/bigdata/laptop/citibike-nyc/2013-09.csv</td></tr>\n",
        "<tr><td>File4</td>\n",
        "<td>/Users/ece/0xdata/h2o-dev/bigdata/laptop/citibike-nyc/2013-10.csv</td></tr>\n",
        "<tr><td>File5</td>\n",
        "<td>/Users/ece/0xdata/h2o-dev/bigdata/laptop/citibike-nyc/2013-11.csv</td></tr>\n",
        "<tr><td>File6</td>\n",
        "<td>/Users/ece/0xdata/h2o-dev/bigdata/laptop/citibike-nyc/2013-12.csv</td></tr>\n",
        "<tr><td>File7</td>\n",
        "<td>/Users/ece/0xdata/h2o-dev/bigdata/laptop/citibike-nyc/2014-01.csv</td></tr>\n",
        "<tr><td>File8</td>\n",
        "<td>/Users/ece/0xdata/h2o-dev/bigdata/laptop/citibike-nyc/2014-02.csv</td></tr>\n",
        "<tr><td>File9</td>\n",
        "<td>/Users/ece/0xdata/h2o-dev/bigdata/laptop/citibike-nyc/2014-03.csv</td></tr>\n",
        "<tr><td>File10</td>\n",
        "<td>/Users/ece/0xdata/h2o-dev/bigdata/laptop/citibike-nyc/2014-04.csv</td></tr>\n",
        "<tr><td>File11</td>\n",
        "<td>/Users/ece/0xdata/h2o-dev/bigdata/laptop/citibike-nyc/2014-05.csv</td></tr>\n",
        "<tr><td>File12</td>\n",
        "<td>/Users/ece/0xdata/h2o-dev/bigdata/laptop/citibike-nyc/2014-06.csv</td></tr>\n",
        "<tr><td>File13</td>\n",
        "<td>/Users/ece/0xdata/h2o-dev/bigdata/laptop/citibike-nyc/2014-07.csv</td></tr>\n",
        "<tr><td>File14</td>\n",
        "<td>/Users/ece/0xdata/h2o-dev/bigdata/laptop/citibike-nyc/2014-08.csv</td></tr></table></div>"
       ],
       "metadata": {},
       "output_type": "display_data",
       "text": [
        "------  -----------------------------------------------------------------\n",
        "File1   /Users/ece/0xdata/h2o-dev/bigdata/laptop/citibike-nyc/2013-07.csv\n",
        "File2   /Users/ece/0xdata/h2o-dev/bigdata/laptop/citibike-nyc/2013-08.csv\n",
        "File3   /Users/ece/0xdata/h2o-dev/bigdata/laptop/citibike-nyc/2013-09.csv\n",
        "File4   /Users/ece/0xdata/h2o-dev/bigdata/laptop/citibike-nyc/2013-10.csv\n",
        "File5   /Users/ece/0xdata/h2o-dev/bigdata/laptop/citibike-nyc/2013-11.csv\n",
        "File6   /Users/ece/0xdata/h2o-dev/bigdata/laptop/citibike-nyc/2013-12.csv\n",
        "File7   /Users/ece/0xdata/h2o-dev/bigdata/laptop/citibike-nyc/2014-01.csv\n",
        "File8   /Users/ece/0xdata/h2o-dev/bigdata/laptop/citibike-nyc/2014-02.csv\n",
        "File9   /Users/ece/0xdata/h2o-dev/bigdata/laptop/citibike-nyc/2014-03.csv\n",
        "File10  /Users/ece/0xdata/h2o-dev/bigdata/laptop/citibike-nyc/2014-04.csv\n",
        "File11  /Users/ece/0xdata/h2o-dev/bigdata/laptop/citibike-nyc/2014-05.csv\n",
        "File12  /Users/ece/0xdata/h2o-dev/bigdata/laptop/citibike-nyc/2014-06.csv\n",
        "File13  /Users/ece/0xdata/h2o-dev/bigdata/laptop/citibike-nyc/2014-07.csv\n",
        "File14  /Users/ece/0xdata/h2o-dev/bigdata/laptop/citibike-nyc/2014-08.csv\n",
        "------  -----------------------------------------------------------------"
       ]
      }
     ],
     "prompt_number": 4
    },
    {
     "cell_type": "code",
     "collapsed": false,
     "input": [
      "# ----------\n",
      "\n",
      "# 2- light data munging: group the bike starts per-day, converting the 10M rows\n",
      "# of trips to about 140,000 station&day combos - predicting the number of trip\n",
      "# starts per-station-per-day.\n",
      "\n",
      "# Convert start time to: Day since the Epoch\n",
      "startime = data[\"starttime\"]\n",
      "secsPerDay=1000*60*60*24\n",
      "data[\"Days\"] = (startime/secsPerDay).floor()\n",
      "data.describe()"
     ],
     "language": "python",
     "metadata": {},
     "outputs": [
      {
       "output_type": "stream",
       "stream": "stdout",
       "text": [
        "Rows: 10,407,546 Cols: 16\n",
        "  chunk_type                 chunk_name  count  count_percentage        size  \\\n",
        "0        C0L          Constant Integers    117          1.529812      9.1 KB   \n",
        "1         C1            1-Byte Integers    478          6.250000     10.0 MB   \n",
        "2        C1N  1-Byte Integers (w/o NAs)    478          6.250000     10.0 MB   \n",
        "3        C1S           1-Byte Fractions    839         10.970188     17.5 MB   \n",
        "4         C2            2-Byte Integers   2616         34.205020    108.8 MB   \n",
        "5        C2S           2-Byte Fractions    314          4.105649     12.9 MB   \n",
        "6         C4            4-Byte Integers    214          2.798117     17.9 MB   \n",
        "7        C4S           4-Byte Fractions    389          5.086297     32.4 MB   \n",
        "8         C8            64-bit Integers    680          8.891213    113.5 MB   \n",
        "9        C8D               64-bit Reals   1523         19.913704    253.0 MB   \n",
        "\n",
        "   size_percentage  \n",
        "0         0.001550  \n",
        "1         1.728914  \n",
        "2         1.728914  \n",
        "3         3.042758  \n",
        "4        18.890900  \n",
        "5         2.246094  \n",
        "6         3.100523  \n",
        "7         5.625424  \n",
        "8        19.704786  \n",
        "9        43.930134  "
       ]
      },
      {
       "output_type": "stream",
       "stream": "stdout",
       "text": [
        "\n",
        "                            size  number_of_rows  number_of_chunks_per_column  \\\n",
        "0  172.16.2.59:54321    575.9 MB        10407546                          478   \n",
        "1               mean    575.9 MB        10407546                          478   \n",
        "2                min    575.9 MB        10407546                          478   \n",
        "3                max    575.9 MB        10407546                          478   \n",
        "4             stddev        0  B               0                            0   \n",
        "5              total    575.9 MB        10407546                          478   \n",
        "\n",
        "   number_of_chunks  \n",
        "0              7648  \n",
        "1              7648  \n",
        "2              7648  \n",
        "3              7648  \n",
        "4                 0  \n",
        "5              7648  \n",
        "\n"
       ]
      },
      {
       "output_type": "stream",
       "stream": "stdout",
       "text": [
        "Column-by-Column Summary:\n",
        "\n"
       ]
      },
      {
       "html": [
        "<div style=\"overflow:auto\"><table style=\"width:50%\"><tr><td></td>\n",
        "<td>tripduration</td>\n",
        "<td>starttime</td>\n",
        "<td>stoptime</td>\n",
        "<td>start station id</td>\n",
        "<td>start station name</td>\n",
        "<td>start station latitude</td>\n",
        "<td>start station longitude</td>\n",
        "<td>end station id</td>\n",
        "<td>end station name</td>\n",
        "<td>end station latitude</td>\n",
        "<td>end station longitude</td>\n",
        "<td>bikeid</td>\n",
        "<td>usertype</td>\n",
        "<td>birth year</td>\n",
        "<td>gender</td>\n",
        "<td>Days</td></tr>\n",
        "<tr><td>type</td>\n",
        "<td>int</td>\n",
        "<td>time</td>\n",
        "<td>time</td>\n",
        "<td>int</td>\n",
        "<td>enum</td>\n",
        "<td>real</td>\n",
        "<td>real</td>\n",
        "<td>int</td>\n",
        "<td>enum</td>\n",
        "<td>real</td>\n",
        "<td>real</td>\n",
        "<td>int</td>\n",
        "<td>enum</td>\n",
        "<td>int</td>\n",
        "<td>int</td>\n",
        "<td>int</td></tr>\n",
        "<tr><td>mins</td>\n",
        "<td>60.0</td>\n",
        "<td>1.372662e+12</td>\n",
        "<td>1.372662242e+12</td>\n",
        "<td>72.0</td>\n",
        "<td>0.0</td>\n",
        "<td>40.680342423</td>\n",
        "<td>-74.01713445</td>\n",
        "<td>72.0</td>\n",
        "<td>0.0</td>\n",
        "<td>40.680342423</td>\n",
        "<td>-74.01713445</td>\n",
        "<td>14529.0</td>\n",
        "<td>0.0</td>\n",
        "<td>1899.0</td>\n",
        "<td>0.0</td>\n",
        "<td>15887.0</td></tr>\n",
        "<tr><td>maxs</td>\n",
        "<td>6250750.0</td>\n",
        "<td>1.409554787e+12</td>\n",
        "<td>1.409563605e+12</td>\n",
        "<td>3002.0</td>\n",
        "<td>339.0</td>\n",
        "<td>40.771522</td>\n",
        "<td>-73.9500479759</td>\n",
        "<td>3002.0</td>\n",
        "<td>339.0</td>\n",
        "<td>40.771522</td>\n",
        "<td>-73.9500479759</td>\n",
        "<td>21689.0</td>\n",
        "<td>1.0</td>\n",
        "<td>1998.0</td>\n",
        "<td>2.0</td>\n",
        "<td>16314.0</td></tr>\n",
        "<tr><td>sigma</td>\n",
        "<td>2985.10540532</td>\n",
        "<td>11806578171.7</td>\n",
        "<td>11806555707.8</td>\n",
        "<td>355.755989765</td>\n",
        "<td>NaN</td>\n",
        "<td>0.0197100508736</td>\n",
        "<td>0.0123453320185</td>\n",
        "<td>360.070380844</td>\n",
        "<td>NaN</td>\n",
        "<td>0.0197309578633</td>\n",
        "<td>0.0124311861598</td>\n",
        "<td>1938.80517884</td>\n",
        "<td>0.324807387506</td>\n",
        "<td>11.132784905</td>\n",
        "<td>0.563019777794</td>\n",
        "<td>136.647269305</td></tr>\n",
        "<tr><td>zero_count</td>\n",
        "<td>0</td>\n",
        "<td>0</td>\n",
        "<td>0</td>\n",
        "<td>0</td>\n",
        "<td>56836</td>\n",
        "<td>0</td>\n",
        "<td>0</td>\n",
        "<td>0</td>\n",
        "<td>55167</td>\n",
        "<td>0</td>\n",
        "<td>0</td>\n",
        "<td>0</td>\n",
        "<td>1247534</td>\n",
        "<td>0</td>\n",
        "<td>1248517</td>\n",
        "<td>0</td></tr>\n",
        "<tr><td>missing_count</td>\n",
        "<td>0</td>\n",
        "<td>0</td>\n",
        "<td>0</td>\n",
        "<td>0</td>\n",
        "<td>0</td>\n",
        "<td>0</td>\n",
        "<td>0</td>\n",
        "<td>0</td>\n",
        "<td>0</td>\n",
        "<td>0</td>\n",
        "<td>0</td>\n",
        "<td>0</td>\n",
        "<td>0</td>\n",
        "<td>1247644</td>\n",
        "<td>0</td>\n",
        "<td>0</td></tr></table></div>"
       ],
       "metadata": {},
       "output_type": "display_data",
       "text": [
        "               tripduration    starttime        stoptime         start station id    start station name    start station latitude    start station longitude    end station id    end station name    end station latitude    end station longitude    bikeid         usertype        birth year    gender          Days\n",
        "-------------  --------------  ---------------  ---------------  ------------------  --------------------  ------------------------  -------------------------  ----------------  ------------------  ----------------------  -----------------------  -------------  --------------  ------------  --------------  -------------\n",
        "type           int             time             time             int                 enum                  real                      real                       int               enum                real                    real                     int            enum            int           int             int\n",
        "mins           60.0            1.372662e+12     1.372662242e+12  72.0                0.0                   40.680342423              -74.01713445               72.0              0.0                 40.680342423            -74.01713445             14529.0        0.0             1899.0        0.0             15887.0\n",
        "maxs           6250750.0       1.409554787e+12  1.409563605e+12  3002.0              339.0                 40.771522                 -73.9500479759             3002.0            339.0               40.771522               -73.9500479759           21689.0        1.0             1998.0        2.0             16314.0\n",
        "sigma          2985.10540532   11806578171.7    11806555707.8    355.755989765       NaN                   0.0197100508736           0.0123453320185            360.070380844     NaN                 0.0197309578633         0.0124311861598          1938.80517884  0.324807387506  11.132784905  0.563019777794  136.647269305\n",
        "zero_count     0               0                0                0                   56836                 0                         0                          0                 55167               0                       0                        0              1247534         0             1248517         0\n",
        "missing_count  0               0                0                0                   0                     0                         0                          0                 0                   0                       0                        0              0               1247644       0               0"
       ]
      }
     ],
     "prompt_number": 5
    },
    {
     "cell_type": "code",
     "collapsed": false,
     "input": [
      "# Now do a monster Group-By.  Count bike starts per-station per-day.  Ends up\n",
      "# with about 340 stations times 400 days (140,000 rows).  This is what we want\n",
      "# to predict.\n",
      "grouped = data.group_by([\"Days\",\"start station name\"])\n",
      "bpd = grouped.count().get_frame() # Compute bikes-per-day\n",
      "bpd.set_name(2,\"bikes\")\n",
      "bpd.show()\n",
      "bpd.describe()\n",
      "bpd.dim"
     ],
     "language": "python",
     "metadata": {},
     "outputs": [
      {
       "output_type": "stream",
       "stream": "stdout",
       "text": [
        "H2OFrame with 139261 rows and 3 columns: \n",
        "    Days start station name  bikes\n",
        "0  15887    1 Ave & E 15 St     47\n",
        "1  15887    1 Ave & E 18 St     40\n",
        "2  15887    1 Ave & E 30 St     42\n",
        "3  15887    1 Ave & E 44 St     12\n",
        "4  15887   10 Ave & W 28 St     28\n",
        "5  15887   11 Ave & W 27 St     30\n",
        "6  15887   11 Ave & W 41 St     20\n",
        "7  15887   12 Ave & W 40 St     13\n",
        "8  15887    2 Ave & E 31 St     33\n",
        "9  15887    2 Ave & E 58 St     54\n",
        "Rows: 139,261 Cols: 3\n",
        "  chunk_type                 chunk_name  count  count_percentage        size  \\\n",
        "0        C1N  1-Byte Integers (w/o NAs)      2          2.083334      8.6 KB   \n",
        "1        C1S           1-Byte Fractions     32         33.333336    138.6 KB   \n",
        "2         C2            2-Byte Integers     62         64.583330    531.1 KB   \n",
        "\n",
        "   size_percentage  \n",
        "0         1.272600  \n",
        "1        20.434874  \n",
        "2        78.292534  \n",
        "                            size  number_of_rows  number_of_chunks_per_column  \\\n",
        "0  172.16.2.59:54321    678.4 KB          139261                           32   \n",
        "1               mean    678.4 KB          139261                           32   \n",
        "2                min    678.4 KB          139261                           32   \n",
        "3                max    678.4 KB          139261                           32   \n",
        "4             stddev        0  B               0                            0   \n",
        "5              total    678.4 KB          139261                           32   \n",
        "\n",
        "   number_of_chunks  \n",
        "0                96  \n",
        "1                96  \n",
        "2                96  \n",
        "3                96  \n",
        "4                 0  \n",
        "5                96  \n",
        "\n",
        "Column-by-Column Summary:\n",
        "\n"
       ]
      },
      {
       "html": [
        "<div style=\"overflow:auto\"><table style=\"width:50%\"><tr><td></td>\n",
        "<td>Days</td>\n",
        "<td>start station name</td>\n",
        "<td>bikes</td></tr>\n",
        "<tr><td>type</td>\n",
        "<td>int</td>\n",
        "<td>enum</td>\n",
        "<td>int</td></tr>\n",
        "<tr><td>mins</td>\n",
        "<td>15887.0</td>\n",
        "<td>0.0</td>\n",
        "<td>1.0</td></tr>\n",
        "<tr><td>maxs</td>\n",
        "<td>16314.0</td>\n",
        "<td>339.0</td>\n",
        "<td>680.0</td></tr>\n",
        "<tr><td>sigma</td>\n",
        "<td>123.635133897</td>\n",
        "<td>NaN</td>\n",
        "<td>64.1243887565</td></tr>\n",
        "<tr><td>zero_count</td>\n",
        "<td>0</td>\n",
        "<td>428</td>\n",
        "<td>0</td></tr>\n",
        "<tr><td>missing_count</td>\n",
        "<td>0</td>\n",
        "<td>0</td>\n",
        "<td>0</td></tr></table></div>"
       ],
       "metadata": {},
       "output_type": "display_data",
       "text": [
        "               Days           start station name    bikes\n",
        "-------------  -------------  --------------------  -------------\n",
        "type           int            enum                  int\n",
        "mins           15887.0        0.0                   1.0\n",
        "maxs           16314.0        339.0                 680.0\n",
        "sigma          123.635133897  NaN                   64.1243887565\n",
        "zero_count     0              428                   0\n",
        "missing_count  0              0                     0"
       ]
      },
      {
       "metadata": {},
       "output_type": "pyout",
       "prompt_number": 6,
       "text": [
        "[139261, 3]"
       ]
      }
     ],
     "prompt_number": 6
    },
    {
     "cell_type": "code",
     "collapsed": false,
     "input": [
      "# Quantiles: the data is fairly unbalanced; some station/day combos are wildly\n",
      "# more popular than others.\n",
      "print \"Quantiles of bikes-per-day\"\n",
      "bpd[\"bikes\"].quantile().show()"
     ],
     "language": "python",
     "metadata": {
      "scrolled": true
     },
     "outputs": [
      {
       "output_type": "stream",
       "stream": "stdout",
       "text": [
        "Quantiles of bikes-per-day\n",
        "H2OFrame with 9 rows and 2 columns: "
       ]
      },
      {
       "output_type": "stream",
       "stream": "stdout",
       "text": [
        "\n",
        "   Probs  bikesQuantiles\n",
        "0  0.010               2\n",
        "1  0.100              11\n",
        "2  0.250              26\n",
        "3  0.333              35\n",
        "4  0.500              58\n",
        "5  0.667              89\n",
        "6  0.750             107\n",
        "7  0.900             157\n",
        "8  0.990             291\n"
       ]
      }
     ],
     "prompt_number": 7
    },
    {
     "cell_type": "code",
     "collapsed": false,
     "input": [
      "# A little feature engineering\n",
      "# Add in month-of-year (seasonality; fewer bike rides in winter than summer)\n",
      "secs = bpd[\"Days\"]*secsPerDay\n",
      "bpd[\"Month\"]     = secs.month().asfactor()\n",
      "# Add in day-of-week (work-week; more bike rides on Sunday than Monday)\n",
      "bpd[\"DayOfWeek\"] = secs.dayOfWeek()\n",
      "print \"Bikes-Per-Day\"\n",
      "bpd.describe()"
     ],
     "language": "python",
     "metadata": {},
     "outputs": [
      {
       "output_type": "stream",
       "stream": "stdout",
       "text": [
        "Bikes-Per-Day\n",
        "Rows: 139,261 Cols: 5\n",
        "  chunk_type                 chunk_name  count  count_percentage        size  \\\n",
        "0        C0L          Constant Integers     18         11.250000      1.4 KB   \n",
        "1        CBS                       Bits      1          0.625000      614  B   \n",
        "2        C1N  1-Byte Integers (w/o NAs)     47         29.374998    202.9 KB   \n",
        "3        C1S           1-Byte Fractions     32         20.000000    138.6 KB   \n",
        "4         C2            2-Byte Integers     62         38.750000    531.1 KB   \n",
        "\n",
        "   size_percentage  \n",
        "0         0.160788  \n",
        "1         0.068558  \n",
        "2        23.195410  \n",
        "3        15.849757  \n",
        "4        60.725487  \n",
        "                            size  number_of_rows  number_of_chunks_per_column  \\\n",
        "0  172.16.2.59:54321    874.6 KB          139261                           32   \n",
        "1               mean    874.6 KB          139261                           32   \n",
        "2                min    874.6 KB          139261                           32   \n",
        "3                max    874.6 KB          139261                           32   \n",
        "4             stddev        0  B               0                            0   \n",
        "5              total    874.6 KB          139261                           32   \n",
        "\n",
        "   number_of_chunks  \n",
        "0               160  \n",
        "1               160  \n",
        "2               160  \n",
        "3               160  \n",
        "4                 0  \n",
        "5               160  \n",
        "\n",
        "Column-by-Column Summary:\n",
        "\n"
       ]
      },
      {
       "html": [
        "<div style=\"overflow:auto\"><table style=\"width:50%\"><tr><td></td>\n",
        "<td>Days</td>\n",
        "<td>start station name</td>\n",
        "<td>bikes</td>\n",
        "<td>Month</td>\n",
        "<td>DayOfWeek</td></tr>\n",
        "<tr><td>type</td>\n",
        "<td>int</td>\n",
        "<td>enum</td>\n",
        "<td>int</td>\n",
        "<td>enum</td>\n",
        "<td>enum</td></tr>\n",
        "<tr><td>mins</td>\n",
        "<td>15887.0</td>\n",
        "<td>0.0</td>\n",
        "<td>1.0</td>\n",
        "<td>0.0</td>\n",
        "<td>0.0</td></tr>\n",
        "<tr><td>maxs</td>\n",
        "<td>16314.0</td>\n",
        "<td>339.0</td>\n",
        "<td>680.0</td>\n",
        "<td>11.0</td>\n",
        "<td>6.0</td></tr>\n",
        "<tr><td>sigma</td>\n",
        "<td>123.635133897</td>\n",
        "<td>NaN</td>\n",
        "<td>64.1243887565</td>\n",
        "<td>NaN</td>\n",
        "<td>NaN</td></tr>\n",
        "<tr><td>zero_count</td>\n",
        "<td>0</td>\n",
        "<td>428</td>\n",
        "<td>0</td>\n",
        "<td>9949</td>\n",
        "<td>19880</td></tr>\n",
        "<tr><td>missing_count</td>\n",
        "<td>0</td>\n",
        "<td>0</td>\n",
        "<td>0</td>\n",
        "<td>0</td>\n",
        "<td>0</td></tr></table></div>"
       ],
       "metadata": {},
       "output_type": "display_data",
       "text": [
        "               Days           start station name    bikes          Month    DayOfWeek\n",
        "-------------  -------------  --------------------  -------------  -------  -----------\n",
        "type           int            enum                  int            enum     enum\n",
        "mins           15887.0        0.0                   1.0            0.0      0.0\n",
        "maxs           16314.0        339.0                 680.0          11.0     6.0\n",
        "sigma          123.635133897  NaN                   64.1243887565  NaN      NaN\n",
        "zero_count     0              428                   0              9949     19880\n",
        "missing_count  0              0                     0              0        0"
       ]
      }
     ],
     "prompt_number": 8
    },
    {
     "cell_type": "code",
     "collapsed": false,
     "input": [
      "# ----------\n",
      "# 3- Fit a model on train; using test as validation\n",
      "\n",
      "# Function for doing class test/train/holdout split\n",
      "def split_fit_predict(data):\n",
      "  global gbm0,drf0,glm0,dl0\n",
      "  # Classic Test/Train split\n",
      "  r = data['Days'].runif()   # Random UNIForm numbers, one per row\n",
      "  train = data[  r  < 0.6]\n",
      "  test  = data[(0.6 <= r) & (r < 0.9)]\n",
      "  hold  = data[ 0.9 <= r ]\n",
      "  print \"Training data has\",train.ncol,\"columns and\",train.nrow,\"rows, test has\",test.nrow,\"rows, holdout has\",hold.nrow\n",
      "  \n",
      "  # Run GBM\n",
      "  s = time.time()\n",
      "  gbm0 = h2o.gbm(x           =train.drop(\"bikes\"),\n",
      "                 y           =train     [\"bikes\"],\n",
      "                 validation_x=test .drop(\"bikes\"),\n",
      "                 validation_y=test      [\"bikes\"],\n",
      "                 ntrees=500, # 500 works well\n",
      "                 max_depth=6,\n",
      "                 learn_rate=0.1)\n",
      "  gbm_elapsed = time.time() - s\n",
      "\n",
      "  # Run DRF\n",
      "  s = time.time()\n",
      "  drf0 = h2o.random_forest(x =train.drop(\"bikes\"),\n",
      "                y           =train     [\"bikes\"],\n",
      "                validation_x=test .drop(\"bikes\"),\n",
      "                validation_y=test      [\"bikes\"],\n",
      "                ntrees=250,\n",
      "                max_depth=30)\n",
      "  drf_elapsed = time.time() - s \n",
      "    \n",
      "    \n",
      "  # Run GLM\n",
      "  s = time.time()\n",
      "  glm0 = h2o.glm(x           =train.drop(\"bikes\"),\n",
      "                 y           =train     [\"bikes\"],\n",
      "                 validation_x=test .drop(\"bikes\"),\n",
      "                 validation_y=test      [\"bikes\"],\n",
      "                 Lambda=[1e-5],\n",
      "                 family=\"poisson\")\n",
      "  glm_elapsed = time.time() - s\n",
      "  \n",
      "  # Run DL\n",
      "  s = time.time()\n",
      "  dl0 = h2o.deeplearning(x  =train.drop(\"bikes\"),\n",
      "                y           =train     [\"bikes\"],\n",
      "                validation_x=test .drop(\"bikes\"),\n",
      "                validation_y=test      [\"bikes\"],\n",
      "                hidden=[50,50,50,50],\n",
      "                epochs=50)\n",
      "  dl_elapsed = time.time() - s\n",
      "  \n",
      "  # ----------\n",
      "  # 4- Score on holdout set & report\n",
      "  train_r2_gbm = gbm0.model_performance(train).r2()\n",
      "  test_r2_gbm  = gbm0.model_performance(test ).r2()\n",
      "  hold_r2_gbm  = gbm0.model_performance(hold ).r2()\n",
      "#   print \"GBM R2 TRAIN=\",train_r2_gbm,\", R2 TEST=\",test_r2_gbm,\", R2 HOLDOUT=\",hold_r2_gbm\n",
      "  \n",
      "  train_r2_drf = drf0.model_performance(train).r2()\n",
      "  test_r2_drf  = drf0.model_performance(test ).r2()\n",
      "  hold_r2_drf  = drf0.model_performance(hold ).r2()\n",
      "#   print \"DRF R2 TRAIN=\",train_r2_drf,\", R2 TEST=\",test_r2_drf,\", R2 HOLDOUT=\",hold_r2_drf\n",
      "  \n",
      "  train_r2_glm = glm0.model_performance(train).r2()\n",
      "  test_r2_glm  = glm0.model_performance(test ).r2()\n",
      "  hold_r2_glm  = glm0.model_performance(hold ).r2()\n",
      "#   print \"GLM R2 TRAIN=\",train_r2_glm,\", R2 TEST=\",test_r2_glm,\", R2 HOLDOUT=\",hold_r2_glm\n",
      "    \n",
      "  train_r2_dl = dl0.model_performance(train).r2()\n",
      "  test_r2_dl  = dl0.model_performance(test ).r2()\n",
      "  hold_r2_dl  = dl0.model_performance(hold ).r2()\n",
      "#   print \" DL R2 TRAIN=\",train_r2_dl,\", R2 TEST=\",test_r2_dl,\", R2 HOLDOUT=\",hold_r2_dl\n",
      "    \n",
      "  # make a pretty HTML table printout of the results\n",
      "\n",
      "  header = [\"Model\", \"R2 TRAIN\", \"R2 TEST\", \"R2 HOLDOUT\", \"Model Training Time (s)\"]\n",
      "  table  = [\n",
      "            [\"GBM\", train_r2_gbm, test_r2_gbm, hold_r2_gbm, round(gbm_elapsed,3)],\n",
      "            [\"DRF\", train_r2_drf, test_r2_drf, hold_r2_drf, round(drf_elapsed,3)],\n",
      "            [\"GLM\", train_r2_glm, test_r2_glm, hold_r2_glm, round(glm_elapsed,3)],\n",
      "            [\"DL \", train_r2_dl,  test_r2_dl,  hold_r2_dl , round(dl_elapsed,3) ],\n",
      "           ]\n",
      "  h2o.H2ODisplay(table,header)\n",
      "  # --------------"
     ],
     "language": "python",
     "metadata": {},
     "outputs": [],
     "prompt_number": 9
    },
    {
     "cell_type": "code",
     "collapsed": false,
     "input": [
      "# Split the data (into test & train), fit some models and predict on the holdout data\n",
      "split_fit_predict(bpd)\n",
      "# Here we see an r^2 of 0.91 for GBM, and 0.71 for GLM.  This means given just\n",
      "# the station, the month, and the day-of-week we can predict 90% of the\n",
      "# variance of the bike-trip-starts."
     ],
     "language": "python",
     "metadata": {},
     "outputs": [
      {
       "output_type": "stream",
       "stream": "stdout",
       "text": [
        "Training data has "
       ]
      },
      {
       "output_type": "stream",
       "stream": "stdout",
       "text": [
        "5 columns and 83581 rows, test has "
       ]
      },
      {
       "output_type": "stream",
       "stream": "stdout",
       "text": [
        "41837 rows, holdout has 13843\n",
        "\n"
       ]
      },
      {
       "output_type": "stream",
       "stream": "stdout",
       "text": [
        "\r",
        "gbm Model Build Progress: [                                                  ] 00%"
       ]
      },
      {
       "output_type": "stream",
       "stream": "stdout",
       "text": [
        "\r",
        "gbm Model Build Progress: [                                                  ] 00%"
       ]
      },
      {
       "output_type": "stream",
       "stream": "stdout",
       "text": [
        "\r",
        "gbm Model Build Progress: [                                                  ] 00%"
       ]
      },
      {
       "output_type": "stream",
       "stream": "stdout",
       "text": [
        "\r",
        "gbm Model Build Progress: [                                                  ] 00%"
       ]
      },
      {
       "output_type": "stream",
       "stream": "stdout",
       "text": [
        "\r",
        "gbm Model Build Progress: [                                                  ] 01%"
       ]
      },
      {
       "output_type": "stream",
       "stream": "stdout",
       "text": [
        "\r",
        "gbm Model Build Progress: [#                                                 ] 02%"
       ]
      },
      {
       "output_type": "stream",
       "stream": "stdout",
       "text": [
        "\r",
        "gbm Model Build Progress: [#                                                 ] 03%"
       ]
      },
      {
       "output_type": "stream",
       "stream": "stdout",
       "text": [
        "\r",
        "gbm Model Build Progress: [##                                                ] 05%"
       ]
      },
      {
       "output_type": "stream",
       "stream": "stdout",
       "text": [
        "\r",
        "gbm Model Build Progress: [###                                               ] 06%"
       ]
      },
      {
       "output_type": "stream",
       "stream": "stdout",
       "text": [
        "\r",
        "gbm Model Build Progress: [######                                            ] 13%"
       ]
      },
      {
       "output_type": "stream",
       "stream": "stdout",
       "text": [
        "\r",
        "gbm Model Build Progress: [##########                                        ] 21%"
       ]
      },
      {
       "output_type": "stream",
       "stream": "stdout",
       "text": [
        "\r",
        "gbm Model Build Progress: [###############                                   ] 30%"
       ]
      },
      {
       "output_type": "stream",
       "stream": "stdout",
       "text": [
        "\r",
        "gbm Model Build Progress: [##################                                ] 37%"
       ]
      },
      {
       "output_type": "stream",
       "stream": "stdout",
       "text": [
        "\r",
        "gbm Model Build Progress: [######################                            ] 44%"
       ]
      },
      {
       "output_type": "stream",
       "stream": "stdout",
       "text": [
        "\r",
        "gbm Model Build Progress: [##########################                        ] 53%"
       ]
      },
      {
       "output_type": "stream",
       "stream": "stdout",
       "text": [
        "\r",
        "gbm Model Build Progress: [###############################                   ] 63%"
       ]
      },
      {
       "output_type": "stream",
       "stream": "stdout",
       "text": [
        "\r",
        "gbm Model Build Progress: [####################################              ] 72%"
       ]
      },
      {
       "output_type": "stream",
       "stream": "stdout",
       "text": [
        "\r",
        "gbm Model Build Progress: [########################################          ] 81%"
       ]
      },
      {
       "output_type": "stream",
       "stream": "stdout",
       "text": [
        "\r",
        "gbm Model Build Progress: [#########################################         ] 83%"
       ]
      },
      {
       "output_type": "stream",
       "stream": "stdout",
       "text": [
        "\r",
        "gbm Model Build Progress: [############################################      ] 88%"
       ]
      },
      {
       "output_type": "stream",
       "stream": "stdout",
       "text": [
        "\r",
        "gbm Model Build Progress: [################################################# ] 98%"
       ]
      },
      {
       "output_type": "stream",
       "stream": "stdout",
       "text": [
        "\r",
        "gbm Model Build Progress: [##################################################] 100%"
       ]
      },
      {
       "output_type": "stream",
       "stream": "stdout",
       "text": [
        "\n",
        "\n"
       ]
      },
      {
       "output_type": "stream",
       "stream": "stdout",
       "text": [
        "\r",
        "drf Model Build Progress: [                                                  ] 00%"
       ]
      },
      {
       "output_type": "stream",
       "stream": "stdout",
       "text": [
        "\r",
        "drf Model Build Progress: [                                                  ] 00%"
       ]
      },
      {
       "output_type": "stream",
       "stream": "stdout",
       "text": [
        "\r",
        "drf Model Build Progress: [                                                  ] 00%"
       ]
      },
      {
       "output_type": "stream",
       "stream": "stdout",
       "text": [
        "\r",
        "drf Model Build Progress: [                                                  ] 00%"
       ]
      },
      {
       "output_type": "stream",
       "stream": "stdout",
       "text": [
        "\r",
        "drf Model Build Progress: [                                                  ] 01%"
       ]
      },
      {
       "output_type": "stream",
       "stream": "stdout",
       "text": [
        "\r",
        "drf Model Build Progress: [#                                                 ] 03%"
       ]
      },
      {
       "output_type": "stream",
       "stream": "stdout",
       "text": [
        "\r",
        "drf Model Build Progress: [##                                                ] 05%"
       ]
      },
      {
       "output_type": "stream",
       "stream": "stdout",
       "text": [
        "\r",
        "drf Model Build Progress: [###                                               ] 07%"
       ]
      },
      {
       "output_type": "stream",
       "stream": "stdout",
       "text": [
        "\r",
        "drf Model Build Progress: [####                                              ] 09%"
       ]
      },
      {
       "output_type": "stream",
       "stream": "stdout",
       "text": [
        "\r",
        "drf Model Build Progress: [######                                            ] 13%"
       ]
      },
      {
       "output_type": "stream",
       "stream": "stdout",
       "text": [
        "\r",
        "drf Model Build Progress: [##########                                        ] 20%"
       ]
      },
      {
       "output_type": "stream",
       "stream": "stdout",
       "text": [
        "\r",
        "drf Model Build Progress: [#############                                     ] 27%"
       ]
      },
      {
       "output_type": "stream",
       "stream": "stdout",
       "text": [
        "\r",
        "drf Model Build Progress: [#################                                 ] 34%"
       ]
      },
      {
       "output_type": "stream",
       "stream": "stdout",
       "text": [
        "\r",
        "drf Model Build Progress: [###################                               ] 38%"
       ]
      },
      {
       "output_type": "stream",
       "stream": "stdout",
       "text": [
        "\r",
        "drf Model Build Progress: [######################                            ] 45%"
       ]
      },
      {
       "output_type": "stream",
       "stream": "stdout",
       "text": [
        "\r",
        "drf Model Build Progress: [##########################                        ] 52%"
       ]
      },
      {
       "output_type": "stream",
       "stream": "stdout",
       "text": [
        "\r",
        "drf Model Build Progress: [#############################                     ] 59%"
       ]
      },
      {
       "output_type": "stream",
       "stream": "stdout",
       "text": [
        "\r",
        "drf Model Build Progress: [##############################                    ] 61%"
       ]
      },
      {
       "output_type": "stream",
       "stream": "stdout",
       "text": [
        "\r",
        "drf Model Build Progress: [##################################                ] 69%"
       ]
      },
      {
       "output_type": "stream",
       "stream": "stdout",
       "text": [
        "\r",
        "drf Model Build Progress: [######################################            ] 76%"
       ]
      },
      {
       "output_type": "stream",
       "stream": "stdout",
       "text": [
        "\r",
        "drf Model Build Progress: [#########################################         ] 82%"
       ]
      },
      {
       "output_type": "stream",
       "stream": "stdout",
       "text": [
        "\r",
        "drf Model Build Progress: [#############################################     ] 90%"
       ]
      },
      {
       "output_type": "stream",
       "stream": "stdout",
       "text": [
        "\r",
        "drf Model Build Progress: [################################################  ] 97%"
       ]
      },
      {
       "output_type": "stream",
       "stream": "stdout",
       "text": [
        "\r",
        "drf Model Build Progress: [##################################################] 100%"
       ]
      },
      {
       "output_type": "stream",
       "stream": "stdout",
       "text": [
        "\n",
        "\n"
       ]
      },
      {
       "output_type": "stream",
       "stream": "stdout",
       "text": [
        "\r",
        "glm Model Build Progress: [                                                  ] 00%"
       ]
      },
      {
       "output_type": "stream",
       "stream": "stdout",
       "text": [
        "\r",
        "glm Model Build Progress: [                                                  ] 00%"
       ]
      },
      {
       "output_type": "stream",
       "stream": "stdout",
       "text": [
        "\r",
        "glm Model Build Progress: [###                                               ] 06%"
       ]
      },
      {
       "output_type": "stream",
       "stream": "stdout",
       "text": [
        "\r",
        "glm Model Build Progress: [##################################################] 100%"
       ]
      },
      {
       "output_type": "stream",
       "stream": "stdout",
       "text": [
        "\n",
        "\n"
       ]
      },
      {
       "output_type": "stream",
       "stream": "stdout",
       "text": [
        "\r",
        "deeplearning Model Build Progress: [                                                  ] 00%"
       ]
      },
      {
       "output_type": "stream",
       "stream": "stdout",
       "text": [
        "\r",
        "deeplearning Model Build Progress: [                                                  ] 00%"
       ]
      },
      {
       "output_type": "stream",
       "stream": "stdout",
       "text": [
        "\r",
        "deeplearning Model Build Progress: [                                                  ] 00%"
       ]
      },
      {
       "output_type": "stream",
       "stream": "stdout",
       "text": [
        "\r",
        "deeplearning Model Build Progress: [                                                  ] 00%"
       ]
      },
      {
       "output_type": "stream",
       "stream": "stdout",
       "text": [
        "\r",
        "deeplearning Model Build Progress: [                                                  ] 00%"
       ]
      },
      {
       "output_type": "stream",
       "stream": "stdout",
       "text": [
        "\r",
        "deeplearning Model Build Progress: [                                                  ] 00%"
       ]
      },
      {
       "output_type": "stream",
       "stream": "stdout",
       "text": [
        "\r",
        "deeplearning Model Build Progress: [                                                  ] 00%"
       ]
      },
      {
       "output_type": "stream",
       "stream": "stdout",
       "text": [
        "\r",
        "deeplearning Model Build Progress: [                                                  ] 00%"
       ]
      },
      {
       "output_type": "stream",
       "stream": "stdout",
       "text": [
        "\r",
        "deeplearning Model Build Progress: [                                                  ] 00%"
       ]
      },
      {
       "output_type": "stream",
       "stream": "stdout",
       "text": [
        "\r",
        "deeplearning Model Build Progress: [#                                                 ] 02%"
       ]
      },
      {
       "output_type": "stream",
       "stream": "stdout",
       "text": [
        "\r",
        "deeplearning Model Build Progress: [#                                                 ] 02%"
       ]
      },
      {
       "output_type": "stream",
       "stream": "stdout",
       "text": [
        "\r",
        "deeplearning Model Build Progress: [##                                                ] 04%"
       ]
      },
      {
       "output_type": "stream",
       "stream": "stdout",
       "text": [
        "\r",
        "deeplearning Model Build Progress: [##                                                ] 04%"
       ]
      },
      {
       "output_type": "stream",
       "stream": "stdout",
       "text": [
        "\r",
        "deeplearning Model Build Progress: [###                                               ] 07%"
       ]
      },
      {
       "output_type": "stream",
       "stream": "stdout",
       "text": [
        "\r",
        "deeplearning Model Build Progress: [###                                               ] 07%"
       ]
      },
      {
       "output_type": "stream",
       "stream": "stdout",
       "text": [
        "\r",
        "deeplearning Model Build Progress: [####                                              ] 09%"
       ]
      },
      {
       "output_type": "stream",
       "stream": "stdout",
       "text": [
        "\r",
        "deeplearning Model Build Progress: [####                                              ] 09%"
       ]
      },
      {
       "output_type": "stream",
       "stream": "stdout",
       "text": [
        "\r",
        "deeplearning Model Build Progress: [#####                                             ] 11%"
       ]
      },
      {
       "output_type": "stream",
       "stream": "stdout",
       "text": [
        "\r",
        "deeplearning Model Build Progress: [#######                                           ] 14%"
       ]
      },
      {
       "output_type": "stream",
       "stream": "stdout",
       "text": [
        "\r",
        "deeplearning Model Build Progress: [#######                                           ] 14%"
       ]
      },
      {
       "output_type": "stream",
       "stream": "stdout",
       "text": [
        "\r",
        "deeplearning Model Build Progress: [########                                          ] 16%"
       ]
      },
      {
       "output_type": "stream",
       "stream": "stdout",
       "text": [
        "\r",
        "deeplearning Model Build Progress: [#########                                         ] 19%"
       ]
      },
      {
       "output_type": "stream",
       "stream": "stdout",
       "text": [
        "\r",
        "deeplearning Model Build Progress: [#########                                         ] 19%"
       ]
      },
      {
       "output_type": "stream",
       "stream": "stdout",
       "text": [
        "\r",
        "deeplearning Model Build Progress: [##########                                        ] 21%"
       ]
      },
      {
       "output_type": "stream",
       "stream": "stdout",
       "text": [
        "\r",
        "deeplearning Model Build Progress: [###########                                       ] 23%"
       ]
      },
      {
       "output_type": "stream",
       "stream": "stdout",
       "text": [
        "\r",
        "deeplearning Model Build Progress: [###########                                       ] 23%"
       ]
      },
      {
       "output_type": "stream",
       "stream": "stdout",
       "text": [
        "\r",
        "deeplearning Model Build Progress: [#############                                     ] 26%"
       ]
      },
      {
       "output_type": "stream",
       "stream": "stdout",
       "text": [
        "\r",
        "deeplearning Model Build Progress: [##############                                    ] 28%"
       ]
      },
      {
       "output_type": "stream",
       "stream": "stdout",
       "text": [
        "\r",
        "deeplearning Model Build Progress: [##############                                    ] 28%"
       ]
      },
      {
       "output_type": "stream",
       "stream": "stdout",
       "text": [
        "\r",
        "deeplearning Model Build Progress: [###############                                   ] 31%"
       ]
      },
      {
       "output_type": "stream",
       "stream": "stdout",
       "text": [
        "\r",
        "deeplearning Model Build Progress: [################                                  ] 33%"
       ]
      },
      {
       "output_type": "stream",
       "stream": "stdout",
       "text": [
        "\r",
        "deeplearning Model Build Progress: [################                                  ] 33%"
       ]
      },
      {
       "output_type": "stream",
       "stream": "stdout",
       "text": [
        "\r",
        "deeplearning Model Build Progress: [#################                                 ] 35%"
       ]
      },
      {
       "output_type": "stream",
       "stream": "stdout",
       "text": [
        "\r",
        "deeplearning Model Build Progress: [###################                               ] 38%"
       ]
      },
      {
       "output_type": "stream",
       "stream": "stdout",
       "text": [
        "\r",
        "deeplearning Model Build Progress: [####################                              ] 40%"
       ]
      },
      {
       "output_type": "stream",
       "stream": "stdout",
       "text": [
        "\r",
        "deeplearning Model Build Progress: [####################                              ] 40%"
       ]
      },
      {
       "output_type": "stream",
       "stream": "stdout",
       "text": [
        "\r",
        "deeplearning Model Build Progress: [#####################                             ] 43%"
       ]
      },
      {
       "output_type": "stream",
       "stream": "stdout",
       "text": [
        "\r",
        "deeplearning Model Build Progress: [######################                            ] 45%"
       ]
      },
      {
       "output_type": "stream",
       "stream": "stdout",
       "text": [
        "\r",
        "deeplearning Model Build Progress: [#######################                           ] 47%"
       ]
      },
      {
       "output_type": "stream",
       "stream": "stdout",
       "text": [
        "\r",
        "deeplearning Model Build Progress: [#######################                           ] 47%"
       ]
      },
      {
       "output_type": "stream",
       "stream": "stdout",
       "text": [
        "\r",
        "deeplearning Model Build Progress: [#########################                         ] 50%"
       ]
      },
      {
       "output_type": "stream",
       "stream": "stdout",
       "text": [
        "\r",
        "deeplearning Model Build Progress: [##########################                        ] 52%"
       ]
      },
      {
       "output_type": "stream",
       "stream": "stdout",
       "text": [
        "\r",
        "deeplearning Model Build Progress: [##########################                        ] 52%"
       ]
      },
      {
       "output_type": "stream",
       "stream": "stdout",
       "text": [
        "\r",
        "deeplearning Model Build Progress: [###########################                       ] 55%"
       ]
      },
      {
       "output_type": "stream",
       "stream": "stdout",
       "text": [
        "\r",
        "deeplearning Model Build Progress: [############################                      ] 57%"
       ]
      },
      {
       "output_type": "stream",
       "stream": "stdout",
       "text": [
        "\r",
        "deeplearning Model Build Progress: [#############################                     ] 59%"
       ]
      },
      {
       "output_type": "stream",
       "stream": "stdout",
       "text": [
        "\r",
        "deeplearning Model Build Progress: [###############################                   ] 62%"
       ]
      },
      {
       "output_type": "stream",
       "stream": "stdout",
       "text": [
        "\r",
        "deeplearning Model Build Progress: [###############################                   ] 62%"
       ]
      },
      {
       "output_type": "stream",
       "stream": "stdout",
       "text": [
        "\r",
        "deeplearning Model Build Progress: [################################                  ] 64%"
       ]
      },
      {
       "output_type": "stream",
       "stream": "stdout",
       "text": [
        "\r",
        "deeplearning Model Build Progress: [#################################                 ] 67%"
       ]
      },
      {
       "output_type": "stream",
       "stream": "stdout",
       "text": [
        "\r",
        "deeplearning Model Build Progress: [##################################                ] 69%"
       ]
      },
      {
       "output_type": "stream",
       "stream": "stdout",
       "text": [
        "\r",
        "deeplearning Model Build Progress: [###################################               ] 71%"
       ]
      },
      {
       "output_type": "stream",
       "stream": "stdout",
       "text": [
        "\r",
        "deeplearning Model Build Progress: [###################################               ] 71%"
       ]
      },
      {
       "output_type": "stream",
       "stream": "stdout",
       "text": [
        "\r",
        "deeplearning Model Build Progress: [#####################################             ] 74%"
       ]
      },
      {
       "output_type": "stream",
       "stream": "stdout",
       "text": [
        "\r",
        "deeplearning Model Build Progress: [######################################            ] 76%"
       ]
      },
      {
       "output_type": "stream",
       "stream": "stdout",
       "text": [
        "\r",
        "deeplearning Model Build Progress: [######################################            ] 76%"
       ]
      },
      {
       "output_type": "stream",
       "stream": "stdout",
       "text": [
        "\r",
        "deeplearning Model Build Progress: [#######################################           ] 78%"
       ]
      },
      {
       "output_type": "stream",
       "stream": "stdout",
       "text": [
        "\r",
        "deeplearning Model Build Progress: [########################################          ] 81%"
       ]
      },
      {
       "output_type": "stream",
       "stream": "stdout",
       "text": [
        "\r",
        "deeplearning Model Build Progress: [#########################################         ] 83%"
       ]
      },
      {
       "output_type": "stream",
       "stream": "stdout",
       "text": [
        "\r",
        "deeplearning Model Build Progress: [###########################################       ] 86%"
       ]
      },
      {
       "output_type": "stream",
       "stream": "stdout",
       "text": [
        "\r",
        "deeplearning Model Build Progress: [###########################################       ] 86%"
       ]
      },
      {
       "output_type": "stream",
       "stream": "stdout",
       "text": [
        "\r",
        "deeplearning Model Build Progress: [############################################      ] 88%"
       ]
      },
      {
       "output_type": "stream",
       "stream": "stdout",
       "text": [
        "\r",
        "deeplearning Model Build Progress: [#############################################     ] 90%"
       ]
      },
      {
       "output_type": "stream",
       "stream": "stdout",
       "text": [
        "\r",
        "deeplearning Model Build Progress: [##############################################    ] 93%"
       ]
      },
      {
       "output_type": "stream",
       "stream": "stdout",
       "text": [
        "\r",
        "deeplearning Model Build Progress: [##############################################    ] 93%"
       ]
      },
      {
       "output_type": "stream",
       "stream": "stdout",
       "text": [
        "\r",
        "deeplearning Model Build Progress: [###############################################   ] 95%"
       ]
      },
      {
       "output_type": "stream",
       "stream": "stdout",
       "text": [
        "\r",
        "deeplearning Model Build Progress: [################################################# ] 98%"
       ]
      },
      {
       "output_type": "stream",
       "stream": "stdout",
       "text": [
        "\r",
        "deeplearning Model Build Progress: [##################################################] 100%"
       ]
      },
      {
       "output_type": "stream",
       "stream": "stdout",
       "text": [
        "\n"
       ]
      },
      {
       "html": [
        "<div style=\"overflow:auto\"><table style=\"width:50%\"><tr><td>Model</td>\n",
        "<td>R2 TRAIN</td>\n",
        "<td>R2 TEST</td>\n",
        "<td>R2 HOLDOUT</td>\n",
        "<td>Model Training Time (s)</td></tr>\n",
        "<tr><td>GBM</td>\n",
        "<td>0.968502742969</td>\n",
        "<td>0.921316256547</td>\n",
        "<td>0.918298756395</td>\n",
        "<td>19.496</td></tr>\n",
        "<tr><td>DRF</td>\n",
        "<td>0.85304131064</td>\n",
        "<td>0.824335646322</td>\n",
        "<td>0.823687930871</td>\n",
        "<td>21.247</td></tr>\n",
        "<tr><td>GLM</td>\n",
        "<td>0.785458821665</td>\n",
        "<td>0.782426105079</td>\n",
        "<td>0.788803070693</td>\n",
        "<td>0.784</td></tr>\n",
        "<tr><td>DL </td>\n",
        "<td>0.870873002226</td>\n",
        "<td>0.851042287799</td>\n",
        "<td>0.84859682418</td>\n",
        "<td>70.038</td></tr></table></div>"
       ],
       "metadata": {},
       "output_type": "display_data",
       "text": [
        "Model      R2 TRAIN    R2 TEST    R2 HOLDOUT    Model Training Time (s)\n",
        "-------  ----------  ---------  ------------  -------------------------\n",
        "GBM        0.968503   0.921316      0.918299                     19.496\n",
        "DRF        0.853041   0.824336      0.823688                     21.247\n",
        "GLM        0.785459   0.782426      0.788803                      0.784\n",
        "DL         0.870873   0.851042      0.848597                     70.038"
       ]
      }
     ],
     "prompt_number": 10
    },
    {
     "cell_type": "code",
     "collapsed": false,
     "input": [
      "# ----------\n",
      "# 5- Now lets add some weather\n",
      "# Load weather data\n",
      "wthr1 = h2o.import_file(path=[mylocate(\"bigdata/laptop/citibike-nyc/31081_New_York_City__Hourly_2013.csv\"),\n",
      "                               mylocate(\"bigdata/laptop/citibike-nyc/31081_New_York_City__Hourly_2014.csv\")])\n",
      "# Peek at the data\n",
      "wthr1.describe()"
     ],
     "language": "python",
     "metadata": {},
     "outputs": [
      {
       "output_type": "stream",
       "stream": "stdout",
       "text": [
        "\n",
        "\r",
        "Parse Progress: [                                                  ] 00%"
       ]
      },
      {
       "output_type": "stream",
       "stream": "stdout",
       "text": [
        "\r",
        "Parse Progress: [##################################################] 100%"
       ]
      },
      {
       "output_type": "stream",
       "stream": "stdout",
       "text": [
        "\n",
        "\n",
        "Parsed 17,520 rows and 50 cols:\n",
        "\n"
       ]
      },
      {
       "html": [
        "<div style=\"overflow:auto\"><table style=\"width:50%\"><tr><td>File1</td>\n",
        "<td>/Users/ece/0xdata/h2o-dev/bigdata/laptop/citibike-nyc/31081_New_York_City__Hourly_2013.csv</td></tr>\n",
        "<tr><td>File2</td>\n",
        "<td>/Users/ece/0xdata/h2o-dev/bigdata/laptop/citibike-nyc/31081_New_York_City__Hourly_2014.csv</td></tr></table></div>"
       ],
       "metadata": {},
       "output_type": "display_data",
       "text": [
        "-----  ------------------------------------------------------------------------------------------\n",
        "File1  /Users/ece/0xdata/h2o-dev/bigdata/laptop/citibike-nyc/31081_New_York_City__Hourly_2013.csv\n",
        "File2  /Users/ece/0xdata/h2o-dev/bigdata/laptop/citibike-nyc/31081_New_York_City__Hourly_2014.csv\n",
        "-----  ------------------------------------------------------------------------------------------"
       ]
      },
      {
       "output_type": "stream",
       "stream": "stdout",
       "text": [
        "Rows: 17,520 Cols: 50\n",
        "  chunk_type                 chunk_name  count  count_percentage        size  \\\n",
        "0        C0L          Constant Integers    107          6.294118      8.4 KB   \n",
        "1        C0D             Constant Reals    436         25.647058     34.1 KB   \n",
        "2        CXI            Sparse Integers     17          1.000000      1.5 KB   \n",
        "3         C1            1-Byte Integers    346         20.352942    197.4 KB   \n",
        "4        C1N  1-Byte Integers (w/o NAs)    214         12.588236    122.3 KB   \n",
        "5        C1S           1-Byte Fractions    214         12.588236    125.3 KB   \n",
        "6        C2S           2-Byte Fractions    196         11.529412    214.5 KB   \n",
        "7        C4S           4-Byte Fractions    170         10.000000    356.1 KB   \n",
        "\n",
        "   size_percentage  \n",
        "0         0.788972  \n",
        "1         3.214877  \n",
        "2         0.139914  \n",
        "3        18.634672  \n",
        "4        11.544063  \n",
        "5        11.822968  \n",
        "6        20.242111  \n",
        "7        33.612423  \n",
        "                            size  number_of_rows  number_of_chunks_per_column  \\\n",
        "0  172.16.2.59:54321      1.0 MB           17520                           34   \n",
        "1               mean      1.0 MB           17520                           34   \n",
        "2                min      1.0 MB           17520                           34   \n",
        "3                max      1.0 MB           17520                           34   \n",
        "4             stddev        0  B               0                            0   \n",
        "5              total      1.0 MB           17520                           34   \n",
        "\n",
        "   number_of_chunks  \n",
        "0              1700  \n",
        "1              1700  \n",
        "2              1700  \n",
        "3              1700  \n",
        "4                 0  \n",
        "5              1700  \n",
        "\n"
       ]
      },
      {
       "output_type": "stream",
       "stream": "stdout",
       "text": [
        "Column-by-Column Summary:\n",
        "\n"
       ]
      },
      {
       "html": [
        "<div style=\"overflow:auto\"><table style=\"width:50%\"><tr><td></td>\n",
        "<td>Year Local</td>\n",
        "<td>Month Local</td>\n",
        "<td>Day Local</td>\n",
        "<td>Hour Local</td>\n",
        "<td>Year UTC</td>\n",
        "<td>Month UTC</td>\n",
        "<td>Day UTC</td>\n",
        "<td>Hour UTC</td>\n",
        "<td>Cavok Reported</td>\n",
        "<td>Cloud Ceiling (m)</td>\n",
        "<td>Cloud Cover Fraction</td>\n",
        "<td>Cloud Cover Fraction 1</td>\n",
        "<td>Cloud Cover Fraction 2</td>\n",
        "<td>Cloud Cover Fraction 3</td>\n",
        "<td>Cloud Cover Fraction 4</td>\n",
        "<td>Cloud Cover Fraction 5</td>\n",
        "<td>Cloud Cover Fraction 6</td>\n",
        "<td>Cloud Height (m) 1</td>\n",
        "<td>Cloud Height (m) 2</td>\n",
        "<td>Cloud Height (m) 3</td>\n",
        "<td>Cloud Height (m) 4</td>\n",
        "<td>Cloud Height (m) 5</td>\n",
        "<td>Cloud Height (m) 6</td>\n",
        "<td>Dew Point (C)</td>\n",
        "<td>Humidity Fraction</td>\n",
        "<td>Precipitation One Hour (mm)</td>\n",
        "<td>Pressure Altimeter (mbar)</td>\n",
        "<td>Pressure Sea Level (mbar)</td>\n",
        "<td>Pressure Station (mbar)</td>\n",
        "<td>Snow Depth (cm)</td>\n",
        "<td>Temperature (C)</td>\n",
        "<td>Visibility (km)</td>\n",
        "<td>Weather Code 1</td>\n",
        "<td>Weather Code 1/ Description</td>\n",
        "<td>Weather Code 2</td>\n",
        "<td>Weather Code 2/ Description</td>\n",
        "<td>Weather Code 3</td>\n",
        "<td>Weather Code 3/ Description</td>\n",
        "<td>Weather Code 4</td>\n",
        "<td>Weather Code 4/ Description</td>\n",
        "<td>Weather Code 5</td>\n",
        "<td>Weather Code 5/ Description</td>\n",
        "<td>Weather Code 6</td>\n",
        "<td>Weather Code 6/ Description</td>\n",
        "<td>Weather Code Most Severe / Icon Code</td>\n",
        "<td>Weather Code Most Severe</td>\n",
        "<td>Weather Code Most Severe / Description</td>\n",
        "<td>Wind Direction (degrees)</td>\n",
        "<td>Wind Gust (m/s)</td>\n",
        "<td>Wind Speed (m/s)</td></tr>\n",
        "<tr><td>type</td>\n",
        "<td>int</td>\n",
        "<td>int</td>\n",
        "<td>int</td>\n",
        "<td>int</td>\n",
        "<td>int</td>\n",
        "<td>int</td>\n",
        "<td>int</td>\n",
        "<td>int</td>\n",
        "<td>int</td>\n",
        "<td>real</td>\n",
        "<td>real</td>\n",
        "<td>real</td>\n",
        "<td>real</td>\n",
        "<td>real</td>\n",
        "<td>int</td>\n",
        "<td>int</td>\n",
        "<td>int</td>\n",
        "<td>real</td>\n",
        "<td>real</td>\n",
        "<td>real</td>\n",
        "<td>int</td>\n",
        "<td>int</td>\n",
        "<td>int</td>\n",
        "<td>real</td>\n",
        "<td>real</td>\n",
        "<td>real</td>\n",
        "<td>real</td>\n",
        "<td>int</td>\n",
        "<td>int</td>\n",
        "<td>int</td>\n",
        "<td>real</td>\n",
        "<td>real</td>\n",
        "<td>int</td>\n",
        "<td>enum</td>\n",
        "<td>int</td>\n",
        "<td>enum</td>\n",
        "<td>int</td>\n",
        "<td>enum</td>\n",
        "<td>int</td>\n",
        "<td>enum</td>\n",
        "<td>int</td>\n",
        "<td>enum</td>\n",
        "<td>int</td>\n",
        "<td>enum</td>\n",
        "<td>int</td>\n",
        "<td>int</td>\n",
        "<td>enum</td>\n",
        "<td>int</td>\n",
        "<td>real</td>\n",
        "<td>real</td></tr>\n",
        "<tr><td>mins</td>\n",
        "<td>2013.0</td>\n",
        "<td>1.0</td>\n",
        "<td>1.0</td>\n",
        "<td>0.0</td>\n",
        "<td>2013.0</td>\n",
        "<td>1.0</td>\n",
        "<td>1.0</td>\n",
        "<td>0.0</td>\n",
        "<td>0.0</td>\n",
        "<td>61.0</td>\n",
        "<td>0.0</td>\n",
        "<td>0.0</td>\n",
        "<td>0.25</td>\n",
        "<td>0.5</td>\n",
        "<td>NaN</td>\n",
        "<td>NaN</td>\n",
        "<td>NaN</td>\n",
        "<td>60.96</td>\n",
        "<td>213.36</td>\n",
        "<td>365.76</td>\n",
        "<td>NaN</td>\n",
        "<td>NaN</td>\n",
        "<td>NaN</td>\n",
        "<td>-26.7</td>\n",
        "<td>0.1251</td>\n",
        "<td>0.0</td>\n",
        "<td>983.2949</td>\n",
        "<td>NaN</td>\n",
        "<td>NaN</td>\n",
        "<td>NaN</td>\n",
        "<td>-15.6</td>\n",
        "<td>0.001</td>\n",
        "<td>1.0</td>\n",
        "<td>0.0</td>\n",
        "<td>1.0</td>\n",
        "<td>0.0</td>\n",
        "<td>1.0</td>\n",
        "<td>0.0</td>\n",
        "<td>1.0</td>\n",
        "<td>0.0</td>\n",
        "<td>1.0</td>\n",
        "<td>0.0</td>\n",
        "<td>3.0</td>\n",
        "<td>0.0</td>\n",
        "<td>0.0</td>\n",
        "<td>1.0</td>\n",
        "<td>0.0</td>\n",
        "<td>10.0</td>\n",
        "<td>7.2</td>\n",
        "<td>0.0</td></tr>\n",
        "<tr><td>maxs</td>\n",
        "<td>2014.0</td>\n",
        "<td>12.0</td>\n",
        "<td>31.0</td>\n",
        "<td>23.0</td>\n",
        "<td>2015.0</td>\n",
        "<td>12.0</td>\n",
        "<td>31.0</td>\n",
        "<td>23.0</td>\n",
        "<td>0.0</td>\n",
        "<td>3657.6</td>\n",
        "<td>1.0</td>\n",
        "<td>1.0</td>\n",
        "<td>1.0</td>\n",
        "<td>1.0</td>\n",
        "<td>NaN</td>\n",
        "<td>NaN</td>\n",
        "<td>NaN</td>\n",
        "<td>3657.5999</td>\n",
        "<td>3657.5999</td>\n",
        "<td>3657.5999</td>\n",
        "<td>NaN</td>\n",
        "<td>NaN</td>\n",
        "<td>NaN</td>\n",
        "<td>24.4</td>\n",
        "<td>1.0</td>\n",
        "<td>26.924</td>\n",
        "<td>1042.2113</td>\n",
        "<td>NaN</td>\n",
        "<td>NaN</td>\n",
        "<td>NaN</td>\n",
        "<td>36.1</td>\n",
        "<td>16.0934</td>\n",
        "<td>60.0</td>\n",
        "<td>11.0</td>\n",
        "<td>60.0</td>\n",
        "<td>10.0</td>\n",
        "<td>36.0</td>\n",
        "<td>7.0</td>\n",
        "<td>27.0</td>\n",
        "<td>4.0</td>\n",
        "<td>27.0</td>\n",
        "<td>2.0</td>\n",
        "<td>3.0</td>\n",
        "<td>0.0</td>\n",
        "<td>16.0</td>\n",
        "<td>60.0</td>\n",
        "<td>11.0</td>\n",
        "<td>360.0</td>\n",
        "<td>20.58</td>\n",
        "<td>10.8</td></tr>\n",
        "<tr><td>sigma</td>\n",
        "<td>0.500014270017</td>\n",
        "<td>3.44794972385</td>\n",
        "<td>8.79649804852</td>\n",
        "<td>6.92238411188</td>\n",
        "<td>0.500584411716</td>\n",
        "<td>3.44782405458</td>\n",
        "<td>8.79561488868</td>\n",
        "<td>6.92230165203</td>\n",
        "<td>0.0</td>\n",
        "<td>995.339856966</td>\n",
        "<td>0.462720830993</td>\n",
        "<td>0.42770569708</td>\n",
        "<td>0.197155690367</td>\n",
        "<td>0.0861015598104</td>\n",
        "<td>NaN</td>\n",
        "<td>NaN</td>\n",
        "<td>NaN</td>\n",
        "<td>962.743095854</td>\n",
        "<td>916.73861349</td>\n",
        "<td>887.215847511</td>\n",
        "<td>NaN</td>\n",
        "<td>NaN</td>\n",
        "<td>NaN</td>\n",
        "<td>10.9731282097</td>\n",
        "<td>0.185792011866</td>\n",
        "<td>2.56215129179</td>\n",
        "<td>7.46451697179</td>\n",
        "<td>NaN</td>\n",
        "<td>NaN</td>\n",
        "<td>NaN</td>\n",
        "<td>10.0396739531</td>\n",
        "<td>3.69893623033</td>\n",
        "<td>5.70486576983</td>\n",
        "<td>NaN</td>\n",
        "<td>6.13386253912</td>\n",
        "<td>NaN</td>\n",
        "<td>5.80553286364</td>\n",
        "<td>NaN</td>\n",
        "<td>3.12340844261</td>\n",
        "<td>NaN</td>\n",
        "<td>6.15223536611</td>\n",
        "<td>NaN</td>\n",
        "<td>0.0</td>\n",
        "<td>0.0</td>\n",
        "<td>4.07386062702</td>\n",
        "<td>5.70486576983</td>\n",
        "<td>NaN</td>\n",
        "<td>106.350000031</td>\n",
        "<td>1.81511871115</td>\n",
        "<td>1.61469790524</td></tr>\n",
        "<tr><td>zero_count</td>\n",
        "<td>0</td>\n",
        "<td>0</td>\n",
        "<td>0</td>\n",
        "<td>730</td>\n",
        "<td>0</td>\n",
        "<td>0</td>\n",
        "<td>0</td>\n",
        "<td>730</td>\n",
        "<td>17455</td>\n",
        "<td>0</td>\n",
        "<td>8758</td>\n",
        "<td>8758</td>\n",
        "<td>0</td>\n",
        "<td>0</td>\n",
        "<td>0</td>\n",
        "<td>0</td>\n",
        "<td>0</td>\n",
        "<td>0</td>\n",
        "<td>0</td>\n",
        "<td>0</td>\n",
        "<td>0</td>\n",
        "<td>0</td>\n",
        "<td>0</td>\n",
        "<td>268</td>\n",
        "<td>0</td>\n",
        "<td>501</td>\n",
        "<td>0</td>\n",
        "<td>0</td>\n",
        "<td>0</td>\n",
        "<td>0</td>\n",
        "<td>269</td>\n",
        "<td>0</td>\n",
        "<td>0</td>\n",
        "<td>17</td>\n",
        "<td>0</td>\n",
        "<td>30</td>\n",
        "<td>0</td>\n",
        "<td>13</td>\n",
        "<td>0</td>\n",
        "<td>20</td>\n",
        "<td>0</td>\n",
        "<td>12</td>\n",
        "<td>0</td>\n",
        "<td>2</td>\n",
        "<td>14980</td>\n",
        "<td>0</td>\n",
        "<td>17</td>\n",
        "<td>0</td>\n",
        "<td>0</td>\n",
        "<td>2768</td></tr>\n",
        "<tr><td>missing_count</td>\n",
        "<td>0</td>\n",
        "<td>0</td>\n",
        "<td>0</td>\n",
        "<td>0</td>\n",
        "<td>0</td>\n",
        "<td>0</td>\n",
        "<td>0</td>\n",
        "<td>0</td>\n",
        "<td>65</td>\n",
        "<td>10780</td>\n",
        "<td>375</td>\n",
        "<td>375</td>\n",
        "<td>14682</td>\n",
        "<td>16535</td>\n",
        "<td>17520</td>\n",
        "<td>17520</td>\n",
        "<td>17520</td>\n",
        "<td>9103</td>\n",
        "<td>14683</td>\n",
        "<td>16535</td>\n",
        "<td>17520</td>\n",
        "<td>17520</td>\n",
        "<td>17520</td>\n",
        "<td>67</td>\n",
        "<td>67</td>\n",
        "<td>15660</td>\n",
        "<td>360</td>\n",
        "<td>17520</td>\n",
        "<td>17520</td>\n",
        "<td>17520</td>\n",
        "<td>67</td>\n",
        "<td>412</td>\n",
        "<td>14980</td>\n",
        "<td>14980</td>\n",
        "<td>16477</td>\n",
        "<td>16477</td>\n",
        "<td>17181</td>\n",
        "<td>17181</td>\n",
        "<td>17433</td>\n",
        "<td>17433</td>\n",
        "<td>17504</td>\n",
        "<td>17504</td>\n",
        "<td>17518</td>\n",
        "<td>17518</td>\n",
        "<td>0</td>\n",
        "<td>14980</td>\n",
        "<td>14980</td>\n",
        "<td>9382</td>\n",
        "<td>14381</td>\n",
        "<td>1283</td></tr></table></div>"
       ],
       "metadata": {},
       "output_type": "display_data",
       "text": [
        "               Year Local      Month Local    Day Local      Hour Local     Year UTC        Month UTC      Day UTC        Hour UTC       Cavok Reported    Cloud Ceiling (m)    Cloud Cover Fraction    Cloud Cover Fraction 1    Cloud Cover Fraction 2    Cloud Cover Fraction 3    Cloud Cover Fraction 4    Cloud Cover Fraction 5    Cloud Cover Fraction 6    Cloud Height (m) 1    Cloud Height (m) 2    Cloud Height (m) 3    Cloud Height (m) 4    Cloud Height (m) 5    Cloud Height (m) 6    Dew Point (C)    Humidity Fraction    Precipitation One Hour (mm)    Pressure Altimeter (mbar)    Pressure Sea Level (mbar)    Pressure Station (mbar)    Snow Depth (cm)    Temperature (C)    Visibility (km)    Weather Code 1    Weather Code 1/ Description    Weather Code 2    Weather Code 2/ Description    Weather Code 3    Weather Code 3/ Description    Weather Code 4    Weather Code 4/ Description    Weather Code 5    Weather Code 5/ Description    Weather Code 6    Weather Code 6/ Description    Weather Code Most Severe / Icon Code    Weather Code Most Severe    Weather Code Most Severe / Description    Wind Direction (degrees)    Wind Gust (m/s)    Wind Speed (m/s)\n",
        "-------------  --------------  -------------  -------------  -------------  --------------  -------------  -------------  -------------  ----------------  -------------------  ----------------------  ------------------------  ------------------------  ------------------------  ------------------------  ------------------------  ------------------------  --------------------  --------------------  --------------------  --------------------  --------------------  --------------------  ---------------  -------------------  -----------------------------  ---------------------------  ---------------------------  -------------------------  -----------------  -----------------  -----------------  ----------------  -----------------------------  ----------------  -----------------------------  ----------------  -----------------------------  ----------------  -----------------------------  ----------------  -----------------------------  ----------------  -----------------------------  --------------------------------------  --------------------------  ----------------------------------------  --------------------------  -----------------  ------------------\n",
        "type           int             int            int            int            int             int            int            int            int               real                 real                    real                      real                      real                      int                       int                       int                       real                  real                  real                  int                   int                   int                   real             real                 real                           real                         int                          int                        int                real               real               int               enum                           int               enum                           int               enum                           int               enum                           int               enum                           int               enum                           int                                     int                         enum                                      int                         real               real\n",
        "mins           2013.0          1.0            1.0            0.0            2013.0          1.0            1.0            0.0            0.0               61.0                 0.0                     0.0                       0.25                      0.5                       NaN                       NaN                       NaN                       60.96                 213.36                365.76                NaN                   NaN                   NaN                   -26.7            0.1251               0.0                            983.2949                     NaN                          NaN                        NaN                -15.6              0.001              1.0               0.0                            1.0               0.0                            1.0               0.0                            1.0               0.0                            1.0               0.0                            3.0               0.0                            0.0                                     1.0                         0.0                                       10.0                        7.2                0.0\n",
        "maxs           2014.0          12.0           31.0           23.0           2015.0          12.0           31.0           23.0           0.0               3657.6               1.0                     1.0                       1.0                       1.0                       NaN                       NaN                       NaN                       3657.5999             3657.5999             3657.5999             NaN                   NaN                   NaN                   24.4             1.0                  26.924                         1042.2113                    NaN                          NaN                        NaN                36.1               16.0934            60.0              11.0                           60.0              10.0                           36.0              7.0                            27.0              4.0                            27.0              2.0                            3.0               0.0                            16.0                                    60.0                        11.0                                      360.0                       20.58              10.8\n",
        "sigma          0.500014270017  3.44794972385  8.79649804852  6.92238411188  0.500584411716  3.44782405458  8.79561488868  6.92230165203  0.0               995.339856966        0.462720830993          0.42770569708             0.197155690367            0.0861015598104           NaN                       NaN                       NaN                       962.743095854         916.73861349          887.215847511         NaN                   NaN                   NaN                   10.9731282097    0.185792011866       2.56215129179                  7.46451697179                NaN                          NaN                        NaN                10.0396739531      3.69893623033      5.70486576983     NaN                            6.13386253912     NaN                            5.80553286364     NaN                            3.12340844261     NaN                            6.15223536611     NaN                            0.0               0.0                            4.07386062702                           5.70486576983               NaN                                       106.350000031               1.81511871115      1.61469790524\n",
        "zero_count     0               0              0              730            0               0              0              730            17455             0                    8758                    8758                      0                         0                         0                         0                         0                         0                     0                     0                     0                     0                     0                     268              0                    501                            0                            0                            0                          0                  269                0                  0                 17                             0                 30                             0                 13                             0                 20                             0                 12                             0                 2                              14980                                   0                           17                                        0                           0                  2768\n",
        "missing_count  0               0              0              0              0               0              0              0              65                10780                375                     375                       14682                     16535                     17520                     17520                     17520                     9103                  14683                 16535                 17520                 17520                 17520                 67               67                   15660                          360                          17520                        17520                      17520              67                 412                14980             14980                          16477             16477                          17181             17181                          17433             17433                          17504             17504                          17518             17518                          0                                       14980                       14980                                     9382                        14381              1283"
       ]
      }
     ],
     "prompt_number": 11
    },
    {
     "cell_type": "code",
     "collapsed": false,
     "input": [
      "# Lots of columns in there!  Lets plan on converting to time-since-epoch to do\n",
      "# a 'join' with the bike data, plus gather weather info that might affect\n",
      "# cyclists - rain, snow, temperature.  Alas, drop the \"snow\" column since it's\n",
      "# all NA's.  Also add in dew point and humidity just in case.  Slice out just\n",
      "# the columns of interest and drop the rest.\n",
      "wthr2 = wthr1[[\"Year Local\",\"Month Local\",\"Day Local\",\"Hour Local\",\"Dew Point (C)\",\"Humidity Fraction\",\"Precipitation One Hour (mm)\",\"Temperature (C)\",\"Weather Code 1/ Description\"]]\n",
      "\n",
      "wthr2.set_name(wthr2.index(\"Precipitation One Hour (mm)\"), \"Rain (mm)\")\n",
      "wthr2.set_name(wthr2.index(\"Weather Code 1/ Description\"), \"WC1\")\n",
      "wthr2.describe()\n",
      "# Much better!  "
     ],
     "language": "python",
     "metadata": {},
     "outputs": [
      {
       "output_type": "stream",
       "stream": "stdout",
       "text": [
        "Rows: 17,520 Cols: 9\n",
        "  chunk_type                 chunk_name  count  count_percentage        size  \\\n",
        "0        C0L          Constant Integers     46         15.032680      3.6 KB   \n",
        "1         C1            1-Byte Integers     34         11.111112     19.4 KB   \n",
        "2        C1N  1-Byte Integers (w/o NAs)     90         29.411766     51.5 KB   \n",
        "3        C1S           1-Byte Fractions     42         13.725491     24.0 KB   \n",
        "4        C2S           2-Byte Fractions     94         30.718956    103.4 KB   \n",
        "\n",
        "   size_percentage  \n",
        "0         1.780005  \n",
        "1         9.592678  \n",
        "2        25.494701  \n",
        "3        11.894592  \n",
        "4        51.238026  \n",
        "                            size  number_of_rows  number_of_chunks_per_column  \\\n",
        "0  172.16.2.59:54321    201.9 KB           17520                           34   \n",
        "1               mean    201.9 KB           17520                           34   \n",
        "2                min    201.9 KB           17520                           34   \n",
        "3                max    201.9 KB           17520                           34   \n",
        "4             stddev        0  B               0                            0   \n",
        "5              total    201.9 KB           17520                           34   \n",
        "\n",
        "   number_of_chunks  \n",
        "0               306  \n",
        "1               306  \n",
        "2               306  \n",
        "3               306  \n",
        "4                 0  \n",
        "5               306  \n",
        "\n",
        "Column-by-Column Summary:\n",
        "\n"
       ]
      },
      {
       "html": [
        "<div style=\"overflow:auto\"><table style=\"width:50%\"><tr><td></td>\n",
        "<td>Year Local</td>\n",
        "<td>Month Local</td>\n",
        "<td>Day Local</td>\n",
        "<td>Hour Local</td>\n",
        "<td>Dew Point (C)</td>\n",
        "<td>Humidity Fraction</td>\n",
        "<td>Rain (mm)</td>\n",
        "<td>Temperature (C)</td>\n",
        "<td>WC1</td></tr>\n",
        "<tr><td>type</td>\n",
        "<td>int</td>\n",
        "<td>int</td>\n",
        "<td>int</td>\n",
        "<td>int</td>\n",
        "<td>real</td>\n",
        "<td>real</td>\n",
        "<td>real</td>\n",
        "<td>real</td>\n",
        "<td>enum</td></tr>\n",
        "<tr><td>mins</td>\n",
        "<td>2013.0</td>\n",
        "<td>1.0</td>\n",
        "<td>1.0</td>\n",
        "<td>0.0</td>\n",
        "<td>-26.7</td>\n",
        "<td>0.1251</td>\n",
        "<td>0.0</td>\n",
        "<td>-15.6</td>\n",
        "<td>0.0</td></tr>\n",
        "<tr><td>maxs</td>\n",
        "<td>2014.0</td>\n",
        "<td>12.0</td>\n",
        "<td>31.0</td>\n",
        "<td>23.0</td>\n",
        "<td>24.4</td>\n",
        "<td>1.0</td>\n",
        "<td>26.924</td>\n",
        "<td>36.1</td>\n",
        "<td>11.0</td></tr>\n",
        "<tr><td>sigma</td>\n",
        "<td>0.500014270017</td>\n",
        "<td>3.44794972385</td>\n",
        "<td>8.79649804852</td>\n",
        "<td>6.92238411188</td>\n",
        "<td>10.9731282097</td>\n",
        "<td>0.185792011866</td>\n",
        "<td>2.56215129179</td>\n",
        "<td>10.0396739531</td>\n",
        "<td>NaN</td></tr>\n",
        "<tr><td>zero_count</td>\n",
        "<td>0</td>\n",
        "<td>0</td>\n",
        "<td>0</td>\n",
        "<td>730</td>\n",
        "<td>268</td>\n",
        "<td>0</td>\n",
        "<td>501</td>\n",
        "<td>269</td>\n",
        "<td>17</td></tr>\n",
        "<tr><td>missing_count</td>\n",
        "<td>0</td>\n",
        "<td>0</td>\n",
        "<td>0</td>\n",
        "<td>0</td>\n",
        "<td>67</td>\n",
        "<td>67</td>\n",
        "<td>15660</td>\n",
        "<td>67</td>\n",
        "<td>14980</td></tr></table></div>"
       ],
       "metadata": {},
       "output_type": "display_data",
       "text": [
        "               Year Local      Month Local    Day Local      Hour Local     Dew Point (C)    Humidity Fraction    Rain (mm)      Temperature (C)    WC1\n",
        "-------------  --------------  -------------  -------------  -------------  ---------------  -------------------  -------------  -----------------  -----\n",
        "type           int             int            int            int            real             real                 real           real               enum\n",
        "mins           2013.0          1.0            1.0            0.0            -26.7            0.1251               0.0            -15.6              0.0\n",
        "maxs           2014.0          12.0           31.0           23.0           24.4             1.0                  26.924         36.1               11.0\n",
        "sigma          0.500014270017  3.44794972385  8.79649804852  6.92238411188  10.9731282097    0.185792011866       2.56215129179  10.0396739531      NaN\n",
        "zero_count     0               0              0              730            268              0                    501            269                17\n",
        "missing_count  0               0              0              0              67               67                   15660          67                 14980"
       ]
      }
     ],
     "prompt_number": 12
    },
    {
     "cell_type": "code",
     "collapsed": false,
     "input": [
      "# Filter down to the weather at Noon\n",
      "wthr3 = wthr2[ wthr2[\"Hour Local\"]==12 ]"
     ],
     "language": "python",
     "metadata": {},
     "outputs": [],
     "prompt_number": 13
    },
    {
     "cell_type": "code",
     "collapsed": false,
     "input": [
      "# Lets now get Days since the epoch... we'll convert year/month/day into Epoch\n",
      "# time, and then back to Epoch days.  Need zero-based month and days, but have\n",
      "# 1-based.\n",
      "wthr3[\"msec\"] = h2o.H2OFrame.mktime(year=wthr3[\"Year Local\"], month=wthr3[\"Month Local\"]-1, day=wthr3[\"Day Local\"]-1, hour=wthr3[\"Hour Local\"])\n",
      "secsPerDay=1000*60*60*24\n",
      "wthr3[\"Days\"] = (wthr3[\"msec\"]/secsPerDay).floor()\n",
      "wthr3.describe()\n",
      "# msec looks sane (numbers like 1.3e12 are in the correct range for msec since\n",
      "# 1970).  Epoch Days matches closely with the epoch day numbers from the\n",
      "# CitiBike dataset.  "
     ],
     "language": "python",
     "metadata": {},
     "outputs": [
      {
       "output_type": "stream",
       "stream": "stdout",
       "text": [
        "Rows: 730 Cols: 11\n",
        "  chunk_type                 chunk_name  count  count_percentage        size  \\\n",
        "0        C0L          Constant Integers     80         21.390373      6.3 KB   \n",
        "1        C0D             Constant Reals     13          3.475936      1.0 KB   \n",
        "2         C1            1-Byte Integers     30          8.021391      2.6 KB   \n",
        "3        C1N  1-Byte Integers (w/o NAs)     56         14.973262      4.9 KB   \n",
        "4        C1S           1-Byte Fractions     34          9.090909      3.5 KB   \n",
        "5        C2S           2-Byte Fractions     34          9.090909      4.2 KB   \n",
        "6        CUD               Unique Reals     25          6.684492      3.6 KB   \n",
        "7        C8D               64-bit Reals    102         27.272728     23.9 KB   \n",
        "\n",
        "   size_percentage  \n",
        "0        12.498779  \n",
        "1         2.031052  \n",
        "2         5.245582  \n",
        "3         9.801778  \n",
        "4         7.003222  \n",
        "5         8.428864  \n",
        "6         7.229763  \n",
        "7        47.760960  \n",
        "                            size  number_of_rows  number_of_chunks_per_column  \\\n",
        "0  172.16.2.59:54321     50.0 KB             730                           34   \n",
        "1               mean     50.0 KB             730                           34   \n",
        "2                min     50.0 KB             730                           34   \n",
        "3                max     50.0 KB             730                           34   \n",
        "4             stddev        0  B               0                            0   \n",
        "5              total     50.0 KB             730                           34   \n",
        "\n",
        "   number_of_chunks  \n",
        "0               374  \n",
        "1               374  \n",
        "2               374  \n",
        "3               374  \n",
        "4                 0  \n",
        "5               374  \n",
        "\n",
        "Column-by-Column Summary:\n",
        "\n"
       ]
      },
      {
       "html": [
        "<div style=\"overflow:auto\"><table style=\"width:50%\"><tr><td></td>\n",
        "<td>Year Local</td>\n",
        "<td>Month Local</td>\n",
        "<td>Day Local</td>\n",
        "<td>Hour Local</td>\n",
        "<td>Dew Point (C)</td>\n",
        "<td>Humidity Fraction</td>\n",
        "<td>Rain (mm)</td>\n",
        "<td>Temperature (C)</td>\n",
        "<td>WC1</td>\n",
        "<td>msec</td>\n",
        "<td>Days</td></tr>\n",
        "<tr><td>type</td>\n",
        "<td>int</td>\n",
        "<td>int</td>\n",
        "<td>int</td>\n",
        "<td>int</td>\n",
        "<td>real</td>\n",
        "<td>real</td>\n",
        "<td>real</td>\n",
        "<td>real</td>\n",
        "<td>enum</td>\n",
        "<td>int</td>\n",
        "<td>int</td></tr>\n",
        "<tr><td>mins</td>\n",
        "<td>2013.0</td>\n",
        "<td>1.0</td>\n",
        "<td>1.0</td>\n",
        "<td>12.0</td>\n",
        "<td>-26.7</td>\n",
        "<td>0.1723</td>\n",
        "<td>0.0</td>\n",
        "<td>-13.9</td>\n",
        "<td>0.0</td>\n",
        "<td>1.3570704e+12</td>\n",
        "<td>15706.0</td></tr>\n",
        "<tr><td>maxs</td>\n",
        "<td>2014.0</td>\n",
        "<td>12.0</td>\n",
        "<td>31.0</td>\n",
        "<td>12.0</td>\n",
        "<td>23.3</td>\n",
        "<td>1.0</td>\n",
        "<td>12.446</td>\n",
        "<td>34.4</td>\n",
        "<td>10.0</td>\n",
        "<td>1.420056e+12</td>\n",
        "<td>16435.0</td></tr>\n",
        "<tr><td>sigma</td>\n",
        "<td>0.500342818004</td>\n",
        "<td>3.45021529307</td>\n",
        "<td>8.80227802701</td>\n",
        "<td>0.0</td>\n",
        "<td>11.1062964725</td>\n",
        "<td>0.179945027923</td>\n",
        "<td>2.36064248615</td>\n",
        "<td>10.3989855149</td>\n",
        "<td>NaN</td>\n",
        "<td>18219740080.4</td>\n",
        "<td>210.877136425</td></tr>\n",
        "<tr><td>zero_count</td>\n",
        "<td>0</td>\n",
        "<td>0</td>\n",
        "<td>0</td>\n",
        "<td>0</td>\n",
        "<td>14</td>\n",
        "<td>0</td>\n",
        "<td>15</td>\n",
        "<td>7</td>\n",
        "<td>1</td>\n",
        "<td>0</td>\n",
        "<td>0</td></tr>\n",
        "<tr><td>missing_count</td>\n",
        "<td>0</td>\n",
        "<td>0</td>\n",
        "<td>0</td>\n",
        "<td>0</td>\n",
        "<td>3</td>\n",
        "<td>3</td>\n",
        "<td>660</td>\n",
        "<td>3</td>\n",
        "<td>620</td>\n",
        "<td>0</td>\n",
        "<td>0</td></tr></table></div>"
       ],
       "metadata": {},
       "output_type": "display_data",
       "text": [
        "               Year Local      Month Local    Day Local      Hour Local    Dew Point (C)    Humidity Fraction    Rain (mm)      Temperature (C)    WC1    msec           Days\n",
        "-------------  --------------  -------------  -------------  ------------  ---------------  -------------------  -------------  -----------------  -----  -------------  -------------\n",
        "type           int             int            int            int           real             real                 real           real               enum   int            int\n",
        "mins           2013.0          1.0            1.0            12.0          -26.7            0.1723               0.0            -13.9              0.0    1.3570704e+12  15706.0\n",
        "maxs           2014.0          12.0           31.0           12.0          23.3             1.0                  12.446         34.4               10.0   1.420056e+12   16435.0\n",
        "sigma          0.500342818004  3.45021529307  8.80227802701  0.0           11.1062964725    0.179945027923       2.36064248615  10.3989855149      NaN    18219740080.4  210.877136425\n",
        "zero_count     0               0              0              0             14               0                    15             7                  1      0              0\n",
        "missing_count  0               0              0              0             3                3                    660            3                  620    0              0"
       ]
      }
     ],
     "prompt_number": 14
    },
    {
     "cell_type": "code",
     "collapsed": false,
     "input": [
      "# Lets drop off the extra time columns to make a easy-to-handle dataset.\n",
      "wthr4 = wthr3.drop(\"Year Local\").drop(\"Month Local\").drop(\"Day Local\").drop(\"Hour Local\").drop(\"msec\")"
     ],
     "language": "python",
     "metadata": {},
     "outputs": [],
     "prompt_number": 15
    },
    {
     "cell_type": "code",
     "collapsed": false,
     "input": [
      "# Also, most rain numbers are missing - lets assume those are zero rain days\n",
      "rain = wthr4[\"Rain (mm)\"]\n",
      "rain[ rain.isna() ] = 0"
     ],
     "language": "python",
     "metadata": {},
     "outputs": [],
     "prompt_number": 16
    },
    {
     "cell_type": "code",
     "collapsed": false,
     "input": [
      "# ----------\n",
      "# 6 - Join the weather data-per-day to the bike-starts-per-day\n",
      "print \"Merge Daily Weather with Bikes-Per-Day\"\n",
      "bpd_with_weather = bpd.merge(wthr4,allLeft=True,allRite=False)\n",
      "bpd_with_weather.describe()\n",
      "bpd_with_weather.show()"
     ],
     "language": "python",
     "metadata": {},
     "outputs": [
      {
       "output_type": "stream",
       "stream": "stdout",
       "text": [
        "Merge Daily Weather with Bikes-Per-Day\n",
        "Rows:"
       ]
      },
      {
       "output_type": "stream",
       "stream": "stdout",
       "text": [
        " 139,261 Cols: 10\n",
        "  chunk_type                 chunk_name  count  count_percentage        size  \\\n",
        "0        C0L          Constant Integers     18          5.625000      1.4 KB   \n",
        "1        C0D             Constant Reals     17          5.312500      1.3 KB   \n",
        "2        CBS                       Bits      1          0.312500      614  B   \n",
        "3         C1            1-Byte Integers     29          9.062500    125.2 KB   \n",
        "4        C1N  1-Byte Integers (w/o NAs)     47         14.687499    202.9 KB   \n",
        "5        C1S           1-Byte Fractions     32         10.000000    138.6 KB   \n",
        "6         C2            2-Byte Integers     62         19.375000    531.1 KB   \n",
        "7        CUD               Unique Reals    114         35.625000    987.2 KB   \n",
        "\n",
        "   size_percentage  \n",
        "0         0.070727  \n",
        "1         0.066798  \n",
        "2         0.030157  \n",
        "3         6.295629  \n",
        "4        10.203143  \n",
        "5         6.971954  \n",
        "6        26.711788  \n",
        "7        49.649803  \n",
        "                            size  number_of_rows  number_of_chunks_per_column  \\\n",
        "0  172.16.2.59:54321      1.9 MB          139261                           32   \n",
        "1               mean      1.9 MB          139261                           32   \n",
        "2                min      1.9 MB          139261                           32   \n",
        "3                max      1.9 MB          139261                           32   \n",
        "4             stddev        0  B               0                            0   \n",
        "5              total      1.9 MB          139261                           32   \n",
        "\n",
        "   number_of_chunks  \n",
        "0               320  \n",
        "1               320  \n",
        "2               320  \n",
        "3               320  \n",
        "4                 0  \n",
        "5               320  \n",
        "\n",
        "Column-by-Column Summary:\n",
        "\n"
       ]
      },
      {
       "html": [
        "<div style=\"overflow:auto\"><table style=\"width:50%\"><tr><td></td>\n",
        "<td>Days</td>\n",
        "<td>start station name</td>\n",
        "<td>bikes</td>\n",
        "<td>Month</td>\n",
        "<td>DayOfWeek</td>\n",
        "<td>Humidity Fraction</td>\n",
        "<td>Rain (mm)</td>\n",
        "<td>Temperature (C)</td>\n",
        "<td>WC1</td>\n",
        "<td>Dew Point (C)</td></tr>\n",
        "<tr><td>type</td>\n",
        "<td>int</td>\n",
        "<td>enum</td>\n",
        "<td>int</td>\n",
        "<td>enum</td>\n",
        "<td>enum</td>\n",
        "<td>real</td>\n",
        "<td>real</td>\n",
        "<td>real</td>\n",
        "<td>enum</td>\n",
        "<td>real</td></tr>\n",
        "<tr><td>mins</td>\n",
        "<td>15887.0</td>\n",
        "<td>0.0</td>\n",
        "<td>1.0</td>\n",
        "<td>0.0</td>\n",
        "<td>0.0</td>\n",
        "<td>0.1723</td>\n",
        "<td>0.0</td>\n",
        "<td>-13.9</td>\n",
        "<td>0.0</td>\n",
        "<td>-26.7</td></tr>\n",
        "<tr><td>maxs</td>\n",
        "<td>16314.0</td>\n",
        "<td>339.0</td>\n",
        "<td>680.0</td>\n",
        "<td>11.0</td>\n",
        "<td>6.0</td>\n",
        "<td>1.0</td>\n",
        "<td>8.382</td>\n",
        "<td>34.4</td>\n",
        "<td>10.0</td>\n",
        "<td>23.3</td></tr>\n",
        "<tr><td>sigma</td>\n",
        "<td>123.635133897</td>\n",
        "<td>NaN</td>\n",
        "<td>64.1243887565</td>\n",
        "<td>NaN</td>\n",
        "<td>NaN</td>\n",
        "<td>0.178408938664</td>\n",
        "<td>1.76771960813</td>\n",
        "<td>10.9454511961</td>\n",
        "<td>NaN</td>\n",
        "<td>11.7308194576</td></tr>\n",
        "<tr><td>zero_count</td>\n",
        "<td>0</td>\n",
        "<td>428</td>\n",
        "<td>0</td>\n",
        "<td>9949</td>\n",
        "<td>19880</td>\n",
        "<td>0</td>\n",
        "<td>2909</td>\n",
        "<td>1598</td>\n",
        "<td>324</td>\n",
        "<td>1954</td></tr>\n",
        "<tr><td>missing_count</td>\n",
        "<td>0</td>\n",
        "<td>0</td>\n",
        "<td>0</td>\n",
        "<td>0</td>\n",
        "<td>0</td>\n",
        "<td>981</td>\n",
        "<td>128246</td>\n",
        "<td>981</td>\n",
        "<td>119130</td>\n",
        "<td>981</td></tr></table></div>"
       ],
       "metadata": {},
       "output_type": "display_data",
       "text": [
        "               Days           start station name    bikes          Month    DayOfWeek    Humidity Fraction    Rain (mm)      Temperature (C)    WC1     Dew Point (C)\n",
        "-------------  -------------  --------------------  -------------  -------  -----------  -------------------  -------------  -----------------  ------  ---------------\n",
        "type           int            enum                  int            enum     enum         real                 real           real               enum    real\n",
        "mins           15887.0        0.0                   1.0            0.0      0.0          0.1723               0.0            -13.9              0.0     -26.7\n",
        "maxs           16314.0        339.0                 680.0          11.0     6.0          1.0                  8.382          34.4               10.0    23.3\n",
        "sigma          123.635133897  NaN                   64.1243887565  NaN      NaN          0.178408938664       1.76771960813  10.9454511961      NaN     11.7308194576\n",
        "zero_count     0              428                   0              9949     19880        0                    2909           1598               324     1954\n",
        "missing_count  0              0                     0              0        0            981                  128246         981                119130  981"
       ]
      },
      {
       "output_type": "stream",
       "stream": "stdout",
       "text": [
        "H2OFrame with 139261 rows and 10 columns: \n",
        "    Days start station name  bikes  Month DayOfWeek  Humidity Fraction  \\\n",
        "0  15887    1 Ave & E 15 St     47      6       Sun             0.9354   \n",
        "1  15887    1 Ave & E 18 St     40      6       Sun             0.9354   \n",
        "2  15887    1 Ave & E 30 St     42      6       Sun             0.9354   \n",
        "3  15887    1 Ave & E 44 St     12      6       Sun             0.9354   \n",
        "4  15887   10 Ave & W 28 St     28      6       Sun             0.9354   \n",
        "5  15887   11 Ave & W 27 St     30      6       Sun             0.9354   \n",
        "6  15887   11 Ave & W 41 St     20      6       Sun             0.9354   \n",
        "7  15887   12 Ave & W 40 St     13      6       Sun             0.9354   \n",
        "8  15887    2 Ave & E 31 St     33      6       Sun             0.9354   \n",
        "9  15887    2 Ave & E 58 St     54      6       Sun             0.9354   \n",
        "\n",
        "   Rain (mm)  Temperature (C)   WC1  Dew Point (C)  \n",
        "0      4.572             22.8  rain           21.7  \n",
        "1      4.572             22.8  rain           21.7  \n",
        "2      4.572             22.8  rain           21.7  \n",
        "3      4.572             22.8  rain           21.7  \n",
        "4      4.572             22.8  rain           21.7  \n",
        "5      4.572             22.8  rain           21.7  \n",
        "6      4.572             22.8  rain           21.7  \n",
        "7      4.572             22.8  rain           21.7  \n",
        "8      4.572             22.8  rain           21.7  \n",
        "9      4.572             22.8  rain           21.7  \n"
       ]
      }
     ],
     "prompt_number": 17
    },
    {
     "cell_type": "code",
     "collapsed": false,
     "input": [
      "# 7 - Test/Train split again, model build again, this time with weather\n",
      "split_fit_predict(bpd_with_weather)"
     ],
     "language": "python",
     "metadata": {},
     "outputs": [
      {
       "output_type": "stream",
       "stream": "stdout",
       "text": [
        "Training data has "
       ]
      },
      {
       "output_type": "stream",
       "stream": "stdout",
       "text": [
        "10 columns and 83786 rows, test has 41574 rows, holdout has "
       ]
      },
      {
       "output_type": "stream",
       "stream": "stdout",
       "text": [
        "13901\n",
        "\n"
       ]
      },
      {
       "output_type": "stream",
       "stream": "stdout",
       "text": [
        "\r",
        "gbm Model Build Progress: [                                                  ] 00%"
       ]
      },
      {
       "output_type": "stream",
       "stream": "stdout",
       "text": [
        "\r",
        "gbm Model Build Progress: [                                                  ] 00%"
       ]
      },
      {
       "output_type": "stream",
       "stream": "stdout",
       "text": [
        "\r",
        "gbm Model Build Progress: [                                                  ] 01%"
       ]
      },
      {
       "output_type": "stream",
       "stream": "stdout",
       "text": [
        "\r",
        "gbm Model Build Progress: [#                                                 ] 02%"
       ]
      },
      {
       "output_type": "stream",
       "stream": "stdout",
       "text": [
        "\r",
        "gbm Model Build Progress: [#                                                 ] 03%"
       ]
      },
      {
       "output_type": "stream",
       "stream": "stdout",
       "text": [
        "\r",
        "gbm Model Build Progress: [##                                                ] 04%"
       ]
      },
      {
       "output_type": "stream",
       "stream": "stdout",
       "text": [
        "\r",
        "gbm Model Build Progress: [##                                                ] 05%"
       ]
      },
      {
       "output_type": "stream",
       "stream": "stdout",
       "text": [
        "\r",
        "gbm Model Build Progress: [###                                               ] 06%"
       ]
      },
      {
       "output_type": "stream",
       "stream": "stdout",
       "text": [
        "\r",
        "gbm Model Build Progress: [###                                               ] 07%"
       ]
      },
      {
       "output_type": "stream",
       "stream": "stdout",
       "text": [
        "\r",
        "gbm Model Build Progress: [#####                                             ] 10%"
       ]
      },
      {
       "output_type": "stream",
       "stream": "stdout",
       "text": [
        "\r",
        "gbm Model Build Progress: [########                                          ] 16%"
       ]
      },
      {
       "output_type": "stream",
       "stream": "stdout",
       "text": [
        "\r",
        "gbm Model Build Progress: [###########                                       ] 22%"
       ]
      },
      {
       "output_type": "stream",
       "stream": "stdout",
       "text": [
        "\r",
        "gbm Model Build Progress: [##############                                    ] 29%"
       ]
      },
      {
       "output_type": "stream",
       "stream": "stdout",
       "text": [
        "\r",
        "gbm Model Build Progress: [################                                  ] 33%"
       ]
      },
      {
       "output_type": "stream",
       "stream": "stdout",
       "text": [
        "\r",
        "gbm Model Build Progress: [###################                               ] 39%"
       ]
      },
      {
       "output_type": "stream",
       "stream": "stdout",
       "text": [
        "\r",
        "gbm Model Build Progress: [#######################                           ] 46%"
       ]
      },
      {
       "output_type": "stream",
       "stream": "stdout",
       "text": [
        "\r",
        "gbm Model Build Progress: [##########################                        ] 52%"
       ]
      },
      {
       "output_type": "stream",
       "stream": "stdout",
       "text": [
        "\r",
        "gbm Model Build Progress: [############################                      ] 56%"
       ]
      },
      {
       "output_type": "stream",
       "stream": "stdout",
       "text": [
        "\r",
        "gbm Model Build Progress: [##############################                    ] 60%"
       ]
      },
      {
       "output_type": "stream",
       "stream": "stdout",
       "text": [
        "\r",
        "gbm Model Build Progress: [#################################                 ] 66%"
       ]
      },
      {
       "output_type": "stream",
       "stream": "stdout",
       "text": [
        "\r",
        "gbm Model Build Progress: [####################################              ] 73%"
       ]
      },
      {
       "output_type": "stream",
       "stream": "stdout",
       "text": [
        "\r",
        "gbm Model Build Progress: [#######################################           ] 79%"
       ]
      },
      {
       "output_type": "stream",
       "stream": "stdout",
       "text": [
        "\r",
        "gbm Model Build Progress: [###########################################       ] 86%"
       ]
      },
      {
       "output_type": "stream",
       "stream": "stdout",
       "text": [
        "\r",
        "gbm Model Build Progress: [##############################################    ] 92%"
       ]
      },
      {
       "output_type": "stream",
       "stream": "stdout",
       "text": [
        "\r",
        "gbm Model Build Progress: [################################################# ] 99%"
       ]
      },
      {
       "output_type": "stream",
       "stream": "stdout",
       "text": [
        "\r",
        "gbm Model Build Progress: [##################################################] 100%"
       ]
      },
      {
       "output_type": "stream",
       "stream": "stdout",
       "text": [
        "\n",
        "\n"
       ]
      },
      {
       "output_type": "stream",
       "stream": "stdout",
       "text": [
        "\r",
        "drf Model Build Progress: [                                                  ] 00%"
       ]
      },
      {
       "output_type": "stream",
       "stream": "stdout",
       "text": [
        "\r",
        "drf Model Build Progress: [                                                  ] 00%"
       ]
      },
      {
       "output_type": "stream",
       "stream": "stdout",
       "text": [
        "\r",
        "drf Model Build Progress: [                                                  ] 00%"
       ]
      },
      {
       "output_type": "stream",
       "stream": "stdout",
       "text": [
        "\r",
        "drf Model Build Progress: [                                                  ] 00%"
       ]
      },
      {
       "output_type": "stream",
       "stream": "stdout",
       "text": [
        "\r",
        "drf Model Build Progress: [                                                  ] 00%"
       ]
      },
      {
       "output_type": "stream",
       "stream": "stdout",
       "text": [
        "\r",
        "drf Model Build Progress: [                                                  ] 01%"
       ]
      },
      {
       "output_type": "stream",
       "stream": "stdout",
       "text": [
        "\r",
        "drf Model Build Progress: [#                                                 ] 02%"
       ]
      },
      {
       "output_type": "stream",
       "stream": "stdout",
       "text": [
        "\r",
        "drf Model Build Progress: [#                                                 ] 02%"
       ]
      },
      {
       "output_type": "stream",
       "stream": "stdout",
       "text": [
        "\r",
        "drf Model Build Progress: [#                                                 ] 03%"
       ]
      },
      {
       "output_type": "stream",
       "stream": "stdout",
       "text": [
        "\r",
        "drf Model Build Progress: [##                                                ] 04%"
       ]
      },
      {
       "output_type": "stream",
       "stream": "stdout",
       "text": [
        "\r",
        "drf Model Build Progress: [##                                                ] 05%"
       ]
      },
      {
       "output_type": "stream",
       "stream": "stdout",
       "text": [
        "\r",
        "drf Model Build Progress: [###                                               ] 06%"
       ]
      },
      {
       "output_type": "stream",
       "stream": "stdout",
       "text": [
        "\r",
        "drf Model Build Progress: [####                                              ] 08%"
       ]
      },
      {
       "output_type": "stream",
       "stream": "stdout",
       "text": [
        "\r",
        "drf Model Build Progress: [####                                              ] 08%"
       ]
      },
      {
       "output_type": "stream",
       "stream": "stdout",
       "text": [
        "\r",
        "drf Model Build Progress: [#####                                             ] 10%"
       ]
      },
      {
       "output_type": "stream",
       "stream": "stdout",
       "text": [
        "\r",
        "drf Model Build Progress: [#####                                             ] 11%"
       ]
      },
      {
       "output_type": "stream",
       "stream": "stdout",
       "text": [
        "\r",
        "drf Model Build Progress: [######                                            ] 12%"
       ]
      },
      {
       "output_type": "stream",
       "stream": "stdout",
       "text": [
        "\r",
        "drf Model Build Progress: [######                                            ] 13%"
       ]
      },
      {
       "output_type": "stream",
       "stream": "stdout",
       "text": [
        "\r",
        "drf Model Build Progress: [#######                                           ] 14%"
       ]
      },
      {
       "output_type": "stream",
       "stream": "stdout",
       "text": [
        "\r",
        "drf Model Build Progress: [########                                          ] 16%"
       ]
      },
      {
       "output_type": "stream",
       "stream": "stdout",
       "text": [
        "\r",
        "drf Model Build Progress: [########                                          ] 16%"
       ]
      },
      {
       "output_type": "stream",
       "stream": "stdout",
       "text": [
        "\r",
        "drf Model Build Progress: [#########                                         ] 18%"
       ]
      },
      {
       "output_type": "stream",
       "stream": "stdout",
       "text": [
        "\r",
        "drf Model Build Progress: [#########                                         ] 19%"
       ]
      },
      {
       "output_type": "stream",
       "stream": "stdout",
       "text": [
        "\r",
        "drf Model Build Progress: [##########                                        ] 20%"
       ]
      },
      {
       "output_type": "stream",
       "stream": "stdout",
       "text": [
        "\r",
        "drf Model Build Progress: [##########                                        ] 21%"
       ]
      },
      {
       "output_type": "stream",
       "stream": "stdout",
       "text": [
        "\r",
        "drf Model Build Progress: [###########                                       ] 22%"
       ]
      },
      {
       "output_type": "stream",
       "stream": "stdout",
       "text": [
        "\r",
        "drf Model Build Progress: [###########                                       ] 23%"
       ]
      },
      {
       "output_type": "stream",
       "stream": "stdout",
       "text": [
        "\r",
        "drf Model Build Progress: [############                                      ] 24%"
       ]
      },
      {
       "output_type": "stream",
       "stream": "stdout",
       "text": [
        "\r",
        "drf Model Build Progress: [############                                      ] 25%"
       ]
      },
      {
       "output_type": "stream",
       "stream": "stdout",
       "text": [
        "\r",
        "drf Model Build Progress: [#############                                     ] 26%"
       ]
      },
      {
       "output_type": "stream",
       "stream": "stdout",
       "text": [
        "\r",
        "drf Model Build Progress: [##############                                    ] 28%"
       ]
      },
      {
       "output_type": "stream",
       "stream": "stdout",
       "text": [
        "\r",
        "drf Model Build Progress: [##############                                    ] 29%"
       ]
      },
      {
       "output_type": "stream",
       "stream": "stdout",
       "text": [
        "\r",
        "drf Model Build Progress: [###############                                   ] 30%"
       ]
      },
      {
       "output_type": "stream",
       "stream": "stdout",
       "text": [
        "\r",
        "drf Model Build Progress: [###############                                   ] 31%"
       ]
      },
      {
       "output_type": "stream",
       "stream": "stdout",
       "text": [
        "\r",
        "drf Model Build Progress: [################                                  ] 32%"
       ]
      },
      {
       "output_type": "stream",
       "stream": "stdout",
       "text": [
        "\r",
        "drf Model Build Progress: [################                                  ] 33%"
       ]
      },
      {
       "output_type": "stream",
       "stream": "stdout",
       "text": [
        "\r",
        "drf Model Build Progress: [#################                                 ] 34%"
       ]
      },
      {
       "output_type": "stream",
       "stream": "stdout",
       "text": [
        "\r",
        "drf Model Build Progress: [#################                                 ] 35%"
       ]
      },
      {
       "output_type": "stream",
       "stream": "stdout",
       "text": [
        "\r",
        "drf Model Build Progress: [##################                                ] 36%"
       ]
      },
      {
       "output_type": "stream",
       "stream": "stdout",
       "text": [
        "\r",
        "drf Model Build Progress: [##################                                ] 37%"
       ]
      },
      {
       "output_type": "stream",
       "stream": "stdout",
       "text": [
        "\r",
        "drf Model Build Progress: [###################                               ] 38%"
       ]
      },
      {
       "output_type": "stream",
       "stream": "stdout",
       "text": [
        "\r",
        "drf Model Build Progress: [###################                               ] 39%"
       ]
      },
      {
       "output_type": "stream",
       "stream": "stdout",
       "text": [
        "\r",
        "drf Model Build Progress: [####################                              ] 40%"
       ]
      },
      {
       "output_type": "stream",
       "stream": "stdout",
       "text": [
        "\r",
        "drf Model Build Progress: [#####################                             ] 42%"
       ]
      },
      {
       "output_type": "stream",
       "stream": "stdout",
       "text": [
        "\r",
        "drf Model Build Progress: [#####################                             ] 43%"
       ]
      },
      {
       "output_type": "stream",
       "stream": "stdout",
       "text": [
        "\r",
        "drf Model Build Progress: [######################                            ] 44%"
       ]
      },
      {
       "output_type": "stream",
       "stream": "stdout",
       "text": [
        "\r",
        "drf Model Build Progress: [######################                            ] 44%"
       ]
      },
      {
       "output_type": "stream",
       "stream": "stdout",
       "text": [
        "\r",
        "drf Model Build Progress: [#######################                           ] 46%"
       ]
      },
      {
       "output_type": "stream",
       "stream": "stdout",
       "text": [
        "\r",
        "drf Model Build Progress: [#######################                           ] 47%"
       ]
      },
      {
       "output_type": "stream",
       "stream": "stdout",
       "text": [
        "\r",
        "drf Model Build Progress: [########################                          ] 48%"
       ]
      },
      {
       "output_type": "stream",
       "stream": "stdout",
       "text": [
        "\r",
        "drf Model Build Progress: [########################                          ] 49%"
       ]
      },
      {
       "output_type": "stream",
       "stream": "stdout",
       "text": [
        "\r",
        "drf Model Build Progress: [#########################                         ] 50%"
       ]
      },
      {
       "output_type": "stream",
       "stream": "stdout",
       "text": [
        "\r",
        "drf Model Build Progress: [##########################                        ] 52%"
       ]
      },
      {
       "output_type": "stream",
       "stream": "stdout",
       "text": [
        "\r",
        "drf Model Build Progress: [##########################                        ] 53%"
       ]
      },
      {
       "output_type": "stream",
       "stream": "stdout",
       "text": [
        "\r",
        "drf Model Build Progress: [###########################                       ] 54%"
       ]
      },
      {
       "output_type": "stream",
       "stream": "stdout",
       "text": [
        "\r",
        "drf Model Build Progress: [###########################                       ] 54%"
       ]
      },
      {
       "output_type": "stream",
       "stream": "stdout",
       "text": [
        "\r",
        "drf Model Build Progress: [###########################                       ] 55%"
       ]
      },
      {
       "output_type": "stream",
       "stream": "stdout",
       "text": [
        "\r",
        "drf Model Build Progress: [############################                      ] 57%"
       ]
      },
      {
       "output_type": "stream",
       "stream": "stdout",
       "text": [
        "\r",
        "drf Model Build Progress: [#############################                     ] 58%"
       ]
      },
      {
       "output_type": "stream",
       "stream": "stdout",
       "text": [
        "\r",
        "drf Model Build Progress: [#############################                     ] 59%"
       ]
      },
      {
       "output_type": "stream",
       "stream": "stdout",
       "text": [
        "\r",
        "drf Model Build Progress: [##############################                    ] 60%"
       ]
      },
      {
       "output_type": "stream",
       "stream": "stdout",
       "text": [
        "\r",
        "drf Model Build Progress: [###############################                   ] 62%"
       ]
      },
      {
       "output_type": "stream",
       "stream": "stdout",
       "text": [
        "\r",
        "drf Model Build Progress: [###############################                   ] 63%"
       ]
      },
      {
       "output_type": "stream",
       "stream": "stdout",
       "text": [
        "\r",
        "drf Model Build Progress: [################################                  ] 64%"
       ]
      },
      {
       "output_type": "stream",
       "stream": "stdout",
       "text": [
        "\r",
        "drf Model Build Progress: [################################                  ] 65%"
       ]
      },
      {
       "output_type": "stream",
       "stream": "stdout",
       "text": [
        "\r",
        "drf Model Build Progress: [#################################                 ] 66%"
       ]
      },
      {
       "output_type": "stream",
       "stream": "stdout",
       "text": [
        "\r",
        "drf Model Build Progress: [#################################                 ] 66%"
       ]
      },
      {
       "output_type": "stream",
       "stream": "stdout",
       "text": [
        "\r",
        "drf Model Build Progress: [#################################                 ] 66%"
       ]
      },
      {
       "output_type": "stream",
       "stream": "stdout",
       "text": [
        "\r",
        "drf Model Build Progress: [#################################                 ] 67%"
       ]
      },
      {
       "output_type": "stream",
       "stream": "stdout",
       "text": [
        "\r",
        "drf Model Build Progress: [##################################                ] 68%"
       ]
      },
      {
       "output_type": "stream",
       "stream": "stdout",
       "text": [
        "\r",
        "drf Model Build Progress: [##################################                ] 69%"
       ]
      },
      {
       "output_type": "stream",
       "stream": "stdout",
       "text": [
        "\r",
        "drf Model Build Progress: [###################################               ] 70%"
       ]
      },
      {
       "output_type": "stream",
       "stream": "stdout",
       "text": [
        "\r",
        "drf Model Build Progress: [####################################              ] 72%"
       ]
      },
      {
       "output_type": "stream",
       "stream": "stdout",
       "text": [
        "\r",
        "drf Model Build Progress: [####################################              ] 73%"
       ]
      },
      {
       "output_type": "stream",
       "stream": "stdout",
       "text": [
        "\r",
        "drf Model Build Progress: [#####################################             ] 74%"
       ]
      },
      {
       "output_type": "stream",
       "stream": "stdout",
       "text": [
        "\r",
        "drf Model Build Progress: [#####################################             ] 75%"
       ]
      },
      {
       "output_type": "stream",
       "stream": "stdout",
       "text": [
        "\r",
        "drf Model Build Progress: [######################################            ] 76%"
       ]
      },
      {
       "output_type": "stream",
       "stream": "stdout",
       "text": [
        "\r",
        "drf Model Build Progress: [#######################################           ] 78%"
       ]
      },
      {
       "output_type": "stream",
       "stream": "stdout",
       "text": [
        "\r",
        "drf Model Build Progress: [#######################################           ] 79%"
       ]
      },
      {
       "output_type": "stream",
       "stream": "stdout",
       "text": [
        "\r",
        "drf Model Build Progress: [########################################          ] 80%"
       ]
      },
      {
       "output_type": "stream",
       "stream": "stdout",
       "text": [
        "\r",
        "drf Model Build Progress: [#########################################         ] 82%"
       ]
      },
      {
       "output_type": "stream",
       "stream": "stdout",
       "text": [
        "\r",
        "drf Model Build Progress: [#########################################         ] 83%"
       ]
      },
      {
       "output_type": "stream",
       "stream": "stdout",
       "text": [
        "\r",
        "drf Model Build Progress: [##########################################        ] 84%"
       ]
      },
      {
       "output_type": "stream",
       "stream": "stdout",
       "text": [
        "\r",
        "drf Model Build Progress: [##########################################        ] 85%"
       ]
      },
      {
       "output_type": "stream",
       "stream": "stdout",
       "text": [
        "\r",
        "drf Model Build Progress: [###########################################       ] 86%"
       ]
      },
      {
       "output_type": "stream",
       "stream": "stdout",
       "text": [
        "\r",
        "drf Model Build Progress: [############################################      ] 88%"
       ]
      },
      {
       "output_type": "stream",
       "stream": "stdout",
       "text": [
        "\r",
        "drf Model Build Progress: [############################################      ] 89%"
       ]
      },
      {
       "output_type": "stream",
       "stream": "stdout",
       "text": [
        "\r",
        "drf Model Build Progress: [#############################################     ] 90%"
       ]
      },
      {
       "output_type": "stream",
       "stream": "stdout",
       "text": [
        "\r",
        "drf Model Build Progress: [#############################################     ] 91%"
       ]
      },
      {
       "output_type": "stream",
       "stream": "stdout",
       "text": [
        "\r",
        "drf Model Build Progress: [##############################################    ] 93%"
       ]
      },
      {
       "output_type": "stream",
       "stream": "stdout",
       "text": [
        "\r",
        "drf Model Build Progress: [###############################################   ] 94%"
       ]
      },
      {
       "output_type": "stream",
       "stream": "stdout",
       "text": [
        "\r",
        "drf Model Build Progress: [###############################################   ] 94%"
       ]
      },
      {
       "output_type": "stream",
       "stream": "stdout",
       "text": [
        "\r",
        "drf Model Build Progress: [###############################################   ] 94%"
       ]
      },
      {
       "output_type": "stream",
       "stream": "stdout",
       "text": [
        "\r",
        "drf Model Build Progress: [###############################################   ] 95%"
       ]
      },
      {
       "output_type": "stream",
       "stream": "stdout",
       "text": [
        "\r",
        "drf Model Build Progress: [################################################  ] 96%"
       ]
      },
      {
       "output_type": "stream",
       "stream": "stdout",
       "text": [
        "\r",
        "drf Model Build Progress: [################################################# ] 98%"
       ]
      },
      {
       "output_type": "stream",
       "stream": "stdout",
       "text": [
        "\r",
        "drf Model Build Progress: [################################################# ] 99%"
       ]
      },
      {
       "output_type": "stream",
       "stream": "stdout",
       "text": [
        "\r",
        "drf Model Build Progress: [##################################################] 100%"
       ]
      },
      {
       "output_type": "stream",
       "stream": "stdout",
       "text": [
        "\n",
        "\n"
       ]
      },
      {
       "output_type": "stream",
       "stream": "stdout",
       "text": [
        "\r",
        "glm Model Build Progress: [                                                  ] 00%"
       ]
      },
      {
       "output_type": "stream",
       "stream": "stdout",
       "text": [
        "\r",
        "glm Model Build Progress: [##################################################] 100%"
       ]
      },
      {
       "output_type": "stream",
       "stream": "stdout",
       "text": [
        "\n",
        "\n"
       ]
      },
      {
       "output_type": "stream",
       "stream": "stdout",
       "text": [
        "\r",
        "deeplearning Model Build Progress: [                                                  ] 00%"
       ]
      },
      {
       "output_type": "stream",
       "stream": "stdout",
       "text": [
        "\r",
        "deeplearning Model Build Progress: [                                                  ] 00%"
       ]
      },
      {
       "output_type": "stream",
       "stream": "stdout",
       "text": [
        "\r",
        "deeplearning Model Build Progress: [                                                  ] 00%"
       ]
      },
      {
       "output_type": "stream",
       "stream": "stdout",
       "text": [
        "\r",
        "deeplearning Model Build Progress: [                                                  ] 00%"
       ]
      },
      {
       "output_type": "stream",
       "stream": "stdout",
       "text": [
        "\r",
        "deeplearning Model Build Progress: [                                                  ] 00%"
       ]
      },
      {
       "output_type": "stream",
       "stream": "stdout",
       "text": [
        "\r",
        "deeplearning Model Build Progress: [                                                  ] 00%"
       ]
      },
      {
       "output_type": "stream",
       "stream": "stdout",
       "text": [
        "\r",
        "deeplearning Model Build Progress: [                                                  ] 00%"
       ]
      },
      {
       "output_type": "stream",
       "stream": "stdout",
       "text": [
        "\r",
        "deeplearning Model Build Progress: [#                                                 ] 02%"
       ]
      },
      {
       "output_type": "stream",
       "stream": "stdout",
       "text": [
        "\r",
        "deeplearning Model Build Progress: [#                                                 ] 02%"
       ]
      },
      {
       "output_type": "stream",
       "stream": "stdout",
       "text": [
        "\r",
        "deeplearning Model Build Progress: [#                                                 ] 02%"
       ]
      },
      {
       "output_type": "stream",
       "stream": "stdout",
       "text": [
        "\r",
        "deeplearning Model Build Progress: [##                                                ] 04%"
       ]
      },
      {
       "output_type": "stream",
       "stream": "stdout",
       "text": [
        "\r",
        "deeplearning Model Build Progress: [##                                                ] 04%"
       ]
      },
      {
       "output_type": "stream",
       "stream": "stdout",
       "text": [
        "\r",
        "deeplearning Model Build Progress: [###                                               ] 07%"
       ]
      },
      {
       "output_type": "stream",
       "stream": "stdout",
       "text": [
        "\r",
        "deeplearning Model Build Progress: [####                                              ] 09%"
       ]
      },
      {
       "output_type": "stream",
       "stream": "stdout",
       "text": [
        "\r",
        "deeplearning Model Build Progress: [####                                              ] 09%"
       ]
      },
      {
       "output_type": "stream",
       "stream": "stdout",
       "text": [
        "\r",
        "deeplearning Model Build Progress: [#####                                             ] 11%"
       ]
      },
      {
       "output_type": "stream",
       "stream": "stdout",
       "text": [
        "\r",
        "deeplearning Model Build Progress: [#####                                             ] 11%"
       ]
      },
      {
       "output_type": "stream",
       "stream": "stdout",
       "text": [
        "\r",
        "deeplearning Model Build Progress: [#######                                           ] 14%"
       ]
      },
      {
       "output_type": "stream",
       "stream": "stdout",
       "text": [
        "\r",
        "deeplearning Model Build Progress: [########                                          ] 16%"
       ]
      },
      {
       "output_type": "stream",
       "stream": "stdout",
       "text": [
        "\r",
        "deeplearning Model Build Progress: [########                                          ] 16%"
       ]
      },
      {
       "output_type": "stream",
       "stream": "stdout",
       "text": [
        "\r",
        "deeplearning Model Build Progress: [#########                                         ] 19%"
       ]
      },
      {
       "output_type": "stream",
       "stream": "stdout",
       "text": [
        "\r",
        "deeplearning Model Build Progress: [##########                                        ] 21%"
       ]
      },
      {
       "output_type": "stream",
       "stream": "stdout",
       "text": [
        "\r",
        "deeplearning Model Build Progress: [##########                                        ] 21%"
       ]
      },
      {
       "output_type": "stream",
       "stream": "stdout",
       "text": [
        "\r",
        "deeplearning Model Build Progress: [###########                                       ] 23%"
       ]
      },
      {
       "output_type": "stream",
       "stream": "stdout",
       "text": [
        "\r",
        "deeplearning Model Build Progress: [###########                                       ] 23%"
       ]
      },
      {
       "output_type": "stream",
       "stream": "stdout",
       "text": [
        "\r",
        "deeplearning Model Build Progress: [#############                                     ] 26%"
       ]
      },
      {
       "output_type": "stream",
       "stream": "stdout",
       "text": [
        "\r",
        "deeplearning Model Build Progress: [##############                                    ] 28%"
       ]
      },
      {
       "output_type": "stream",
       "stream": "stdout",
       "text": [
        "\r",
        "deeplearning Model Build Progress: [##############                                    ] 28%"
       ]
      },
      {
       "output_type": "stream",
       "stream": "stdout",
       "text": [
        "\r",
        "deeplearning Model Build Progress: [###############                                   ] 31%"
       ]
      },
      {
       "output_type": "stream",
       "stream": "stdout",
       "text": [
        "\r",
        "deeplearning Model Build Progress: [################                                  ] 33%"
       ]
      },
      {
       "output_type": "stream",
       "stream": "stdout",
       "text": [
        "\r",
        "deeplearning Model Build Progress: [################                                  ] 33%"
       ]
      },
      {
       "output_type": "stream",
       "stream": "stdout",
       "text": [
        "\r",
        "deeplearning Model Build Progress: [#################                                 ] 35%"
       ]
      },
      {
       "output_type": "stream",
       "stream": "stdout",
       "text": [
        "\r",
        "deeplearning Model Build Progress: [###################                               ] 38%"
       ]
      },
      {
       "output_type": "stream",
       "stream": "stdout",
       "text": [
        "\r",
        "deeplearning Model Build Progress: [###################                               ] 38%"
       ]
      },
      {
       "output_type": "stream",
       "stream": "stdout",
       "text": [
        "\r",
        "deeplearning Model Build Progress: [####################                              ] 40%"
       ]
      },
      {
       "output_type": "stream",
       "stream": "stdout",
       "text": [
        "\r",
        "deeplearning Model Build Progress: [#####################                             ] 42%"
       ]
      },
      {
       "output_type": "stream",
       "stream": "stdout",
       "text": [
        "\r",
        "deeplearning Model Build Progress: [#####################                             ] 42%"
       ]
      },
      {
       "output_type": "stream",
       "stream": "stdout",
       "text": [
        "\r",
        "deeplearning Model Build Progress: [######################                            ] 45%"
       ]
      },
      {
       "output_type": "stream",
       "stream": "stdout",
       "text": [
        "\r",
        "deeplearning Model Build Progress: [######################                            ] 45%"
       ]
      },
      {
       "output_type": "stream",
       "stream": "stdout",
       "text": [
        "\r",
        "deeplearning Model Build Progress: [#######################                           ] 47%"
       ]
      },
      {
       "output_type": "stream",
       "stream": "stdout",
       "text": [
        "\r",
        "deeplearning Model Build Progress: [#########################                         ] 50%"
       ]
      },
      {
       "output_type": "stream",
       "stream": "stdout",
       "text": [
        "\r",
        "deeplearning Model Build Progress: [##########################                        ] 52%"
       ]
      },
      {
       "output_type": "stream",
       "stream": "stdout",
       "text": [
        "\r",
        "deeplearning Model Build Progress: [##########################                        ] 52%"
       ]
      },
      {
       "output_type": "stream",
       "stream": "stdout",
       "text": [
        "\r",
        "deeplearning Model Build Progress: [###########################                       ] 54%"
       ]
      },
      {
       "output_type": "stream",
       "stream": "stdout",
       "text": [
        "\r",
        "deeplearning Model Build Progress: [###########################                       ] 54%"
       ]
      },
      {
       "output_type": "stream",
       "stream": "stdout",
       "text": [
        "\r",
        "deeplearning Model Build Progress: [############################                      ] 57%"
       ]
      },
      {
       "output_type": "stream",
       "stream": "stdout",
       "text": [
        "\r",
        "deeplearning Model Build Progress: [#############################                     ] 59%"
       ]
      },
      {
       "output_type": "stream",
       "stream": "stdout",
       "text": [
        "\r",
        "deeplearning Model Build Progress: [#############################                     ] 59%"
       ]
      },
      {
       "output_type": "stream",
       "stream": "stdout",
       "text": [
        "\r",
        "deeplearning Model Build Progress: [###############################                   ] 62%"
       ]
      },
      {
       "output_type": "stream",
       "stream": "stdout",
       "text": [
        "\r",
        "deeplearning Model Build Progress: [################################                  ] 64%"
       ]
      },
      {
       "output_type": "stream",
       "stream": "stdout",
       "text": [
        "\r",
        "deeplearning Model Build Progress: [################################                  ] 64%"
       ]
      },
      {
       "output_type": "stream",
       "stream": "stdout",
       "text": [
        "\r",
        "deeplearning Model Build Progress: [#################################                 ] 66%"
       ]
      },
      {
       "output_type": "stream",
       "stream": "stdout",
       "text": [
        "\r",
        "deeplearning Model Build Progress: [##################################                ] 69%"
       ]
      },
      {
       "output_type": "stream",
       "stream": "stdout",
       "text": [
        "\r",
        "deeplearning Model Build Progress: [##################################                ] 69%"
       ]
      },
      {
       "output_type": "stream",
       "stream": "stdout",
       "text": [
        "\r",
        "deeplearning Model Build Progress: [###################################               ] 71%"
       ]
      },
      {
       "output_type": "stream",
       "stream": "stdout",
       "text": [
        "\r",
        "deeplearning Model Build Progress: [####################################              ] 73%"
       ]
      },
      {
       "output_type": "stream",
       "stream": "stdout",
       "text": [
        "\r",
        "deeplearning Model Build Progress: [######################################            ] 76%"
       ]
      },
      {
       "output_type": "stream",
       "stream": "stdout",
       "text": [
        "\r",
        "deeplearning Model Build Progress: [######################################            ] 76%"
       ]
      },
      {
       "output_type": "stream",
       "stream": "stdout",
       "text": [
        "\r",
        "deeplearning Model Build Progress: [#######################################           ] 78%"
       ]
      },
      {
       "output_type": "stream",
       "stream": "stdout",
       "text": [
        "\r",
        "deeplearning Model Build Progress: [#######################################           ] 78%"
       ]
      },
      {
       "output_type": "stream",
       "stream": "stdout",
       "text": [
        "\r",
        "deeplearning Model Build Progress: [########################################          ] 81%"
       ]
      },
      {
       "output_type": "stream",
       "stream": "stdout",
       "text": [
        "\r",
        "deeplearning Model Build Progress: [#########################################         ] 83%"
       ]
      },
      {
       "output_type": "stream",
       "stream": "stdout",
       "text": [
        "\r",
        "deeplearning Model Build Progress: [##########################################        ] 85%"
       ]
      },
      {
       "output_type": "stream",
       "stream": "stdout",
       "text": [
        "\r",
        "deeplearning Model Build Progress: [##########################################        ] 85%"
       ]
      },
      {
       "output_type": "stream",
       "stream": "stdout",
       "text": [
        "\r",
        "deeplearning Model Build Progress: [############################################      ] 88%"
       ]
      },
      {
       "output_type": "stream",
       "stream": "stdout",
       "text": [
        "\r",
        "deeplearning Model Build Progress: [#############################################     ] 90%"
       ]
      },
      {
       "output_type": "stream",
       "stream": "stdout",
       "text": [
        "\r",
        "deeplearning Model Build Progress: [#############################################     ] 90%"
       ]
      },
      {
       "output_type": "stream",
       "stream": "stdout",
       "text": [
        "\r",
        "deeplearning Model Build Progress: [##############################################    ] 93%"
       ]
      },
      {
       "output_type": "stream",
       "stream": "stdout",
       "text": [
        "\r",
        "deeplearning Model Build Progress: [###############################################   ] 95%"
       ]
      },
      {
       "output_type": "stream",
       "stream": "stdout",
       "text": [
        "\r",
        "deeplearning Model Build Progress: [###############################################   ] 95%"
       ]
      },
      {
       "output_type": "stream",
       "stream": "stdout",
       "text": [
        "\r",
        "deeplearning Model Build Progress: [################################################  ] 97%"
       ]
      },
      {
       "output_type": "stream",
       "stream": "stdout",
       "text": [
        "\r",
        "deeplearning Model Build Progress: [##################################################] 100%"
       ]
      },
      {
       "output_type": "stream",
       "stream": "stdout",
       "text": [
        "\n"
       ]
      },
      {
       "html": [
        "<div style=\"overflow:auto\"><table style=\"width:50%\"><tr><td>Model</td>\n",
        "<td>R2 TRAIN</td>\n",
        "<td>R2 TEST</td>\n",
        "<td>R2 HOLDOUT</td>\n",
        "<td>Model Training Time (s)</td></tr>\n",
        "<tr><td>GBM</td>\n",
        "<td>0.966124549992</td>\n",
        "<td>0.928048318776</td>\n",
        "<td>0.928039182008</td>\n",
        "<td>23.424</td></tr>\n",
        "<tr><td>DRF</td>\n",
        "<td>0.894341905389</td>\n",
        "<td>0.846568473857</td>\n",
        "<td>0.847443079065</td>\n",
        "<td>104.214</td></tr>\n",
        "<tr><td>GLM</td>\n",
        "<td>0.899743454668</td>\n",
        "<td>0.887344288315</td>\n",
        "<td>0.875356174098</td>\n",
        "<td>0.226</td></tr>\n",
        "<tr><td>DL </td>\n",
        "<td>0.934139722026</td>\n",
        "<td>0.915249165282</td>\n",
        "<td>0.915457484406</td>\n",
        "<td>74.397</td></tr></table></div>"
       ],
       "metadata": {},
       "output_type": "display_data",
       "text": [
        "Model      R2 TRAIN    R2 TEST    R2 HOLDOUT    Model Training Time (s)\n",
        "-------  ----------  ---------  ------------  -------------------------\n",
        "GBM        0.966125   0.928048      0.928039                     23.424\n",
        "DRF        0.894342   0.846568      0.847443                    104.214\n",
        "GLM        0.899743   0.887344      0.875356                      0.226\n",
        "DL         0.93414    0.915249      0.915457                     74.397"
       ]
      }
     ],
     "prompt_number": 18
    }
   ],
   "metadata": {}
  }
 ]
}
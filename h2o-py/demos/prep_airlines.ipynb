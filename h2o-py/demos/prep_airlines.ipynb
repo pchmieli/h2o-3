{
 "cells": [
  {
   "cell_type": "code",
   "execution_count": 1,
   "metadata": {
    "collapsed": false
   },
   "outputs": [],
   "source": [
    "#----------------------------------------------------------------------\n",
    "# Purpose:  Condition an Airline dataset by filtering out NAs where the\n",
    "#           departure delay in the input dataset is unknown.\n",
    "#\n",
    "#           Then treat anything longer than minutesOfDelayWeTolerate\n",
    "#           as delayed.\n",
    "#----------------------------------------------------------------------"
   ]
  },
  {
   "cell_type": "code",
   "execution_count": 2,
   "metadata": {
    "collapsed": false
   },
   "outputs": [],
   "source": [
    "import h2o"
   ]
  },
  {
   "cell_type": "code",
   "execution_count": 3,
   "metadata": {
    "collapsed": false
   },
   "outputs": [
    {
     "data": {
      "text/html": [
       "<div style=\"overflow:auto\"><table style=\"width:50%\"><tr><td>H2O cluster uptime: </td>\n",
       "<td>8 seconds 719 milliseconds </td></tr>\n",
       "<tr><td>H2O cluster version: </td>\n",
       "<td>3.1.0.99999</td></tr>\n",
       "<tr><td>H2O cluster name: </td>\n",
       "<td>spencer</td></tr>\n",
       "<tr><td>H2O cluster total nodes: </td>\n",
       "<td>1</td></tr>\n",
       "<tr><td>H2O cluster total memory: </td>\n",
       "<td>14.22 GB</td></tr>\n",
       "<tr><td>H2O cluster total cores: </td>\n",
       "<td>8</td></tr>\n",
       "<tr><td>H2O cluster allowed cores: </td>\n",
       "<td>8</td></tr>\n",
       "<tr><td>H2O cluster healthy: </td>\n",
       "<td>True</td></tr>\n",
       "<tr><td>H2O Connection ip: </td>\n",
       "<td>127.0.0.1</td></tr>\n",
       "<tr><td>H2O Connection port: </td>\n",
       "<td>54321</td></tr></table></div>"
      ],
      "text/plain": [
       "--------------------------  --------------------------\n",
       "H2O cluster uptime:         8 seconds 719 milliseconds\n",
       "H2O cluster version:        3.1.0.99999\n",
       "H2O cluster name:           spencer\n",
       "H2O cluster total nodes:    1\n",
       "H2O cluster total memory:   14.22 GB\n",
       "H2O cluster total cores:    8\n",
       "H2O cluster allowed cores:  8\n",
       "H2O cluster healthy:        True\n",
       "H2O Connection ip:          127.0.0.1\n",
       "H2O Connection port:        54321\n",
       "--------------------------  --------------------------"
      ]
     },
     "metadata": {},
     "output_type": "display_data"
    }
   ],
   "source": [
    "h2o.init()"
   ]
  },
  {
   "cell_type": "code",
   "execution_count": 4,
   "metadata": {
    "collapsed": false
   },
   "outputs": [
    {
     "name": "stdout",
     "output_type": "stream",
     "text": [
      "\n",
      "Parse Progress: [##################################################] 100%\n",
      "Imported /Users/spencer/0xdata/h2o-dev/smalldata/airlines/allyears2k_headers.zip. Parsed 43,978 rows and 31 cols\n"
     ]
    }
   ],
   "source": [
    "air = h2o.import_file(h2o.locate(\"smalldata/airlines/allyears2k_headers.zip\"))"
   ]
  },
  {
   "cell_type": "code",
   "execution_count": 5,
   "metadata": {
    "collapsed": false
   },
   "outputs": [
    {
     "name": "stdout",
     "output_type": "stream",
     "text": [
      "Original dataset rows: 43978, columns: 31\n",
      "New dataset rows: 42892, columns: 31\n"
     ]
    }
   ],
   "source": [
    "numRows, numCols = air.dim\n",
    "print \"Original dataset rows: {0}, columns: {1}\".format(numRows, numCols)\n",
    "\n",
    "x_cols = [\"Month\", \"DayofMonth\", \"DayOfWeek\", \"CRSDepTime\", \"CRSArrTime\", \"UniqueCarrier\", \"CRSElapsedTime\", \"Origin\", \"Dest\", \"Distance\"]\n",
    "y_col = \"SynthDepDelayed\"\n",
    "\n",
    "noDepDelayedNAs = air[air[\"DepDelay\"].isna() == 0]\n",
    "rows, cols = noDepDelayedNAs.dim\n",
    "print \"New dataset rows: {0}, columns: {1}\".format(rows, cols)"
   ]
  },
  {
   "cell_type": "code",
   "execution_count": 6,
   "metadata": {
    "collapsed": false
   },
   "outputs": [
    {
     "data": {
      "text/plain": [
       "<h2o.frame.H2OFrame instance at 0x110ab5dd0>"
      ]
     },
     "execution_count": 6,
     "metadata": {},
     "output_type": "execute_result"
    }
   ],
   "source": [
    "minutesOfDelayWeTolerate = 15\n",
    "noDepDelayedNAs.cbind(noDepDelayedNAs[\"DepDelay\"] > minutesOfDelayWeTolerate)\n",
    "noDepDelayedNAs[numCols] = noDepDelayedNAs[numCols-1].asfactor()\n",
    "noDepDelayedNAs.set_name(numCols,y_col)"
   ]
  },
  {
   "cell_type": "code",
   "execution_count": 7,
   "metadata": {
    "collapsed": false
   },
   "outputs": [
    {
     "name": "stdout",
     "output_type": "stream",
     "text": [
      "\n",
      "gbm Model Build Progress: [##################################################] 100%\n",
      "Model Details\n",
      "=============\n",
      "H2OBinomialModel :  Gradient Boosting Machine\n",
      "Model Key:  GBMModel__a483db33cfbb1f796edd4eebd222436a\n",
      "\n",
      "Model Summary:\n",
      "\n"
     ]
    },
    {
     "data": {
      "text/html": [
       "<div style=\"overflow:auto\"><table style=\"width:50%\"><tr><td></td>\n",
       "<td>number_of_trees</td>\n",
       "<td>model_size_in_bytes</td>\n",
       "<td>min_depth</td>\n",
       "<td>max_depth</td>\n",
       "<td>mean_depth</td>\n",
       "<td>min_leaves</td>\n",
       "<td>max_leaves</td>\n",
       "<td>mean_leaves</td></tr>\n",
       "<tr><td></td>\n",
       "<td>50.0</td>\n",
       "<td>34327.0</td>\n",
       "<td>5.0</td>\n",
       "<td>5.0</td>\n",
       "<td>5.0</td>\n",
       "<td>18.0</td>\n",
       "<td>32.0</td>\n",
       "<td>28.62</td></tr></table></div>"
      ],
      "text/plain": [
       "    number_of_trees    model_size_in_bytes    min_depth    max_depth    mean_depth    min_leaves    max_leaves    mean_leaves\n",
       "--  -----------------  ---------------------  -----------  -----------  ------------  ------------  ------------  -------------\n",
       "    50                 34327                  5            5            5             18            32            28.62"
      ]
     },
     "metadata": {},
     "output_type": "display_data"
    },
    {
     "name": "stdout",
     "output_type": "stream",
     "text": [
      "\n",
      "\n",
      "ModelMetricsBinomial: gbm\n",
      "** Reported on train data. **\n",
      "\n",
      "MSE: 0.191672317646\n",
      "R^2: 0.232789480024\n",
      "LogLoss: 0.565709063956\n",
      "AUC: 0.785424985184\n",
      "Gini: 0.570849970367\n",
      "\n",
      "Confusion Matrix (Act/Pred) for max f1 @ threshold = 0.403241555699:\n",
      "\n"
     ]
    },
    {
     "data": {
      "text/html": [
       "<div style=\"overflow:auto\"><table style=\"width:50%\"><tr><td></td>\n",
       "<td>NO</td>\n",
       "<td>YES</td>\n",
       "<td>Error</td>\n",
       "<td>Rate</td></tr>\n",
       "<tr><td>NO</td>\n",
       "<td>10782.0</td>\n",
       "<td>10105.0</td>\n",
       "<td>0.4838</td>\n",
       "<td> (10105.0/20887.0)</td></tr>\n",
       "<tr><td>YES</td>\n",
       "<td>3166.0</td>\n",
       "<td>18839.0</td>\n",
       "<td>0.1439</td>\n",
       "<td> (3166.0/22005.0)</td></tr>\n",
       "<tr><td>Total</td>\n",
       "<td>13948.0</td>\n",
       "<td>28944.0</td>\n",
       "<td>0.6277</td>\n",
       "<td> (0.6277/42892.0)</td></tr></table></div>"
      ],
      "text/plain": [
       "       NO     YES    Error    Rate\n",
       "-----  -----  -----  -------  -----------------\n",
       "NO     10782  10105  0.4838   (10105.0/20887.0)\n",
       "YES    3166   18839  0.1439   (3166.0/22005.0)\n",
       "Total  13948  28944  0.6277   (0.6277/42892.0)"
      ]
     },
     "metadata": {},
     "output_type": "display_data"
    },
    {
     "name": "stdout",
     "output_type": "stream",
     "text": [
      "\n",
      "Maximum Metrics:\n",
      "\n"
     ]
    },
    {
     "data": {
      "text/html": [
       "<div style=\"overflow:auto\"><table style=\"width:50%\"><tr><td>metric</td>\n",
       "<td>threshold</td>\n",
       "<td>value</td>\n",
       "<td>idx</td></tr>\n",
       "<tr><td>max f1</td>\n",
       "<td>0.403241555699</td>\n",
       "<td>0.739523837563</td>\n",
       "<td>262.0</td></tr>\n",
       "<tr><td>max f2</td>\n",
       "<td>0.23618642176</td>\n",
       "<td>0.847667866646</td>\n",
       "<td>347.0</td></tr>\n",
       "<tr><td>max f0point5</td>\n",
       "<td>0.555177550947</td>\n",
       "<td>0.727363079981</td>\n",
       "<td>182.0</td></tr>\n",
       "<tr><td>max accuracy</td>\n",
       "<td>0.500367989264</td>\n",
       "<td>0.711531287886</td>\n",
       "<td>213.0</td></tr>\n",
       "<tr><td>max precision</td>\n",
       "<td>0.956628787713</td>\n",
       "<td>1.0</td>\n",
       "<td>0.0</td></tr>\n",
       "<tr><td>max absolute_MCC</td>\n",
       "<td>0.500367989264</td>\n",
       "<td>0.422517440941</td>\n",
       "<td>213.0</td></tr>\n",
       "<tr><td>max min_per_class_accuracy</td>\n",
       "<td>0.508279003471</td>\n",
       "<td>0.710106764973</td>\n",
       "<td>208.0</td></tr></table></div>"
      ],
      "text/plain": [
       "metric                      threshold    value     idx\n",
       "--------------------------  -----------  --------  -----\n",
       "max f1                      0.403242     0.739524  262\n",
       "max f2                      0.236186     0.847668  347\n",
       "max f0point5                0.555178     0.727363  182\n",
       "max accuracy                0.500368     0.711531  213\n",
       "max precision               0.956629     1         0\n",
       "max absolute_MCC            0.500368     0.422517  213\n",
       "max min_per_class_accuracy  0.508279     0.710107  208"
      ]
     },
     "metadata": {},
     "output_type": "display_data"
    },
    {
     "name": "stdout",
     "output_type": "stream",
     "text": [
      "\n",
      "Scoring History:\n",
      "\n"
     ]
    },
    {
     "data": {
      "text/html": [
       "<div style=\"overflow:auto\"><table style=\"width:50%\"><tr><td></td>\n",
       "<td>timestamp</td>\n",
       "<td>duration</td>\n",
       "<td>number_of_trees</td>\n",
       "<td>training_MSE</td>\n",
       "<td>training_logloss</td>\n",
       "<td>training_AUC</td>\n",
       "<td>training_classification_error</td></tr>\n",
       "<tr><td></td>\n",
       "<td>2015-06-27 16:04:33</td>\n",
       "<td> 0.530 sec</td>\n",
       "<td>1.0</td>\n",
       "<td>0.244362718818</td>\n",
       "<td>0.681856365041</td>\n",
       "<td>0.692503203228</td>\n",
       "<td>0.413433740558</td></tr>\n",
       "<tr><td></td>\n",
       "<td>2015-06-27 16:04:33</td>\n",
       "<td> 0.638 sec</td>\n",
       "<td>2.0</td>\n",
       "<td>0.239916651394</td>\n",
       "<td>0.672915590718</td>\n",
       "<td>0.700446640048</td>\n",
       "<td>0.410845845379</td></tr>\n",
       "<tr><td></td>\n",
       "<td>2015-06-27 16:04:33</td>\n",
       "<td> 0.830 sec</td>\n",
       "<td>3.0</td>\n",
       "<td>0.235500532554</td>\n",
       "<td>0.663968419806</td>\n",
       "<td>0.712157594375</td>\n",
       "<td>0.391051944419</td></tr>\n",
       "<tr><td></td>\n",
       "<td>2015-06-27 16:04:33</td>\n",
       "<td> 1.110 sec</td>\n",
       "<td>4.0</td>\n",
       "<td>0.231804609045</td>\n",
       "<td>0.656396477835</td>\n",
       "<td>0.717626212056</td>\n",
       "<td>0.387158444465</td></tr>\n",
       "<tr><td></td>\n",
       "<td>2015-06-27 16:04:33</td>\n",
       "<td> 1.171 sec</td>\n",
       "<td>5.0</td>\n",
       "<td>0.228800636054</td>\n",
       "<td>0.6502322442</td>\n",
       "<td>0.72532125588</td>\n",
       "<td>0.377040007461</td></tr>\n",
       "<tr><td>---</td>\n",
       "<td>---</td>\n",
       "<td>---</td>\n",
       "<td>---</td>\n",
       "<td>---</td>\n",
       "<td>---</td>\n",
       "<td>---</td>\n",
       "<td>---</td></tr>\n",
       "<tr><td></td>\n",
       "<td>2015-06-27 16:04:36</td>\n",
       "<td> 3.707 sec</td>\n",
       "<td>46.0</td>\n",
       "<td>0.192702949749</td>\n",
       "<td>0.568262274753</td>\n",
       "<td>0.783297917543</td>\n",
       "<td>0.305744661009</td></tr>\n",
       "<tr><td></td>\n",
       "<td>2015-06-27 16:04:36</td>\n",
       "<td> 3.764 sec</td>\n",
       "<td>47.0</td>\n",
       "<td>0.192356272166</td>\n",
       "<td>0.567420552198</td>\n",
       "<td>0.783956222296</td>\n",
       "<td>0.304695514315</td></tr>\n",
       "<tr><td></td>\n",
       "<td>2015-06-27 16:04:36</td>\n",
       "<td> 3.827 sec</td>\n",
       "<td>48.0</td>\n",
       "<td>0.192133014116</td>\n",
       "<td>0.566843152503</td>\n",
       "<td>0.784388534154</td>\n",
       "<td>0.302387391588</td></tr>\n",
       "<tr><td></td>\n",
       "<td>2015-06-27 16:04:36</td>\n",
       "<td> 3.889 sec</td>\n",
       "<td>49.0</td>\n",
       "<td>0.191914492469</td>\n",
       "<td>0.566305526738</td>\n",
       "<td>0.78487237245</td>\n",
       "<td>0.310151077124</td></tr>\n",
       "<tr><td></td>\n",
       "<td>2015-06-27 16:04:36</td>\n",
       "<td> 3.946 sec</td>\n",
       "<td>50.0</td>\n",
       "<td>0.191672317646</td>\n",
       "<td>0.565709063956</td>\n",
       "<td>0.785424985184</td>\n",
       "<td>0.309405017253</td></tr></table></div>"
      ],
      "text/plain": [
       "     timestamp            duration    number_of_trees    training_MSE    training_logloss    training_AUC    training_classification_error\n",
       "---  -------------------  ----------  -----------------  --------------  ------------------  --------------  -------------------------------\n",
       "     2015-06-27 16:04:33  0.530 sec   1.0                0.244362718818  0.681856365041      0.692503203228  0.413433740558\n",
       "     2015-06-27 16:04:33  0.638 sec   2.0                0.239916651394  0.672915590718      0.700446640048  0.410845845379\n",
       "     2015-06-27 16:04:33  0.830 sec   3.0                0.235500532554  0.663968419806      0.712157594375  0.391051944419\n",
       "     2015-06-27 16:04:33  1.110 sec   4.0                0.231804609045  0.656396477835      0.717626212056  0.387158444465\n",
       "     2015-06-27 16:04:33  1.171 sec   5.0                0.228800636054  0.6502322442        0.72532125588   0.377040007461\n",
       "---  ---                  ---         ---                ---             ---                 ---             ---\n",
       "     2015-06-27 16:04:36  3.707 sec   46.0               0.192702949749  0.568262274753      0.783297917543  0.305744661009\n",
       "     2015-06-27 16:04:36  3.764 sec   47.0               0.192356272166  0.567420552198      0.783956222296  0.304695514315\n",
       "     2015-06-27 16:04:36  3.827 sec   48.0               0.192133014116  0.566843152503      0.784388534154  0.302387391588\n",
       "     2015-06-27 16:04:36  3.889 sec   49.0               0.191914492469  0.566305526738      0.78487237245   0.310151077124\n",
       "     2015-06-27 16:04:36  3.946 sec   50.0               0.191672317646  0.565709063956      0.785424985184  0.309405017253"
      ]
     },
     "metadata": {},
     "output_type": "display_data"
    },
    {
     "name": "stdout",
     "output_type": "stream",
     "text": [
      "\n",
      "Variable Importances:\n",
      "\n"
     ]
    },
    {
     "data": {
      "text/html": [
       "<div style=\"overflow:auto\"><table style=\"width:50%\"><tr><td>variable</td>\n",
       "<td>relative_importance</td>\n",
       "<td>scaled_importance</td>\n",
       "<td>percentage</td></tr>\n",
       "<tr><td>Origin</td>\n",
       "<td>6861.91552734</td>\n",
       "<td>1.0</td>\n",
       "<td>0.410239582441</td></tr>\n",
       "<tr><td>Dest</td>\n",
       "<td>4551.00048828</td>\n",
       "<td>0.663225956389</td>\n",
       "<td>0.272081539413</td></tr>\n",
       "<tr><td>DayofMonth</td>\n",
       "<td>2025.62207031</td>\n",
       "<td>0.295197756696</td>\n",
       "<td>0.121101804445</td></tr>\n",
       "<tr><td>UniqueCarrier</td>\n",
       "<td>1279.63720703</td>\n",
       "<td>0.186483963834</td>\n",
       "<td>0.076503103455</td></tr>\n",
       "<tr><td>CRSArrTime</td>\n",
       "<td>714.227416992</td>\n",
       "<td>0.104085719818</td>\n",
       "<td>0.0427000822361</td></tr>\n",
       "<tr><td>CRSDepTime</td>\n",
       "<td>647.433837891</td>\n",
       "<td>0.0943517645052</td>\n",
       "<td>0.0387068284732</td></tr>\n",
       "<tr><td>DayOfWeek</td>\n",
       "<td>408.238586426</td>\n",
       "<td>0.0594933856004</td>\n",
       "<td>0.0244065416667</td></tr>\n",
       "<tr><td>CRSElapsedTime</td>\n",
       "<td>134.11907959</td>\n",
       "<td>0.0195454285404</td>\n",
       "<td>0.00801830844303</td></tr>\n",
       "<tr><td>Month</td>\n",
       "<td>73.2622070312</td>\n",
       "<td>0.010676640763</td>\n",
       "<td>0.00437998064847</td></tr>\n",
       "<tr><td>Distance</td>\n",
       "<td>31.148765564</td>\n",
       "<td>0.00453936884531</td>\n",
       "<td>0.00186222877964</td></tr></table></div>"
      ],
      "text/plain": [
       "variable        relative_importance    scaled_importance    percentage\n",
       "--------------  ---------------------  -------------------  ------------\n",
       "Origin          6861.92                1                    0.41024\n",
       "Dest            4551                   0.663226             0.272082\n",
       "DayofMonth      2025.62                0.295198             0.121102\n",
       "UniqueCarrier   1279.64                0.186484             0.0765031\n",
       "CRSArrTime      714.227                0.104086             0.0427001\n",
       "CRSDepTime      647.434                0.0943518            0.0387068\n",
       "DayOfWeek       408.239                0.0594934            0.0244065\n",
       "CRSElapsedTime  134.119                0.0195454            0.00801831\n",
       "Month           73.2622                0.0106766            0.00437998\n",
       "Distance        31.1488                0.00453937           0.00186223"
      ]
     },
     "metadata": {},
     "output_type": "display_data"
    }
   ],
   "source": [
    "gbm = h2o.gbm(x=noDepDelayedNAs[x_cols], y=noDepDelayedNAs[y_col], distribution=\"bernoulli\")\n",
    "gbm.show()"
   ]
  }
 ],
 "metadata": {
  "kernelspec": {
   "display_name": "Python 2",
   "language": "python",
   "name": "python2"
  },
  "language_info": {
   "codemirror_mode": {
    "name": "ipython",
    "version": 2
   },
   "file_extension": ".py",
   "mimetype": "text/x-python",
   "name": "python",
   "nbconvert_exporter": "python",
   "pygments_lexer": "ipython2",
   "version": "2.7.9"
  }
 },
 "nbformat": 4,
 "nbformat_minor": 0
}
